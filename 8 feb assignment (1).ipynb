{
 "cells": [
  {
   "cell_type": "code",
   "execution_count": 25,
   "id": "9c1915ee-38af-498c-b5f1-5e54fed3f0b1",
   "metadata": {},
   "outputs": [
    {
     "name": "stdout",
     "output_type": "stream",
     "text": [
      "The mileage is 30kmph\n",
      "The mileage is 27kmph \n",
      "The mileage is 25kmph \n",
      "The mileage is 24kmph \n"
     ]
    }
   ],
   "source": [
    "'''Q1. What is Abstraction in OOps? Explain with an example.'''\n",
    "\"\"\"Ans: Abstraction is used to hide the internal functionality of the function from the users. \n",
    "The users only interact with the basic implementation of the function, but inner working is hidden.\n",
    "User is familiar with that \"what function does\" but they don't know \"how it does.\"\"\"\n",
    "# Python program demonstrate  \n",
    "# abstract base class work   \n",
    "from abc import ABC, abstractmethod   \n",
    "class Car(ABC):   \n",
    "    def mileage(self):   \n",
    "        pass  \n",
    "  \n",
    "class Tesla(Car):   \n",
    "    def mileage(self):   \n",
    "        print(\"The mileage is 30kmph\")   \n",
    "class Suzuki(Car):   \n",
    "    def mileage(self):   \n",
    "        print(\"The mileage is 25kmph \")   \n",
    "class Duster(Car):   \n",
    "     def mileage(self):   \n",
    "          print(\"The mileage is 24kmph \")   \n",
    "  \n",
    "class Renault(Car):   \n",
    "    def mileage(self):   \n",
    "            print(\"The mileage is 27kmph \")   \n",
    "          \n",
    "\n",
    "t= Tesla ()   \n",
    "t.mileage()   \n",
    "  \n",
    "r = Renault()   \n",
    "r.mileage()   \n",
    "  \n",
    "s = Suzuki()   \n",
    "s.mileage()   \n",
    "d = Duster()   \n",
    "d.mileage()  "
   ]
  },
  {
   "cell_type": "code",
   "execution_count": 26,
   "id": "e8552a63-02e3-4814-a036-b0191d2d3901",
   "metadata": {},
   "outputs": [
    {
     "name": "stdout",
     "output_type": "stream",
     "text": [
      "the cost of this course is 3500\n",
      "the cost of this course is 5000\n"
     ]
    }
   ],
   "source": [
    "#Differentiate between Abstraction and Encapsulation. Explain with an example.\n",
    "'''Abstraction is a way of representing some specific data. \n",
    "Encapsulation is a way of hiding the complexity of something and exposing only the parts you wish to expose'''\n",
    "from abc import ABC, abstractmethod   #this is abstraction\n",
    "class course(ABC):   \n",
    "    def cost(self):   \n",
    "        pass\n",
    "class data_science:\n",
    "    def cost(self):\n",
    "        return 'the cost of this course is 3500'\n",
    "class webdev:\n",
    "    def cost(self):\n",
    "        return 'the cost of this course is 5000'\n",
    "a = data_science()\n",
    "print(a.cost())\n",
    "b = webdev()\n",
    "print(b.cost())\n"
   ]
  },
  {
   "cell_type": "code",
   "execution_count": 29,
   "id": "8d9507c1-126e-4c0a-a7bb-66a5b3a458cd",
   "metadata": {},
   "outputs": [],
   "source": [
    "\"\"\"__self.ballance variable is hide for the user.user can't change the value of this \n",
    "                                        variable because they don't know this variable exist or not.\n",
    "                                        id want to know their ballance they have to perform the methode which\n",
    "                                        are written in class this is called encapsulation\"\"\"\n",
    "class a:\n",
    "    def __init__(self,ballance):\n",
    "        self.__ballance = ballance   \n",
    "    def get_ballance(self):\n",
    "        return self.__ballance"
   ]
  },
  {
   "cell_type": "code",
   "execution_count": 30,
   "id": "3c213bd7-9447-4f61-a362-4e2bbe16cbd0",
   "metadata": {},
   "outputs": [],
   "source": [
    "obj = a(5000)"
   ]
  },
  {
   "cell_type": "code",
   "execution_count": 31,
   "id": "16e9e0b9-d4db-4fc4-81ac-cb999a7ef7a5",
   "metadata": {},
   "outputs": [
    {
     "data": {
      "text/plain": [
       "5000"
      ]
     },
     "execution_count": 31,
     "metadata": {},
     "output_type": "execute_result"
    }
   ],
   "source": [
    "obj.get_ballance()"
   ]
  },
  {
   "cell_type": "code",
   "execution_count": 32,
   "id": "d5ab66f1-3d70-44e1-8de0-e044c138e99f",
   "metadata": {},
   "outputs": [
    {
     "data": {
      "text/plain": [
       "'Ans :abc module is nothing but abstract based class .\\nThe main goal of the abstract base class is to provide a standardized way to test whether an object adheres to a given specification. \\nIt can also prevent any attempt to instantiate a subclass that doesn’t override a particular method in the superclass. And finally,\\nusing an abstract class, a class can derive identity from another class without any object inheritance.'"
      ]
     },
     "execution_count": 32,
     "metadata": {},
     "output_type": "execute_result"
    }
   ],
   "source": [
    "#Q3. What is abc module in python? Why is it used?\n",
    "\"\"\"Ans :abc module is nothing but abstract based class .\n",
    "The main goal of the abstract base class is to provide a standardized way to test whether an object adheres to a given specification. \n",
    "It can also prevent any attempt to instantiate a subclass that doesn’t override a particular method in the superclass. And finally,\n",
    "using an abstract class, a class can derive identity from another class without any object inheritance.\"\"\"\n"
   ]
  },
  {
   "cell_type": "code",
   "execution_count": 33,
   "id": "657a434d-1fd5-4291-9740-a510fad05564",
   "metadata": {},
   "outputs": [
    {
     "data": {
      "text/plain": [
       "'Ans : using abc module we can achive  data abstraction in python'"
      ]
     },
     "execution_count": 33,
     "metadata": {},
     "output_type": "execute_result"
    }
   ],
   "source": [
    "#Q4. How can we achieve data abstraction?\n",
    "'''Ans : using abc module we can achive  data abstraction in python'''\n"
   ]
  },
  {
   "cell_type": "code",
   "execution_count": 34,
   "id": "3fa30398-4efb-4b6c-8284-48ef19fd4a02",
   "metadata": {},
   "outputs": [
    {
     "data": {
      "text/plain": [
       "\"yes we can create an instance of an abstract class but if we decorate the abstract class\\n    for maitain the structure of a other classes then it will don't show any output \""
      ]
     },
     "execution_count": 34,
     "metadata": {},
     "output_type": "execute_result"
    }
   ],
   "source": [
    "#Q5. Can we create an instance of an abstract class? Explain your answer.\n",
    "from abc import ABC, abstractmethod \n",
    "class course(ABC):   \n",
    "    def cost(self):   \n",
    "        pass\n",
    "obj = course()\n",
    "obj.cost()\n",
    "'''yes we can create an instance of an abstract class but if we decorate the abstract class\n",
    "    for maitain the structure of a other classes then it will don't show any output '''"
   ]
  },
  {
   "cell_type": "code",
   "execution_count": null,
   "id": "82417951-1779-402e-836f-aac066e4c5f5",
   "metadata": {},
   "outputs": [],
   "source": []
  }
 ],
 "metadata": {
  "kernelspec": {
   "display_name": "Python 3 (ipykernel)",
   "language": "python",
   "name": "python3"
  },
  "language_info": {
   "codemirror_mode": {
    "name": "ipython",
    "version": 3
   },
   "file_extension": ".py",
   "mimetype": "text/x-python",
   "name": "python",
   "nbconvert_exporter": "python",
   "pygments_lexer": "ipython3",
   "version": "3.10.8"
  }
 },
 "nbformat": 4,
 "nbformat_minor": 5
}
