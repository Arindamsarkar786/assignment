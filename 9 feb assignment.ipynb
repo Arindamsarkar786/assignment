{
 "cells": [
  {
   "cell_type": "code",
   "execution_count": 8,
   "id": "dd123e2d-52e3-45a1-85ed-14f437f1de77",
   "metadata": {},
   "outputs": [],
   "source": [
    "'''Q1, Create a vehicle class with an init method having instance variables\n",
    "as name_of_vehicle, max_speedand average_of_vehicle.'''\n",
    "class vehicle:\n",
    "    def __init__(self,name_of_vehicle,max_speed,average_of_vehicle):\n",
    "        self.name_of_vehicle=name_of_vehicle\n",
    "        self.max_speed = max_speed\n",
    "        self.average_of_vehicle=average_of_vehicle\n",
    "        \n",
    "'''Q2. Create a child class car from the vehicle class \n",
    "created in Que 1, which will inherit the vehicle class.\n",
    "Create a method named seating_capacity which takes capacity as an \n",
    "argument and returns the name of\n",
    "the vehicle and its seating capacity. '''       \n",
    "class car(vehicle):\n",
    "    def seating_capacity(self,capacity):\n",
    "        self.capacity=capacity\n",
    "        return self.name_of_vehicle,self.capacity\n",
    "        \n",
    "        \n",
    "    "
   ]
  },
  {
   "cell_type": "code",
   "execution_count": 9,
   "id": "64f4fd6f-2db1-44fd-a2d1-9ec88f4478b4",
   "metadata": {},
   "outputs": [],
   "source": [
    "range_rover = car('range_rover',300,14)"
   ]
  },
  {
   "cell_type": "code",
   "execution_count": 10,
   "id": "387ecd37-cef1-4a96-afea-c53a5b644198",
   "metadata": {},
   "outputs": [
    {
     "data": {
      "text/plain": [
       "('range_rover', 10)"
      ]
     },
     "execution_count": 10,
     "metadata": {},
     "output_type": "execute_result"
    }
   ],
   "source": [
    "range_rover.seating_capacity(10)"
   ]
  },
  {
   "cell_type": "code",
   "execution_count": 13,
   "id": "31046b3b-1008-491e-aecc-26ded98c2974",
   "metadata": {},
   "outputs": [
    {
     "name": "stdout",
     "output_type": "stream",
     "text": [
      "this is my first class\n",
      "this is my second class\n"
     ]
    }
   ],
   "source": [
    "'''What is multiple inheritance? Write a python code to demonstrate multiple inheritance.'''\n",
    "'''Ans : multiple inheritance means that  one at a time one child class can inherit multiple\n",
    "parent class'''\n",
    "class a:\n",
    "    def tes1(self):\n",
    "        return 'this is my first class'\n",
    "class b:\n",
    "    def tes2(self):\n",
    "        return 'this is my second class'\n",
    "class c(a,b):\n",
    "    pass\n",
    "\n",
    "\n",
    "obj = c()\n",
    "print(obj.tes1())\n",
    "print(obj.tes2())\n"
   ]
  },
  {
   "cell_type": "code",
   "execution_count": 14,
   "id": "2a92082c-36ad-4447-a564-191efcb55cea",
   "metadata": {},
   "outputs": [],
   "source": [
    "'''Q4. What are getter and setter in python? \n",
    "Create a class and create a getter and a setter method in this\n",
    "class.'''\n",
    "'''Ans : Getter: A method that allows you to access an attribute in a given class.\n",
    "    Setter: A method that allows you to set or mutate the value of an attribute in a class.'''\n",
    "class pwskill:\n",
    "    def __init__(self,course_price,course_name):\n",
    "        self.__course_price = course_price\n",
    "        self.course_name = course_name\n",
    "    @property\n",
    "    def course_access(self):\n",
    "        return self.__course_price\n",
    "    @course_access.setter\n",
    "    def course_price_set(self,price):\n",
    "        if price <=3500:\n",
    "            pass\n",
    "        else:\n",
    "            self.__course_price = price\n",
    "    @course_access.deleter\n",
    "    def delete_course_price(self):\n",
    "        del self.__course_price"
   ]
  },
  {
   "cell_type": "code",
   "execution_count": 15,
   "id": "37d627f8-7245-4639-894f-07bb8b7d12d6",
   "metadata": {},
   "outputs": [],
   "source": [
    "'''Q5.What is method overriding in python?\n",
    "Write a python code to demonstrate method overriding.'''\n",
    "'''Ans : methode overriding is nothing but it is way to overridding any value into the class variable \n",
    "and it can reassign from out side the class through methode which is \n",
    "we wrote into that class using cls in python'''\n",
    "\n",
    "class pwskills2:\n",
    "    mobile_num = 9144365073 #this is class variable\n",
    "    def __init__(self,name,email):\n",
    "        self.name = name\n",
    "        self.email = email\n",
    "    @classmethod\n",
    "    def change_no(cls,mobile):\n",
    "        pwskills2.mobile_num = mobile\n",
    "        \n",
    "    @classmethod\n",
    "    def details(cls,name,email):\n",
    "        return cls(name,email)\n",
    "    def student_setails(self):\n",
    "        print(self.name,self.email,pwskills2.mobile_num)"
   ]
  },
  {
   "cell_type": "code",
   "execution_count": 16,
   "id": "2de18dcc-79b0-4162-8869-7d7cd45499db",
   "metadata": {},
   "outputs": [],
   "source": [
    "obj = pwskills2('arindam','arindam@gmail.com')"
   ]
  },
  {
   "cell_type": "code",
   "execution_count": 17,
   "id": "e7848612-ef85-4652-aa4b-c470f9423ca8",
   "metadata": {},
   "outputs": [
    {
     "name": "stdout",
     "output_type": "stream",
     "text": [
      "arindam arindam@gmail.com 9144365073\n"
     ]
    }
   ],
   "source": [
    "obj.student_setails()"
   ]
  },
  {
   "cell_type": "code",
   "execution_count": 22,
   "id": "545163ca-9365-462a-ada8-c656282380e8",
   "metadata": {},
   "outputs": [],
   "source": [
    "pw = pwskills2.details('rohan','rohan@gmail.com')"
   ]
  },
  {
   "cell_type": "code",
   "execution_count": 24,
   "id": "a6d5a326-5ac2-4093-a9ba-183c8f2e6ab3",
   "metadata": {},
   "outputs": [
    {
     "name": "stdout",
     "output_type": "stream",
     "text": [
      "rohan rohan@gmail.com 9144365073\n"
     ]
    }
   ],
   "source": [
    "pw.student_setails()\n"
   ]
  },
  {
   "cell_type": "code",
   "execution_count": null,
   "id": "da47cded-2c02-41be-a971-ca4daade29d6",
   "metadata": {},
   "outputs": [],
   "source": []
  }
 ],
 "metadata": {
  "kernelspec": {
   "display_name": "Python 3 (ipykernel)",
   "language": "python",
   "name": "python3"
  },
  "language_info": {
   "codemirror_mode": {
    "name": "ipython",
    "version": 3
   },
   "file_extension": ".py",
   "mimetype": "text/x-python",
   "name": "python",
   "nbconvert_exporter": "python",
   "pygments_lexer": "ipython3",
   "version": "3.10.8"
  }
 },
 "nbformat": 4,
 "nbformat_minor": 5
}
