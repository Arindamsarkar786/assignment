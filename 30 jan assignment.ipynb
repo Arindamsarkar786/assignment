{
 "cells": [
  {
   "cell_type": "code",
   "execution_count": 4,
   "id": "7a32f81b-c66f-412a-b134-f867a8c209c2",
   "metadata": {},
   "outputs": [
    {
     "name": "stdin",
     "output_type": "stream",
     "text": [
      "Enter your marks 30\n"
     ]
    },
    {
     "name": "stdout",
     "output_type": "stream",
     "text": [
      "Grade : D\n"
     ]
    }
   ],
   "source": [
    "# 1.write a program to accept percentage from the user and dispaly the grade\n",
    "marks = int(input('Enter your marks'))\n",
    "if marks>90:\n",
    "    print('Grade : A')\n",
    "elif marks>80 and marks<=90:\n",
    "    print('Grade : B')\n",
    "elif marks >= 60 and marks<=80:\n",
    "    print('grade : C')\n",
    "elif marks<60:\n",
    "    print(\"Grade : D\")"
   ]
  },
  {
   "cell_type": "code",
   "execution_count": 8,
   "id": "079e18d1-4e68-4a9e-9b09-9a3f190e39e2",
   "metadata": {},
   "outputs": [
    {
     "name": "stdin",
     "output_type": "stream",
     "text": [
      "Enter cost price 30000\n"
     ]
    },
    {
     "name": "stdout",
     "output_type": "stream",
     "text": [
      "1500\n"
     ]
    }
   ],
   "source": [
    "# 2.write a program to accept the cost price of a bike and display the road tax to be paid\n",
    "cost_price = int(input('Enter cost price'))\n",
    "if cost_price > 100000:\n",
    "    road_tax = 15*cost_price//100\n",
    "elif cost_price > 50000 and cost_price<=100000:\n",
    "    road_tax = 10*cost_price//100\n",
    "else:\n",
    "    road_tax = 5*cost_price//100\n",
    "print(road_tax)"
   ]
  },
  {
   "cell_type": "code",
   "execution_count": 14,
   "id": "6e0b35cd-3c46-44d5-9548-752f8fbfc8f2",
   "metadata": {},
   "outputs": [
    {
     "name": "stdin",
     "output_type": "stream",
     "text": [
      "Enter city name jaipur\n"
     ]
    },
    {
     "name": "stdout",
     "output_type": "stream",
     "text": [
      "Jai mohal\n"
     ]
    }
   ],
   "source": [
    "# 3. Accept any city name from the user and display monuments of that city\n",
    "monuments = {'Delhi':'Red fort','Agra':'Taj mahal','Jaipur':'Jai mohal'}\n",
    "city = input(\"Enter city name\").capitalize()\n",
    "print(monuments[city])"
   ]
  },
  {
   "cell_type": "code",
   "execution_count": 17,
   "id": "736d8741-2a85-467e-afff-63f62ed2e528",
   "metadata": {},
   "outputs": [
    {
     "name": "stdin",
     "output_type": "stream",
     "text": [
      "enter the number 10000\n"
     ]
    },
    {
     "name": "stdout",
     "output_type": "stream",
     "text": [
      "7\n"
     ]
    }
   ],
   "source": [
    "# 4. how many times a given number can be divided by 3 before it is less than or equal to 10\n",
    "number = int(input('enter the number'))\n",
    "count = 0\n",
    "while(number>10):\n",
    "    number = number//3\n",
    "    count+=1\n",
    "print(count)"
   ]
  },
  {
   "cell_type": "code",
   "execution_count": 2,
   "id": "dec0ebd5-4e6f-4db0-9871-75b4c31131b7",
   "metadata": {},
   "outputs": [
    {
     "name": "stdout",
     "output_type": "stream",
     "text": [
      "1\n",
      "2\n",
      "3\n",
      "4\n"
     ]
    }
   ],
   "source": [
    "# 5. why and when to use while loop in python give a detail description with example\n",
    "#Ans : when we have to continue the loop till condition become false .then we use while loop\n",
    "run = True\n",
    "i = 1\n",
    "while run:\n",
    "    print(i)\n",
    "    i+=1\n",
    "    if i>4:\n",
    "        run = False\n"
   ]
  },
  {
   "cell_type": "code",
   "execution_count": 1,
   "id": "3c2437c3-577e-467f-9046-a793328f5054",
   "metadata": {
    "jp-MarkdownHeadingCollapsed": true,
    "tags": []
   },
   "outputs": [
    {
     "name": "stdin",
     "output_type": "stream",
     "text": [
      " 5\n"
     ]
    },
    {
     "name": "stdout",
     "output_type": "stream",
     "text": [
      "* * * * * \n",
      "* * * * \n",
      "* * * \n",
      "* * \n",
      "* \n"
     ]
    }
   ],
   "source": [
    "#6. use nested while loop to print 3 different pattern\n",
    "#first one is triangle\n",
    "i = int(input())\n",
    "while i>0:\n",
    "    j = 0\n",
    "    while(j<i):\n",
    "        print(\"*\",end=' ')\n",
    "        j+=1\n",
    "    print()\n",
    "    i=i-1\n",
    "\n",
    "\n"
   ]
  },
  {
   "cell_type": "code",
   "execution_count": 2,
   "id": "7f9c435f-8fee-44b1-b780-46c8a83c4894",
   "metadata": {},
   "outputs": [
    {
     "name": "stdin",
     "output_type": "stream",
     "text": [
      " 5\n"
     ]
    },
    {
     "name": "stdout",
     "output_type": "stream",
     "text": [
      "* \n",
      "* * \n",
      "* * * \n",
      "* * * * \n",
      "* * * * * \n"
     ]
    }
   ],
   "source": [
    "n = int(input())\n",
    "i =1\n",
    "while i<=n:\n",
    "    j=1\n",
    "    while j<= i:\n",
    "        print('*',end = ' ')\n",
    "        j=j+1\n",
    "    print()\n",
    "    i+=1"
   ]
  },
  {
   "cell_type": "code",
   "execution_count": 4,
   "id": "46c4a24f-2788-4316-9403-0b308f48ddff",
   "metadata": {},
   "outputs": [
    {
     "name": "stdin",
     "output_type": "stream",
     "text": [
      " 5\n"
     ]
    },
    {
     "name": "stdout",
     "output_type": "stream",
     "text": [
      "* * * * * \n",
      "* * * * * \n",
      "* * * * * \n",
      "* * * * * \n",
      "* * * * * \n"
     ]
    }
   ],
   "source": [
    "n = int(input())\n",
    "i =1\n",
    "while i<=n:\n",
    "    j=1\n",
    "    while j<= n:\n",
    "        print('*',end = ' ')\n",
    "        j=j+1\n",
    "    print()\n",
    "    i+=1"
   ]
  },
  {
   "cell_type": "code",
   "execution_count": 6,
   "id": "651d48a2-5811-4ddb-84e8-86dfa6d02074",
   "metadata": {},
   "outputs": [
    {
     "name": "stdout",
     "output_type": "stream",
     "text": [
      "10\n",
      "9\n",
      "8\n",
      "7\n",
      "6\n",
      "5\n",
      "4\n",
      "3\n",
      "2\n",
      "1\n"
     ]
    }
   ],
   "source": [
    "# 7. reverse a while loop to display numbers from 10 to 1\n",
    "number = 10\n",
    "while number >=1:\n",
    "    print(number)\n",
    "    number-=1"
   ]
  },
  {
   "cell_type": "code",
   "execution_count": 7,
   "id": "50db84dc-f9ba-4f8d-bbd8-66b0c6e5c668",
   "metadata": {},
   "outputs": [
    {
     "name": "stdout",
     "output_type": "stream",
     "text": [
      "10\n",
      "9\n",
      "8\n",
      "7\n",
      "6\n",
      "5\n",
      "4\n",
      "3\n",
      "2\n",
      "1\n"
     ]
    }
   ],
   "source": [
    "# 8 . reverse a while loop to display numbers from 10 to 1\n",
    "number = 10\n",
    "while number >=1:\n",
    "    print(number)\n",
    "    number-=1"
   ]
  },
  {
   "cell_type": "code",
   "execution_count": null,
   "id": "c042bb3b-2ce1-4e12-b408-3074720da004",
   "metadata": {},
   "outputs": [],
   "source": []
  }
 ],
 "metadata": {
  "kernelspec": {
   "display_name": "Python 3 (ipykernel)",
   "language": "python",
   "name": "python3"
  },
  "language_info": {
   "codemirror_mode": {
    "name": "ipython",
    "version": 3
   },
   "file_extension": ".py",
   "mimetype": "text/x-python",
   "name": "python",
   "nbconvert_exporter": "python",
   "pygments_lexer": "ipython3",
   "version": "3.10.8"
  }
 },
 "nbformat": 4,
 "nbformat_minor": 5
}
