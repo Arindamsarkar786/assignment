{
  "nbformat": 4,
  "nbformat_minor": 0,
  "metadata": {
    "colab": {
      "provenance": []
    },
    "kernelspec": {
      "name": "python3",
      "display_name": "Python 3"
    },
    "language_info": {
      "name": "python"
    }
  },
  "cells": [
    {
      "cell_type": "code",
      "execution_count": null,
      "metadata": {
        "id": "UyQ2tJtc87LR"
      },
      "outputs": [],
      "source": []
    },
    {
      "cell_type": "markdown",
      "source": [
        "<aside>\n",
        "💡 **Question 1**\n",
        "\n",
        "A permutation perm of n + 1 integers of all the integers in the range [0, n] can be represented as a string s of length n where:\n",
        "\n",
        "- s[i] == 'I' if perm[i] < perm[i + 1], and\n",
        "- s[i] == 'D' if perm[i] > perm[i + 1].\n",
        "\n",
        "Given a string s, reconstruct the permutation perm and return it. If there are multiple valid permutations perm, return **any of them**.\n",
        "\n",
        "**Example 1:**\n",
        "\n",
        "**Input:** s = \"IDID\"\n",
        "\n",
        "**Output:**\n",
        "\n",
        "[0,4,1,3,2]\n",
        "\n",
        "</aside>"
      ],
      "metadata": {
        "id": "JOvqSp3i9IKO"
      }
    },
    {
      "cell_type": "code",
      "source": [
        "class Solution:\n",
        "    def diStringMatch(self, s: str) -> List[int]:\n",
        "        ans =[]\n",
        "        se = set()\n",
        "        n = len(s)\n",
        "        for i in range(n+1):\n",
        "            se.add(i)\n",
        "\n",
        "\n",
        "        for i in s:\n",
        "            if i=='I':\n",
        "                ans.append(min(se))\n",
        "                se.remove(min(se))\n",
        "            else:\n",
        "                ans.append(max(se))\n",
        "                se.remove(max(se))\n",
        "        ans.append(min(se))\n",
        "        return ans\n"
      ],
      "metadata": {
        "id": "kVHp1wnZ9JKT"
      },
      "execution_count": null,
      "outputs": []
    },
    {
      "cell_type": "markdown",
      "source": [
        "<aside>\n",
        "💡 **Question 2**\n",
        "\n",
        "You are given an m x n integer matrix matrix with the following two properties:\n",
        "\n",
        "- Each row is sorted in non-decreasing order.\n",
        "- The first integer of each row is greater than the last integer of the previous row.\n",
        "\n",
        "Given an integer target, return true *if* target *is in* matrix *or* false *otherwise*.\n",
        "\n",
        "You must write a solution in O(log(m * n)) time complexity.\n",
        "\n",
        "**Example 1:**\n",
        "\n",
        "</aside>"
      ],
      "metadata": {
        "id": "pwL525A-9RVN"
      }
    },
    {
      "cell_type": "code",
      "source": [
        "class Solution:\n",
        "    def searchMatrix(self, matrix: List[List[int]], target: int) -> bool:\n",
        "        n = len(matrix[0])\n",
        "        m = len(matrix)\n",
        "        left,right=0,n*m-1\n",
        "        while left<=right:\n",
        "            mid = left +(right-left)//2\n",
        "            mid_ele = matrix[mid//n][mid%n]\n",
        "            if target == mid_ele:\n",
        "                return True\n",
        "            elif target<mid_ele:\n",
        "                right = mid-1\n",
        "            else:\n",
        "                left=mid+1\n",
        "        return False"
      ],
      "metadata": {
        "id": "PLO6y2Nb9Wig"
      },
      "execution_count": null,
      "outputs": []
    },
    {
      "cell_type": "markdown",
      "source": [
        "<aside>\n",
        "💡 **Question 3**\n",
        "\n",
        "Given an array of integers arr, return *true if and only if it is a valid mountain array*.\n",
        "\n",
        "Recall that arr is a mountain array if and only if:\n",
        "\n",
        "- arr.length >= 3\n",
        "- There exists some i with 0 < i < arr.length - 1 such that:\n",
        "    - arr[0] < arr[1] < ... < arr[i - 1] < arr[i]\n",
        "    - arr[i] > arr[i + 1] > ... > arr[arr.length - 1]\n",
        "</aside>"
      ],
      "metadata": {
        "id": "975nl5nVAEXu"
      }
    },
    {
      "cell_type": "code",
      "source": [
        "class Solution:\n",
        "    def validMountainArray(self, a: List[int]) -> bool:\n",
        "        start, end, L = 0, -1, len(a)\n",
        "\n",
        "        while start < L-1 and a[start] < a[start+1]:\n",
        "            start += 1\n",
        "        while end > -L and a[end] < a[end-1]:\n",
        "            end -= 1\n",
        "\n",
        "        return start == end + L and 0 < start and end < -1\n"
      ],
      "metadata": {
        "id": "qjQcTXkbAFM8"
      },
      "execution_count": null,
      "outputs": []
    },
    {
      "cell_type": "markdown",
      "source": [
        "<aside>\n",
        "💡 **Question 4**\n",
        "\n",
        "Given a binary array nums, return *the maximum length of a contiguous subarray with an equal number of* 0 *and* 1.\n",
        "\n",
        "**Example 1:**\n",
        "\n",
        "**Input:** nums = [0,1]\n",
        "\n",
        "**Output:** 2\n",
        "\n",
        "**Explanation:**\n",
        "\n",
        "[0, 1] is the longest contiguous subarray with an equal number of 0 and 1.\n",
        "\n",
        "</aside>"
      ],
      "metadata": {
        "id": "u8hyHBK9b3cJ"
      }
    },
    {
      "cell_type": "code",
      "source": [
        "class Solution:\n",
        "    def findMaxLength(self, nums: List[int]) -> int:\n",
        "        count = {0: -1}\n",
        "        max_len = count_diff = 0\n",
        "\n",
        "        for i, num in enumerate(nums):\n",
        "            count_diff += 1 if num == 1 else -1\n",
        "            if count_diff in count:\n",
        "                max_len = max(max_len, i - count[count_diff])\n",
        "            else:\n",
        "                count[count_diff] = i\n",
        "\n",
        "        return max_len\n",
        "\n"
      ],
      "metadata": {
        "id": "xA60JSSSb4NR"
      },
      "execution_count": null,
      "outputs": []
    },
    {
      "cell_type": "markdown",
      "source": [
        "<aside>\n",
        "💡 **Question 5**\n",
        "\n",
        "The **product sum** of two equal-length arrays a and b is equal to the sum of a[i] * b[i] for all 0 <= i < a.length (**0-indexed**).\n",
        "\n",
        "- For example, if a = [1,2,3,4] and b = [5,2,3,1], the **product sum** would be 1*5 + 2*2 + 3*3 + 4*1 = 22.\n",
        "\n",
        "Given two arrays nums1 and nums2 of length n, return *the **minimum product sum** if you are allowed to **rearrange** the **order** of the elements in* nums1.\n",
        "\n",
        "**Example 1:**\n",
        "\n",
        "**Input:** nums1 = [5,3,4,2], nums2 = [4,2,2,5]\n",
        "\n",
        "**Output:** 40\n",
        "\n",
        "**Explanation:**\n",
        "\n",
        "We can rearrange nums1 to become [3,5,4,2]. The product sum of [3,5,4,2] and [4,2,2,5] is 3*4 + 5*2 + 4*2 + 2*5 = 40.\n",
        "\n",
        "</aside>"
      ],
      "metadata": {
        "id": "gEe_Uls9i4XM"
      }
    },
    {
      "cell_type": "code",
      "source": [],
      "metadata": {
        "id": "j5ZE9vYmi95x"
      },
      "execution_count": null,
      "outputs": []
    }
  ]
}