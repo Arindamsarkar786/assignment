{
 "cells": [
  {
   "cell_type": "raw",
   "id": "56308814-bd3c-4201-82f4-1a2a3ced6827",
   "metadata": {},
   "source": [
    "'''Q1. Which function is used to open a file? What are the different modes of opening a file? \n",
    "Explain each mode\n",
    "of file opening.'''\n",
    "Ans : open() function is used to open a file. different mode of opening files are 'r','w','a','rb','wb'\n",
    "'a': used for extend content into the file\n",
    "'r': used for the read the file content\n",
    "'w': used for the terminate previous content and write new content\n",
    "'rb': used for read binary coded content\n",
    "'wb': used for write binary coded content\n"
   ]
  },
  {
   "cell_type": "raw",
   "id": "80e890dd-63c7-4bb7-a99b-d95ddf501ac1",
   "metadata": {},
   "source": [
    "#Why close() function is used? Why is it important to close a file?\n",
    "Ans: close() function is used for close the current open file .if you does not close the file whatever you write in your file it doesn't show you at all"
   ]
  },
  {
   "cell_type": "raw",
   "id": "26c94569-9352-45c6-b749-9136849d1891",
   "metadata": {},
   "source": [
    "Q3. Write a python program to create a text file. Write ‘I want to become a Data Scientist’ in that file. Then\n",
    "close the file. Open this file and read the content of the file.\n",
    "\n"
   ]
  },
  {
   "cell_type": "code",
   "execution_count": 14,
   "id": "70253f5e-d88a-45fb-9e15-33286500a486",
   "metadata": {},
   "outputs": [
    {
     "data": {
      "text/plain": [
       "33"
      ]
     },
     "execution_count": 14,
     "metadata": {},
     "output_type": "execute_result"
    }
   ],
   "source": [
    "f =open('arindam9.txt','w')\n",
    "f.write('I want to become a Data Scientist')\n",
    "    "
   ]
  },
  {
   "cell_type": "code",
   "execution_count": 15,
   "id": "e9914844-d1da-431b-997f-ef48dc75f7b8",
   "metadata": {},
   "outputs": [],
   "source": [
    "f.close()"
   ]
  },
  {
   "cell_type": "code",
   "execution_count": 17,
   "id": "52a45d26-4aa7-42b4-9da1-e3573a4772e8",
   "metadata": {},
   "outputs": [],
   "source": [
    "f = open('arindam9.txt','r')\n"
   ]
  },
  {
   "cell_type": "code",
   "execution_count": 18,
   "id": "ba08c4a2-4ec9-43f4-bf0c-66f6ce90f6da",
   "metadata": {},
   "outputs": [
    {
     "name": "stdout",
     "output_type": "stream",
     "text": [
      "I want to become a Data Scientist\n"
     ]
    }
   ],
   "source": [
    "print(f.read())"
   ]
  },
  {
   "cell_type": "raw",
   "id": "7e7e1116-c861-4792-8501-d62cced4ca70",
   "metadata": {},
   "source": [
    "Q4. Explain the following with python code: read(), readline() and readlines().\n",
    "\n",
    "\n"
   ]
  },
  {
   "cell_type": "code",
   "execution_count": 20,
   "id": "62bf0c69-0977-4eac-8307-e0bd5cda0d19",
   "metadata": {},
   "outputs": [
    {
     "data": {
      "text/plain": [
       "'The read() method reads\\nthe entire contents of a file and returns it as a string.\\n\\n\\nThe readline() method reads a single line from a file and returns it as\\na string. This means that if you use readline, you can read the contents of a file line by line,\\nwhich can be useful for processing large files that do not fit in memory.\\n\\n\\nThe readline method reads a single line from a file and returns it as a string, \\nwhile the readlines() method reads the entire contents of a file and returns it as a list of strings, \\nwhere each element of the list is a single line of the file.'"
      ]
     },
     "execution_count": 20,
     "metadata": {},
     "output_type": "execute_result"
    }
   ],
   "source": [
    "'''The read() method reads\n",
    "the entire contents of a file and returns it as a string.\n",
    "\n",
    "\n",
    "The readline() method reads a single line from a file and returns it as\n",
    "a string. This means that if you use readline, you can read the contents of a file line by line,\n",
    "which can be useful for processing large files that do not fit in memory.\n",
    "\n",
    "\n",
    "The readline method reads a single line from a file and returns it as a string, \n",
    "while the readlines() method reads the entire contents of a file and returns it as a list of strings, \n",
    "where each element of the list is a single line of the file.'''"
   ]
  },
  {
   "cell_type": "code",
   "execution_count": 22,
   "id": "c101e468-44ba-45d2-867a-ec73b7c3feff",
   "metadata": {},
   "outputs": [
    {
     "data": {
      "text/plain": [
       "'Ans: In Python, with statement is used in exception handling to make the code cleaner and much more readable.\\nIt simplifies the management of common resources like file streams. \\nObserve the following code example on how the use of with statement makes code cleaner. \\nthe advantage of with statement for opening file their is no need to close file it automaticcaly closed the file'"
      ]
     },
     "execution_count": 22,
     "metadata": {},
     "output_type": "execute_result"
    }
   ],
   "source": [
    "'''Q5. Explain why with statement is used with open(). What is the advantage of using with statement and\n",
    "open() together?'''\n",
    "'''Ans: In Python, with statement is used in exception handling to make the code cleaner and much more readable.\n",
    "It simplifies the management of common resources like file streams. \n",
    "Observe the following code example on how the use of with statement makes code cleaner. \n",
    "the advantage of with statement for opening file their is no need to close file it automaticcaly closed the file'''"
   ]
  },
  {
   "cell_type": "raw",
   "id": "ddb6a584-ee88-4746-8ed9-1c7d74ffb308",
   "metadata": {},
   "source": [
    "'''Q6. Explain the write() and writelines() functions.Give a suitable example.'''\n",
    "Ans:The write() function will write the content in the file without adding any extra characters.\n",
    "This function writes the content of a list to a file.\n"
   ]
  },
  {
   "cell_type": "code",
   "execution_count": null,
   "id": "6465108c-45ed-46dc-a56f-4d6a6a84aae3",
   "metadata": {},
   "outputs": [],
   "source": []
  }
 ],
 "metadata": {
  "kernelspec": {
   "display_name": "Python 3 (ipykernel)",
   "language": "python",
   "name": "python3"
  },
  "language_info": {
   "codemirror_mode": {
    "name": "ipython",
    "version": 3
   },
   "file_extension": ".py",
   "mimetype": "text/x-python",
   "name": "python",
   "nbconvert_exporter": "python",
   "pygments_lexer": "ipython3",
   "version": "3.10.8"
  }
 },
 "nbformat": 4,
 "nbformat_minor": 5
}
