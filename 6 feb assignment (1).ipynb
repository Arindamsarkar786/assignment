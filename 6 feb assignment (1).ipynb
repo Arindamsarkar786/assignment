{
 "cells": [
  {
   "cell_type": "code",
   "execution_count": 24,
   "id": "76bce805-a9bc-43dd-8cc3-016a671ae275",
   "metadata": {},
   "outputs": [],
   "source": [
    "def product_of_numeric_value(lis):\n",
    "    li = []\n",
    "    for i in lis:\n",
    "        if type(i)==int:\n",
    "            li.append(i)\n",
    "        if type(i)==list or type(i)==tuple or  type(i)==set:\n",
    "            for j in i:\n",
    "                if type(j)==int:\n",
    "                    li.append(j)\n",
    "        if type(i)==dict:\n",
    "            to = i.keys()\n",
    "            too = i.values()\n",
    "            for m in to:\n",
    "                if type(m)==int:\n",
    "                    li.append(m)\n",
    "                if type(i)==list or type(i)==tuple or  type(i)==set:\n",
    "                    for j in i:\n",
    "                        if type(j)==int:\n",
    "                            li.append(j)\n",
    "            for lee in too:\n",
    "                if type(lee)==int:\n",
    "                    li.append(lee)\n",
    "                if type(lee)== list or type(lee)==tuple or type(lee)==set:\n",
    "                    for n in lee:\n",
    "                        li.append(n)\n",
    "                \n",
    "                \n",
    "        \n",
    "    produc_list = 1\n",
    "    for i in li:\n",
    "        produc_list*=i\n",
    "    return li,produc_list"
   ]
  },
  {
   "cell_type": "code",
   "execution_count": 25,
   "id": "9b7905dd-2484-4170-8c7e-33cf42fb9a67",
   "metadata": {},
   "outputs": [
    {
     "data": {
      "text/plain": [
       "([1,\n",
       "  2,\n",
       "  3,\n",
       "  4,\n",
       "  44,\n",
       "  55,\n",
       "  66,\n",
       "  34,\n",
       "  56,\n",
       "  78,\n",
       "  89,\n",
       "  34,\n",
       "  1,\n",
       "  2,\n",
       "  3,\n",
       "  1,\n",
       "  4,\n",
       "  34,\n",
       "  55,\n",
       "  67,\n",
       "  78,\n",
       "  89,\n",
       "  45,\n",
       "  22,\n",
       "  61,\n",
       "  34,\n",
       "  56],\n",
       " 4134711838987085478833841242112000)"
      ]
     },
     "execution_count": 25,
     "metadata": {},
     "output_type": "execute_result"
    }
   ],
   "source": [
    "list1 = [1,2,3,4, [44,55,66, True], False, (34,56,78,89,34), {1,2,3,3,2,1}, {1:34, \"key2\": [55, 67, 78, 89], 4: (45,\n",
    "22, 61, 34)}, [56, 'data science'], 'Machine Learning']\n",
    "product_of_numeric_value(list1)"
   ]
  },
  {
   "cell_type": "code",
   "execution_count": 39,
   "id": "0ffc1e39-89fc-4199-ac96-b3fe4721e20c",
   "metadata": {},
   "outputs": [
    {
     "name": "stdin",
     "output_type": "stream",
     "text": [
      "enter your message arindam- sarkar.\n"
     ]
    },
    {
     "name": "stdout",
     "output_type": "stream",
     "text": [
      "zirmwzn-$hzipzi.\n"
     ]
    }
   ],
   "source": [
    "'''Q2. Write a python program for encrypting a message sent to you by your friend. The logic of encryption\n",
    "should be such that, for a the output should be z. For b, the output should be y. For c, the output should\n",
    "be x respectively. Also, the whitespace should be replaced with a dollar sign. Keep the punctuation\n",
    "marks unchanged.'''\n",
    "message = input('enter your message').lower()\n",
    "lis = [chr(i) for i in range(97,123)]\n",
    "lis1 = [chr(i) for i in range(122,96,-1)]\n",
    "\n",
    "encrypt_message= ''\n",
    "for i in message:\n",
    "    if i == ' ':\n",
    "        encrypt_message+='$'\n",
    "    elif i in lis:\n",
    "        number = lis.index(i)\n",
    "        encrypt_message+=lis1[number]\n",
    "    else:\n",
    "        encrypt_message+=i\n",
    "print(encrypt_message)\n"
   ]
  },
  {
   "cell_type": "code",
   "execution_count": null,
   "id": "1b8a8623-28d8-4d4a-8560-f37871e916f7",
   "metadata": {},
   "outputs": [],
   "source": []
  }
 ],
 "metadata": {
  "kernelspec": {
   "display_name": "Python 3 (ipykernel)",
   "language": "python",
   "name": "python3"
  },
  "language_info": {
   "codemirror_mode": {
    "name": "ipython",
    "version": 3
   },
   "file_extension": ".py",
   "mimetype": "text/x-python",
   "name": "python",
   "nbconvert_exporter": "python",
   "pygments_lexer": "ipython3",
   "version": "3.10.8"
  }
 },
 "nbformat": 4,
 "nbformat_minor": 5
}
