{
  "nbformat": 4,
  "nbformat_minor": 0,
  "metadata": {
    "colab": {
      "provenance": []
    },
    "kernelspec": {
      "name": "python3",
      "display_name": "Python 3"
    },
    "language_info": {
      "name": "python"
    }
  },
  "cells": [
    {
      "cell_type": "code",
      "execution_count": null,
      "metadata": {
        "id": "iZ0Jh9nPgbNy"
      },
      "outputs": [],
      "source": []
    },
    {
      "cell_type": "markdown",
      "source": [],
      "metadata": {
        "id": "nP77AIMbliaQ"
      }
    },
    {
      "cell_type": "markdown",
      "source": [
        "<aside>\n",
        "💡 **Question 1**\n",
        "\n",
        "Given two strings s and t, *determine if they are isomorphic*.\n",
        "\n",
        "Two strings s and t are isomorphic if the characters in s can be replaced to get t.\n",
        "\n",
        "All occurrences of a character must be replaced with another character while preserving the order of characters. No two characters may map to the same character, but a character may map to itself.\n",
        "\n",
        "**Example 1:**\n",
        "\n",
        "**Input:** s = \"egg\", t = \"add\"\n",
        "\n",
        "**Output:** true\n",
        "\n",
        "</aside>"
      ],
      "metadata": {
        "id": "u7nXWpz3g3NB"
      }
    },
    {
      "cell_type": "code",
      "source": [
        "class Solution:\n",
        "    def isIsomorphic(self, s: str, t: str) -> bool:\n",
        "        return [*map(s.index, s)] == [*map(t.index, t)]"
      ],
      "metadata": {
        "id": "nRF9OaqVg5w6"
      },
      "execution_count": null,
      "outputs": []
    },
    {
      "cell_type": "markdown",
      "source": [
        "<aside>\n",
        "💡 **Question 2**\n",
        "\n",
        "Given a string num which represents an integer, return true *if* num *is a **strobogrammatic number***.\n",
        "\n",
        "A **strobogrammatic number** is a number that looks the same when rotated 180 degrees (looked at upside down).\n",
        "\n",
        "**Example 1:**\n",
        "\n",
        "**Input:** num = \"69\"\n",
        "\n",
        "**Output:**\n",
        "\n",
        "true\n",
        "\n",
        "</aside>"
      ],
      "metadata": {
        "id": "gK4r7bOpg-Lk"
      }
    },
    {
      "cell_type": "code",
      "source": [
        "\n",
        "def is_strobogrammatic(num):\n",
        "\n",
        "    strobogrammatic_digits = {'0': '0', '1': '1', '6': '9', '8': '8', '9': '6'}\n",
        "\n",
        "\n",
        "    left = 0\n",
        "    right = len(num) - 1\n",
        "\n",
        "\n",
        "    while left <= right:\n",
        "\n",
        "        if num[left] not in strobogrammatic_digits or num[right] not in strobogrammatic_digits:\n",
        "            return False\n",
        "\n",
        "\n",
        "        if num[left] != strobogrammatic_digits[num[right]]:\n",
        "            return False\n",
        "\n",
        "\n",
        "        left += 1\n",
        "        right -= 1\n",
        "\n",
        "\n",
        "    return True\n",
        "\n",
        "\n"
      ],
      "metadata": {
        "id": "8p0rA1vehB7E"
      },
      "execution_count": null,
      "outputs": []
    },
    {
      "cell_type": "code",
      "source": [],
      "metadata": {
        "id": "mtgU1-63h04Y"
      },
      "execution_count": null,
      "outputs": []
    },
    {
      "cell_type": "markdown",
      "source": [
        "<aside>\n",
        "💡 **Question 3**\n",
        "\n",
        "Given two non-negative integers, num1 and num2 represented as string, return *the sum of* num1 *and* num2 *as a string*.\n",
        "\n",
        "You must solve the problem without using any built-in library for handling large integers (such as BigInteger). You must also not convert the inputs to integers directly.\n",
        "\n",
        "**Example 1:**\n",
        "\n",
        "**Input:** num1 = \"11\", num2 = \"123\"\n",
        "\n",
        "**Output:**\n",
        "\n",
        "\"134\"\n",
        "\n",
        "</aside>"
      ],
      "metadata": {
        "id": "d1tW37Kzicb1"
      }
    },
    {
      "cell_type": "code",
      "source": [
        "class Solution:\n",
        "    def addStrings(self, num1: str, num2: str) -> str:\n",
        "        sys.set_int_max_str_digits(10000)\n",
        "        return str(int(num1)+int(num2))"
      ],
      "metadata": {
        "id": "09_yXt03idDa"
      },
      "execution_count": null,
      "outputs": []
    },
    {
      "cell_type": "markdown",
      "source": [
        "<aside>\n",
        "💡 **Question 4**\n",
        "\n",
        "Given a string s, reverse the order of characters in each word within a sentence while still preserving whitespace and initial word order.\n",
        "\n",
        "**Example 1:**\n",
        "\n",
        "**Input:** s = \"Let's take LeetCode contest\"\n",
        "\n",
        "**Output:** \"s'teL ekat edoCteeL tsetnoc\"\n",
        "\n",
        "</aside>\n"
      ],
      "metadata": {
        "id": "7uPojZEql8wg"
      }
    },
    {
      "cell_type": "code",
      "source": [
        "class Solution:\n",
        "    def reverseWords(self, s: str) -> str:\n",
        "        p = ''\n",
        "        for i in s.split(' '):\n",
        "            p+=i[::-1]\n",
        "            p+=' '\n",
        "\n",
        "        return p[:-1]"
      ],
      "metadata": {
        "id": "9BM-c8Cbl_t4"
      },
      "execution_count": null,
      "outputs": []
    },
    {
      "cell_type": "markdown",
      "source": [
        "<aside>\n",
        "💡 **Question 5**\n",
        "\n",
        "Given a string s and an integer k, reverse the first k characters for every 2k characters counting from the start of the string.\n",
        "\n",
        "If there are fewer than k characters left, reverse all of them. If there are less than 2k but greater than or equal to k characters, then reverse the first k characters and leave the other as original.\n",
        "\n",
        "**Example 1:**\n",
        "\n",
        "**Input:** s = \"abcdefg\", k = 2\n",
        "\n",
        "**Output:**\n",
        "\n",
        "\"bacdfeg\"\n",
        "\n",
        "</aside>"
      ],
      "metadata": {
        "id": "BIAPy0Rkne_P"
      }
    },
    {
      "cell_type": "code",
      "source": [
        "class Solution:\n",
        "    def reverseStr(self, s: str, k: int) -> str:\n",
        "        chars = list(s)\n",
        "\n",
        "    # Iterate through the string with steps of 2k\n",
        "        for i in range(0, len(chars), 2 * k):\n",
        "        # Reverse the first k characters\n",
        "            chars[i:i + k] = chars[i:i + k][::-1]\n",
        "\n",
        "    # Convert the list back to a string and return it\n",
        "        return ''.join(chars)\n",
        "\n",
        "\n",
        "\n"
      ],
      "metadata": {
        "id": "AnrkY5d2nh1j"
      },
      "execution_count": null,
      "outputs": []
    },
    {
      "cell_type": "markdown",
      "source": [
        "<aside>\n",
        "💡 **Question 6**\n",
        "\n",
        "Given two strings s and goal, return true *if and only if* s *can become* goal *after some number of **shifts** on* s.\n",
        "\n",
        "A **shift** on s consists of moving the leftmost character of s to the rightmost position.\n",
        "\n",
        "- For example, if s = \"abcde\", then it will be \"bcdea\" after one shift.\n",
        "\n",
        "**Example 1:**\n",
        "\n",
        "**Input:** s = \"abcde\", goal = \"cdeab\"\n",
        "\n",
        "**Output:**\n",
        "\n",
        "true\n",
        "\n",
        "</aside>"
      ],
      "metadata": {
        "id": "NQUJxAB7qvD1"
      }
    },
    {
      "cell_type": "code",
      "source": [
        "class Solution:\n",
        "    def rotateString(self, s: str, goal: str) -> bool:\n",
        "        for i in s:\n",
        "            if s==goal:\n",
        "                return True\n",
        "            s = s[1:]+s[0]\n",
        "        return False"
      ],
      "metadata": {
        "id": "7_kJ3kYRqyUj"
      },
      "execution_count": null,
      "outputs": []
    },
    {
      "cell_type": "markdown",
      "source": [
        "<aside>\n",
        "💡 **Question 7**\n",
        "\n",
        "Given two strings s and t, return true *if they are equal when both are typed into empty text editors*. '#' means a backspace character.\n",
        "\n",
        "Note that after backspacing an empty text, the text will continue empty.\n",
        "\n",
        "**Example 1:**\n",
        "\n",
        "**Input:** s = \"ab#c\", t = \"ad#c\"\n",
        "\n",
        "**Output:** true\n",
        "\n",
        "**Explanation:**\n",
        "\n",
        "Both s and t become \"ac\".\n",
        "\n",
        "</aside>"
      ],
      "metadata": {
        "id": "RZcSdJobrrYw"
      }
    },
    {
      "cell_type": "code",
      "source": [
        "class Solution:\n",
        "    def backspaceCompare(self, s: str, t: str) -> bool:\n",
        "\n",
        "        # Function to process a string and return the final result after applying backspaces\n",
        "        def processString(string):\n",
        "            result = []\n",
        "            for char in string:\n",
        "                if char != '#':\n",
        "                    result.append(char)\n",
        "                elif result:\n",
        "                    result.pop()\n",
        "            return ''.join(result)\n",
        "\n",
        "        # Process both strings and compare the results\n",
        "        return processString(s) == processString(t)"
      ],
      "metadata": {
        "id": "gaysaV31mSX7"
      },
      "execution_count": null,
      "outputs": []
    },
    {
      "cell_type": "markdown",
      "source": [
        "You are given an array coordinates, coordinates[i] = [x, y], where [x, y] represents the coordinate of a point. Check if these points make a straight line in the XY plane.\n"
      ],
      "metadata": {
        "id": "Y1c2mmfollyg"
      }
    },
    {
      "cell_type": "code",
      "source": [
        "class Solution:\n",
        "    def checkStraightLine(self, coordinates: List[List[int]]) -> bool:\n",
        "\n",
        "        if len(coordinates) <= 2:\n",
        "            return True\n",
        "\n",
        "        x0, y0 = coordinates[0]\n",
        "        x1, y1 = coordinates[1]\n",
        "\n",
        "        # Calculate the slope between the first two points\n",
        "        if x1 - x0 == 0:\n",
        "            slope = float('inf')  # Handle vertical line case\n",
        "        else:\n",
        "            slope = (y1 - y0) / (x1 - x0)\n",
        "\n",
        "        # Check the slope between remaining points\n",
        "        for i in range(2, len(coordinates)):\n",
        "            x, y = coordinates[i]\n",
        "\n",
        "            # Calculate the slope between the current point and the first point\n",
        "            if x - x0 == 0:\n",
        "                current_slope = float('inf')  # Handle vertical line case\n",
        "            else:\n",
        "                current_slope = (y - y0) / (x - x0)\n",
        "\n",
        "            # If the current slope is not equal to the initial slope, points are not on the same line\n",
        "            if current_slope != slope:\n",
        "                return False\n",
        "\n",
        "        return True\n"
      ],
      "metadata": {
        "id": "aVE_ItLLlnMN"
      },
      "execution_count": null,
      "outputs": []
    }
  ]
}