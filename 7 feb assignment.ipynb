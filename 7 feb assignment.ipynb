{
 "cells": [
  {
   "cell_type": "code",
   "execution_count": 18,
   "id": "1365b104-ec68-4731-bb2c-1c85b4d246f7",
   "metadata": {},
   "outputs": [],
   "source": [
    "def check_pass(string):\n",
    "    num = 0\n",
    "    alpha1 = 0\n",
    "    alpha2 = 0\n",
    "    count=0\n",
    "    \n",
    "    if len(string)<10:\n",
    "        return 'invalid Password'\n",
    "    else:\n",
    "        num = 0\n",
    "        alpha1 = 0\n",
    "        alpha2 = 0\n",
    "        count=0\n",
    "        \n",
    "        special_char =['!','@','#','$','%','^','&',\"*\",'_','-']\n",
    "        for i in string:\n",
    "            if i.isnumeric():\n",
    "                num+=1\n",
    "                \n",
    "            elif (i in special_char):\n",
    "                count+=1\n",
    "                \n",
    "            elif ord(i)>=65 and ord(i)<=90:\n",
    "                alpha1+=1\n",
    "                \n",
    "            elif ord(i)>=97 and ord(i)<=122:\n",
    "                alpha2+=1\n",
    "                   \n",
    "            \n",
    "        \n",
    "        if (count>=3 and num>=1 and alpha1>=2 and alpha2>=2):\n",
    "            return 'Valid Password'\n",
    "        else:\n",
    "            return 'Invalid Password'\n",
    "                \n",
    "            \n",
    "        "
   ]
  },
  {
   "cell_type": "code",
   "execution_count": 19,
   "id": "d25b0f64-4410-4ee9-b76e-6ea8af109898",
   "metadata": {},
   "outputs": [
    {
     "name": "stdin",
     "output_type": "stream",
     "text": [
      "Enter your password arindam saralr\n"
     ]
    },
    {
     "data": {
      "text/plain": [
       "'Invalid Password'"
      ]
     },
     "execution_count": 19,
     "metadata": {},
     "output_type": "execute_result"
    }
   ],
   "source": [
    "password = input('Enter your password')\n",
    "check_pass(password)"
   ]
  },
  {
   "cell_type": "code",
   "execution_count": 20,
   "id": "0fcd1819-29f0-4f65-ae00-db45005ae817",
   "metadata": {},
   "outputs": [
    {
     "name": "stdin",
     "output_type": "stream",
     "text": [
      "Enter your password ArindSarkar1234&^%$\n"
     ]
    },
    {
     "data": {
      "text/plain": [
       "'Valid Password'"
      ]
     },
     "execution_count": 20,
     "metadata": {},
     "output_type": "execute_result"
    }
   ],
   "source": [
    "password = input('Enter your password')\n",
    "check_pass(password)"
   ]
  },
  {
   "cell_type": "code",
   "execution_count": 21,
   "id": "b2266d57-fb2f-43e5-8aff-2a8daf5b72d8",
   "metadata": {},
   "outputs": [
    {
     "name": "stdin",
     "output_type": "stream",
     "text": [
      "enter your string 1ksc\n"
     ]
    },
    {
     "data": {
      "text/plain": [
       "False"
      ]
     },
     "execution_count": 21,
     "metadata": {},
     "output_type": "execute_result"
    }
   ],
   "source": [
    "'''Q2. Solve the below-given questions using at least one of the following:\n",
    "1. Lambda functioJ\n",
    "2. Filter functioJ\n",
    "3. Zap functioJ\n",
    "4. List ComprehensioI'''\n",
    "#Check if the string starts with a particular letter\n",
    "string = input('enter your string')\n",
    "a=lambda x:x[0].isalpha()\n",
    "a(string)"
   ]
  },
  {
   "cell_type": "code",
   "execution_count": 22,
   "id": "f86adc79-3dd6-499c-b1f2-b5621dbcf725",
   "metadata": {},
   "outputs": [
    {
     "name": "stdin",
     "output_type": "stream",
     "text": [
      "enter your string 2456\n"
     ]
    },
    {
     "data": {
      "text/plain": [
       "True"
      ]
     },
     "execution_count": 22,
     "metadata": {},
     "output_type": "execute_result"
    }
   ],
   "source": [
    "#Check if the string is numeric\n",
    "st = input('enter your string')\n",
    "a = lambda x:x.isnumeric()\n",
    "a(st)"
   ]
  },
  {
   "cell_type": "code",
   "execution_count": 23,
   "id": "c44bfb9f-cf5e-48ce-a49c-353485c07ee0",
   "metadata": {},
   "outputs": [
    {
     "data": {
      "text/plain": [
       "[('orange', 80), ('mango', 99), ('grapes', 1000)]"
      ]
     },
     "execution_count": 23,
     "metadata": {},
     "output_type": "execute_result"
    }
   ],
   "source": [
    "#Sort a list of tuples having fruit names and their quantity. [(\"mango\",99),(\"orange\",80), (\"grapes\", 1000)]\n",
    "lis =[(\"mango\",99),(\"orange\",80), (\"grapes\", 1000)]\n",
    "lis.sort(key=lambda x:x[1])\n",
    "lis"
   ]
  },
  {
   "cell_type": "code",
   "execution_count": 24,
   "id": "934d79d4-f4fc-42c5-983e-f6e3d2bcfcd7",
   "metadata": {},
   "outputs": [
    {
     "data": {
      "text/plain": [
       "[1, 4, 9, 16, 25, 36, 49, 64, 81, 100]"
      ]
     },
     "execution_count": 24,
     "metadata": {},
     "output_type": "execute_result"
    }
   ],
   "source": [
    "#Find the squares of numbers from 1 to 10\n",
    "lis = [i**2 for i in range(1,11)]\n",
    "lis"
   ]
  },
  {
   "cell_type": "code",
   "execution_count": 25,
   "id": "1634f760-567a-4422-b27f-15baf8beac9c",
   "metadata": {},
   "outputs": [
    {
     "data": {
      "text/plain": [
       "[1.0,\n",
       " 1.2599210498948732,\n",
       " 1.4422495703074083,\n",
       " 1.5874010519681994,\n",
       " 1.7099759466766968,\n",
       " 1.8171205928321397,\n",
       " 1.912931182772389,\n",
       " 2.0,\n",
       " 2.080083823051904,\n",
       " 2.154434690031884]"
      ]
     },
     "execution_count": 25,
     "metadata": {},
     "output_type": "execute_result"
    }
   ],
   "source": [
    "#Find the cube root of numbers from 1 to 10\n",
    "[i**(1/3) for i in range(1,11)]"
   ]
  },
  {
   "cell_type": "code",
   "execution_count": 31,
   "id": "3a5d1965-19bc-4e00-8865-1eeafc210f37",
   "metadata": {},
   "outputs": [
    {
     "name": "stdin",
     "output_type": "stream",
     "text": [
      "enter your number 12\n"
     ]
    },
    {
     "data": {
      "text/plain": [
       "'this is even number'"
      ]
     },
     "execution_count": 31,
     "metadata": {},
     "output_type": "execute_result"
    }
   ],
   "source": [
    "#Check if a given number is evenY\n",
    "n = int(input('enter your number'))\n",
    "a = lambda x : 'this is even number' if x%2==0 else \"this is not a even number\"\n",
    "a(n)"
   ]
  },
  {
   "cell_type": "code",
   "execution_count": 32,
   "id": "6b39192c-265a-43d0-becf-aee9d8b84bf0",
   "metadata": {},
   "outputs": [
    {
     "data": {
      "text/plain": [
       "[1, 3, 5, 7, 9]"
      ]
     },
     "execution_count": 32,
     "metadata": {},
     "output_type": "execute_result"
    }
   ],
   "source": [
    "#Filter odd numbers from the given list.[1,2,3,4,5,6,7,8,9,10]\n",
    "lis=[1,2,3,4,5,6,7,8,9,10]\n",
    "list(filter(lambda x:x%2==1,lis))"
   ]
  },
  {
   "cell_type": "code",
   "execution_count": 6,
   "id": "71077993-c024-4bde-903d-efea94a59fbc",
   "metadata": {},
   "outputs": [
    {
     "name": "stdout",
     "output_type": "stream",
     "text": [
      "The original list is : [1, 2, 3, 4, 5, 6, -1, -2, -3, -4, -5, 0]\n",
      "Result after performing sort operation : [-5, -4, -3, -2, -1, 0, 1, 2, 3, 4, 5, 6]\n"
     ]
    }
   ],
   "source": [
    "#Sort a list of integers into positive and negative integers lists.\n",
    "#[1,2,3,4,5,6,-1,-2,-3,-4,-5,0]\n",
    "test_list = [1,2,3,4,5,6,-1,-2,-3,-4,-5,0]\n",
    "# printing original list\n",
    "print(\"The original list is : \" + str(test_list))\n",
    "\n",
    "res = sorted(filter(lambda x: x < 0, test_list)) + \\\n",
    "    sorted(filter(lambda x: x >= 0, test_list))\n",
    "# printing result\n",
    "print(\"Result after performing sort operation : \" + str(res))\n"
   ]
  },
  {
   "cell_type": "code",
   "execution_count": null,
   "id": "06bc3806-e3cc-4871-8bcb-96ef33cfcd91",
   "metadata": {},
   "outputs": [],
   "source": []
  }
 ],
 "metadata": {
  "kernelspec": {
   "display_name": "Python 3 (ipykernel)",
   "language": "python",
   "name": "python3"
  },
  "language_info": {
   "codemirror_mode": {
    "name": "ipython",
    "version": 3
   },
   "file_extension": ".py",
   "mimetype": "text/x-python",
   "name": "python",
   "nbconvert_exporter": "python",
   "pygments_lexer": "ipython3",
   "version": "3.10.8"
  }
 },
 "nbformat": 4,
 "nbformat_minor": 5
}
