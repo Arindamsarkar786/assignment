{
 "cells": [
  {
   "cell_type": "markdown",
   "id": "3e10f522-35d2-4408-adb2-bc62a389154b",
   "metadata": {},
   "source": [
    "Q1. Explain the difference between linear regression and logistic regression models. Provide an example of\n",
    "a scenario where logistic regression would be more appropriate.\n",
    "Ans :linear regression is a preeictive model and logistic regression is used as a classification problem.when we have to predict like binary class or multiple class then we use logistic regression.\n",
    "\n",
    "Q2. What is the cost function used in logistic regression, and how is it optimized?\n",
    "Ans :log loss cost function is used in logistic regression. Logloss(p,y)=-ylog(p)-(1-y)log(1-p)+l2 for l2 regularization,  Logloss(p,y)=-ylog(p)-(1-y)log(1-p)+l1 for l1 regularization,Logloss(p,y)=-ylog(p)-(1-y)log(1-p)+l1+l2 for elasticnet regularization\n",
    "\n",
    "\n",
    "Q3. Explain the concept of regularization in logistic regression and how it helps prevent overfitting.\n",
    "Ans :we add l2 ,l1 and elasticnet in logloss cost function for preventing overfitting.\n",
    "\n",
    "\n",
    "Q4. What is the ROC curve, and how is it used to evaluate the performance of the logistic regression\n",
    "model?\n",
    "Ans :the ROC curve is a valuable tool for understanding the performance of a logistic regression model and choosing an appropriate threshold based on the specific requirements of the classification task. By examining the TPR and FPR at different thresholds, decision-makers can make informed choices about the model's operating point, balancing between correctly classifying positive samples and minimizing false positive errors.\n",
    "\n",
    "\n",
    "Q5. What are some common techniques for feature selection in logistic regression? How do these\n",
    "techniques help improve the model's performance?\n",
    "Ans :we can use correlation,l1 regularization\n",
    "\n",
    "\n",
    "Q6. How can you handle imbalanced datasets in logistic regression? What are some strategies for dealing\n",
    "with class imbalance?\n",
    "Ans :smote,upsampling ,downsampling\n",
    "\n",
    "\n",
    "Q7. Can you discuss some common issues and challenges that may arise when implementing logistic\n",
    "regression, and how they can be addressed? For example, what can be done if there is multicollinearity\n",
    "among the independent variables?\n",
    "Ans : we can directly drop that feature associated with."
   ]
  }
 ],
 "metadata": {
  "kernelspec": {
   "display_name": "Python 3 (ipykernel)",
   "language": "python",
   "name": "python3"
  },
  "language_info": {
   "codemirror_mode": {
    "name": "ipython",
    "version": 3
   },
   "file_extension": ".py",
   "mimetype": "text/x-python",
   "name": "python",
   "nbconvert_exporter": "python",
   "pygments_lexer": "ipython3",
   "version": "3.10.8"
  }
 },
 "nbformat": 4,
 "nbformat_minor": 5
}
