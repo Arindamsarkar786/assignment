{
 "cells": [
  {
   "cell_type": "code",
   "execution_count": 9,
   "id": "f1655fd1-ec94-4467-b1ed-35709e5ef23a",
   "metadata": {},
   "outputs": [
    {
     "data": {
      "text/plain": [
       "'hi this is arindam sarkar'"
      ]
     },
     "execution_count": 9,
     "metadata": {},
     "output_type": "execute_result"
    }
   ],
   "source": [
    "\"\"\"Q1. Explain Class and Object with respect to Object-Oriented Programming. Give a suitable example.\"\"\"\n",
    "# class is a blueprint of an object.and we create a class for create multiple object of different different value of same class \n",
    "# object is a physical properties of class what code we write in our class object create the physical implementation of class and object occupie memory space in our machine memory\n",
    "class ari:\n",
    "    def test(self):\n",
    "        return 'hi this is arindam sarkar'\n",
    "arindam = ari()\n",
    "arindam.test()"
   ]
  },
  {
   "cell_type": "code",
   "execution_count": 10,
   "id": "a89a8006-25bb-4eea-8833-11a2469fd789",
   "metadata": {},
   "outputs": [
    {
     "data": {
      "text/plain": [
       "' 1 .inheritence\\n 2 .polymorphism\\n 3 .encapsulation\\n 4 .abstraction'"
      ]
     },
     "execution_count": 10,
     "metadata": {},
     "output_type": "execute_result"
    }
   ],
   "source": [
    "'''Q2. Name the four pillars of OOPs.'''\n",
    "''' 1 .inheritence\n",
    " 2 .polymorphism\n",
    " 3 .encapsulation\n",
    " 4 .abstraction'''"
   ]
  },
  {
   "cell_type": "code",
   "execution_count": 11,
   "id": "6f661cce-cdbe-456c-bb55-da59d42377f1",
   "metadata": {},
   "outputs": [],
   "source": [
    "'''Explain why the __init__() function is used. Give a suitable example.'''\n",
    "\"\"\"Ans : basically __init__() function called construction . so it construct our class whenever we want to pass any argument in our class object we have to define this function in our class body and whenever we create object of this class then this class need some argument else it will give you error\"\"\"\n",
    "class arindam:\n",
    "    def __init__(self,name,roll,student_id):\n",
    "        self.name = name\n",
    "        self.roll=roll\n",
    "        self.student_id=student_id\n",
    "    def get_details(self):\n",
    "        return self.name,self.roll,self.student_id\n",
    "        "
   ]
  },
  {
   "cell_type": "code",
   "execution_count": 12,
   "id": "ad909832-2845-489f-a352-3e2e1273f2c1",
   "metadata": {},
   "outputs": [
    {
     "ename": "TypeError",
     "evalue": "arindam.__init__() missing 3 required positional arguments: 'name', 'roll', and 'student_id'",
     "output_type": "error",
     "traceback": [
      "\u001b[0;31m---------------------------------------------------------------------------\u001b[0m",
      "\u001b[0;31mTypeError\u001b[0m                                 Traceback (most recent call last)",
      "Cell \u001b[0;32mIn[12], line 1\u001b[0m\n\u001b[0;32m----> 1\u001b[0m obj \u001b[38;5;241m=\u001b[39m \u001b[43marindam\u001b[49m\u001b[43m(\u001b[49m\u001b[43m)\u001b[49m\n",
      "\u001b[0;31mTypeError\u001b[0m: arindam.__init__() missing 3 required positional arguments: 'name', 'roll', and 'student_id'"
     ]
    }
   ],
   "source": [
    "obj = arindam() # this will give you error"
   ]
  },
  {
   "cell_type": "code",
   "execution_count": 15,
   "id": "1b36e7d8-29f3-4118-9440-74fb30e39828",
   "metadata": {},
   "outputs": [
    {
     "data": {
      "text/plain": [
       "('arindam', 27800120031, 1001)"
      ]
     },
     "execution_count": 15,
     "metadata": {},
     "output_type": "execute_result"
    }
   ],
   "source": [
    "obj = arindam('arindam',27800120031,1001)#this will give you output\n",
    "obj.get_details()"
   ]
  },
  {
   "cell_type": "code",
   "execution_count": 7,
   "id": "85df5744-0c2e-43a1-841d-b8be31e34fc3",
   "metadata": {},
   "outputs": [
    {
     "data": {
      "text/plain": [
       "'why self is used in OOPs\\nAns : The self is used to represent the instance of the class. With this keyword, you can access the attributes and methods of the class in python. It binds the attributes with the given arguments.'"
      ]
     },
     "execution_count": 7,
     "metadata": {},
     "output_type": "execute_result"
    }
   ],
   "source": [
    "'''why self is used in OOPs\n",
    "Ans : The self is used to represent the instance of the class. With this keyword, you can access the attributes and methods of the class in python. It binds the attributes with the given arguments.'''\n"
   ]
  },
  {
   "cell_type": "code",
   "execution_count": 8,
   "id": "b53825f4-5013-4865-a7d2-9a9bb09c05f2",
   "metadata": {},
   "outputs": [],
   "source": [
    "'''Q5. What is inheritance? Give an example for each type of inheritance.'''\n",
    "'''Ans : inheritence is used for inherit the parrent class with child class'''\n",
    "#multilevel inheritence\n",
    "class a:\n",
    "    def test1(self):\n",
    "        return 'this is class a'\n",
    "class b(a):\n",
    "    def test2(self):\n",
    "        return 'this is class b'\n",
    "class c(b):\n",
    "    pass\n",
    "    "
   ]
  },
  {
   "cell_type": "code",
   "execution_count": 9,
   "id": "08c52d3b-ddb0-4155-9baa-503826c32a33",
   "metadata": {},
   "outputs": [],
   "source": [
    "obj = c()"
   ]
  },
  {
   "cell_type": "code",
   "execution_count": 11,
   "id": "4c165663-3a37-472e-9a02-ef83d6c22e7e",
   "metadata": {},
   "outputs": [
    {
     "data": {
      "text/plain": [
       "'this is class a'"
      ]
     },
     "execution_count": 11,
     "metadata": {},
     "output_type": "execute_result"
    }
   ],
   "source": [
    "obj.test1()"
   ]
  },
  {
   "cell_type": "code",
   "execution_count": 13,
   "id": "ed0b546e-2653-43f9-8680-53f17b35e935",
   "metadata": {},
   "outputs": [
    {
     "data": {
      "text/plain": [
       "'this is class b'"
      ]
     },
     "execution_count": 13,
     "metadata": {},
     "output_type": "execute_result"
    }
   ],
   "source": [
    "obj.test2()"
   ]
  },
  {
   "cell_type": "code",
   "execution_count": 4,
   "id": "746bd572-e2e9-4931-8d1d-5173aa689690",
   "metadata": {},
   "outputs": [],
   "source": [
    "#mulple inheritence\n",
    "class a1:\n",
    "    def test5(self):\n",
    "        return 'this is class a1'\n",
    "class b1:\n",
    "    def test6(self):\n",
    "        return 'this is class a2'\n",
    "    \n",
    "class c2(a1,b1):\n",
    "    pass"
   ]
  },
  {
   "cell_type": "code",
   "execution_count": 5,
   "id": "0c135645-45ea-438e-a3b4-2057026c2ed3",
   "metadata": {},
   "outputs": [],
   "source": [
    "arin = c2()"
   ]
  },
  {
   "cell_type": "code",
   "execution_count": 6,
   "id": "1e9ee6ab-5f0c-46b9-99f1-dde472e8cae7",
   "metadata": {},
   "outputs": [
    {
     "data": {
      "text/plain": [
       "'this is class a1'"
      ]
     },
     "execution_count": 6,
     "metadata": {},
     "output_type": "execute_result"
    }
   ],
   "source": [
    "arin.test5()"
   ]
  },
  {
   "cell_type": "code",
   "execution_count": 14,
   "id": "b44288d1-6775-4a8d-918b-60e01ebb196f",
   "metadata": {},
   "outputs": [
    {
     "data": {
      "text/plain": [
       "'this is class a2'"
      ]
     },
     "execution_count": 14,
     "metadata": {},
     "output_type": "execute_result"
    }
   ],
   "source": [
    "arin.test6()"
   ]
  },
  {
   "cell_type": "code",
   "execution_count": null,
   "id": "efe2564c-e5f8-4a47-a214-59e6a48daa78",
   "metadata": {},
   "outputs": [],
   "source": []
  }
 ],
 "metadata": {
  "kernelspec": {
   "display_name": "Python 3 (ipykernel)",
   "language": "python",
   "name": "python3"
  },
  "language_info": {
   "codemirror_mode": {
    "name": "ipython",
    "version": 3
   },
   "file_extension": ".py",
   "mimetype": "text/x-python",
   "name": "python",
   "nbconvert_exporter": "python",
   "pygments_lexer": "ipython3",
   "version": "3.10.8"
  }
 },
 "nbformat": 4,
 "nbformat_minor": 5
}
