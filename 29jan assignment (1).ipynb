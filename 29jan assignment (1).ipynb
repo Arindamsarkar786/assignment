{
 "cells": [
  {
   "cell_type": "code",
   "execution_count": null,
   "id": "639ce1aa-ce40-4bc3-a8ed-3537e3008f8a",
   "metadata": {},
   "outputs": [],
   "source": [
    "1.who developed python programming language?\n",
    "Ans : Guido van Rossum"
   ]
  },
  {
   "cell_type": "code",
   "execution_count": null,
   "id": "3ba4c1a6-7843-4101-9c1f-f2bb6949c95e",
   "metadata": {},
   "outputs": [],
   "source": [
    "2.Which type of programming does python support?\n",
    "Ans : Object oriented programming "
   ]
  },
  {
   "cell_type": "code",
   "execution_count": null,
   "id": "46fa9397-d435-4869-9338-99a9815d82f7",
   "metadata": {},
   "outputs": [],
   "source": [
    "3.is python is case sensitive when dealing with identifiers?\n",
    "Ans : yes"
   ]
  },
  {
   "cell_type": "code",
   "execution_count": null,
   "id": "a8fd9396-5eb5-44b3-a9c7-363788ec684e",
   "metadata": {},
   "outputs": [],
   "source": [
    "4.What is the correct extension of the python file?\n",
    "Ans : .py"
   ]
  },
  {
   "cell_type": "code",
   "execution_count": null,
   "id": "1e6823de-e7b4-4e1e-a0a3-4f4512c41592",
   "metadata": {},
   "outputs": [],
   "source": [
    "5.Is python code compiled or interpreted?\n",
    "Ans : interpreted"
   ]
  },
  {
   "cell_type": "code",
   "execution_count": null,
   "id": "2eb112aa-523c-4008-988f-9b7ea2795b79",
   "metadata": {},
   "outputs": [],
   "source": [
    "6.Name a few blocks of code used to define in python language?\n",
    "Ans : a module, a function body, and a class definition"
   ]
  },
  {
   "cell_type": "code",
   "execution_count": null,
   "id": "983c4466-8481-4213-9c34-cfda65726276",
   "metadata": {},
   "outputs": [],
   "source": [
    "7.State a charecter used to give single line comments in python?\n",
    "Ans : #"
   ]
  },
  {
   "cell_type": "code",
   "execution_count": null,
   "id": "62c7c858-6414-4851-9afe-41b532e1f6b5",
   "metadata": {},
   "outputs": [],
   "source": [
    "8.Mention function which can help us to find the version of python that are currently working on?\n",
    "Ans : sys. version\n",
    "\n",
    "9.Python supports the creation of ananymous function at runtime,using a construct called lamda\n",
    "\n",
    "10.what does pip stads for python?\n",
    "Ans : pip install packages\n",
    "\n",
    "11. Mention a few built in function in python?\n",
    "Ans : len(),type(),find()\n",
    "\n",
    "12.what is the maximum possible lenth of an identifier in python?\n",
    "Ans : 79\n",
    "\n",
    "13.what are the benifit of using python?\n",
    "Ans : we can write code very fast.easy to learn.time saving.lot of build in function\n",
    "\n",
    "\n",
    "14.How memory manage in python?\n",
    "Ans : involves a private heap containing all Python objects and data structures.\n",
    "\n",
    "\n",
    "\n",
    "15. How to install python on windowa and set path variable?\n",
    "Ans : Install python from this link https://www.python.org/downloads/\n",
    "After this, install it on your PC. Look for the location where PYTHON has been installed on your PC using tge following command on your command prompt: cmd python.\n",
    "Then go to advanced system settings and add new variable and name it as PYTHON_NAME and paste the copied path.\n",
    "Then look for the path variable, select it's value and select edit\n",
    "Add a semicolon towards the end of the value if it's not present and then type %PYTHON_HOME%\n",
    "\n",
    "16. Is Identation required in python?\n",
    "Ans : ye"
   ]
  }
 ],
 "metadata": {
  "kernelspec": {
   "display_name": "Python 3 (ipykernel)",
   "language": "python",
   "name": "python3"
  },
  "language_info": {
   "codemirror_mode": {
    "name": "ipython",
    "version": 3
   },
   "file_extension": ".py",
   "mimetype": "text/x-python",
   "name": "python",
   "nbconvert_exporter": "python",
   "pygments_lexer": "ipython3",
   "version": "3.10.8"
  }
 },
 "nbformat": 4,
 "nbformat_minor": 5
}
