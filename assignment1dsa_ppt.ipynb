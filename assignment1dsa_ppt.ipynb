{
  "nbformat": 4,
  "nbformat_minor": 0,
  "metadata": {
    "colab": {
      "provenance": []
    },
    "kernelspec": {
      "name": "python3",
      "display_name": "Python 3"
    },
    "language_info": {
      "name": "python"
    }
  },
  "cells": [
    {
      "cell_type": "markdown",
      "source": [
        "<aside>\n",
        "💡 **Q1.** Given an array of integers nums and an integer target, return indices of the two numbers such that they add up to target.\n",
        "\n",
        "You may assume that each input would have exactly one solution, and you may not use the same element twice.\n",
        "\n",
        "You can return the answer in any order.\n",
        "\n",
        "**Example:**\n",
        "Input: nums = [2,7,11,15], target = 9\n",
        "Output0 [0,1]\n",
        "\n",
        "**Explanation:** Because nums[0] + nums[1] == 9, we return [0, 1]\n",
        "\n",
        "</aside>"
      ],
      "metadata": {
        "id": "bKA8K-7SA1B4"
      }
    },
    {
      "cell_type": "code",
      "source": [
        "## ans\n",
        "class Solution:\n",
        "    def twoSum(self, nums: List[int], target: int) -> List[int]:\n",
        "        hashmap = {}\n",
        "        for i in range(len(nums)):\n",
        "            complement = target - nums[i]\n",
        "            if complement in hashmap:\n",
        "                return [i, hashmap[complement]]\n",
        "            hashmap[nums[i]] = i"
      ],
      "metadata": {
        "id": "mMkcJ4R5A4B1"
      },
      "execution_count": null,
      "outputs": []
    },
    {
      "cell_type": "markdown",
      "source": [
        "<aside>\n",
        "💡 **Q2.** Given an integer array nums and an integer val, remove all occurrences of val in nums in-place. The order of the elements may be changed. Then return the number of elements in nums which are not equal to val.\n",
        "\n",
        "Consider the number of elements in nums which are not equal to val be k, to get accepted, you need to do the following things:\n",
        "\n",
        "- Change the array nums such that the first k elements of nums contain the elements which are not equal to val. The remaining elements of nums are not important as well as the size of nums.\n",
        "- Return k.\n",
        "\n",
        "**Example :**\n",
        "Input: nums = [3,2,2,3], val = 3\n",
        "Output: 2, nums = [2,2,_*,_*]\n",
        "\n",
        "**Explanation:** Your function should return k = 2, with the first two elements of nums being 2. It does not matter what you leave beyond the returned k (hence they are underscores)\n",
        "\n",
        "</aside>"
      ],
      "metadata": {
        "id": "-_6crVN7BETP"
      }
    },
    {
      "cell_type": "code",
      "source": [
        "class Solution:\n",
        "    def removeElement(self, nums: List[int], val: int) -> int:\n",
        "\n",
        "        n = len(nums)\n",
        "        count =0\n",
        "        return n-nums.count(val)\n",
        "\n",
        "\n"
      ],
      "metadata": {
        "id": "eh8IRR3FBKQ-"
      },
      "execution_count": null,
      "outputs": []
    },
    {
      "cell_type": "markdown",
      "source": [
        "<aside>\n",
        "💡 **Q3.** Given a sorted array of distinct integers and a target value, return the index if the target is found. If not, return the index where it would be if it were inserted in order.\n",
        "\n",
        "You must write an algorithm with O(log n) runtime complexity.\n",
        "\n",
        "**Example 1:**\n",
        "Input: nums = [1,3,5,6], target = 5\n",
        "\n",
        "Output: 2\n",
        "\n",
        "</aside>"
      ],
      "metadata": {
        "id": "_MOjGyvOGwJ0"
      }
    },
    {
      "cell_type": "code",
      "source": [
        "class Solution:\n",
        "    def searchInsert(self, nums: List[int], target: int) -> int:\n",
        "        n = len(nums)\n",
        "        start = 0\n",
        "        end = n-1\n",
        "\n",
        "        while (start<=end):\n",
        "            mid = start+(end-start)//2\n",
        "            if nums[mid]==target:\n",
        "                return mid\n",
        "            elif(target>nums[mid]):\n",
        "                start=mid+1\n",
        "            else:\n",
        "                end = mid-1\n",
        "\n",
        "        return end+1\n"
      ],
      "metadata": {
        "id": "lPpZON-fGzU0"
      },
      "execution_count": null,
      "outputs": []
    },
    {
      "cell_type": "markdown",
      "source": [
        "<aside>\n",
        "💡 **Q4.** You are given a large integer represented as an integer array digits, where each digits[i] is the ith digit of the integer. The digits are ordered from most significant to least significant in left-to-right order. The large integer does not contain any leading 0's.\n",
        "\n",
        "Increment the large integer by one and return the resulting array of digits.\n",
        "\n",
        "**Example 1:**\n",
        "Input: digits = [1,2,3]\n",
        "Output: [1,2,4]\n",
        "\n",
        "**Explanation:** The array represents the integer 123.\n",
        "\n",
        "Incrementing by one gives 123 + 1 = 124.\n",
        "Thus, the result should be [1,2,4].\n",
        "\n",
        "</aside>"
      ],
      "metadata": {
        "id": "LwypGIqLrh1J"
      }
    },
    {
      "cell_type": "code",
      "source": [
        "class Solution:\n",
        "    def plusOne(self, digits: List[int]) -> List[int]:\n",
        "        s = [str(i) for i in digits]\n",
        "\n",
        "\n",
        "        # Join list items using join()\n",
        "        res = int(\"\".join(s))+1\n",
        "\n",
        "        ans = []\n",
        "        while(res!=0):\n",
        "            lu = res%10\n",
        "\n",
        "            ans.append(lu)\n",
        "            res=res//10\n",
        "        ans.reverse()\n",
        "        return(ans)\n",
        "\n",
        ""
      ],
      "metadata": {
        "id": "FV8MzOPtxiZ7"
      },
      "execution_count": null,
      "outputs": []
    },
    {
      "cell_type": "markdown",
      "source": [
        "<aside>\n",
        "💡 **Q5.** You are given two integer arrays nums1 and nums2, sorted in non-decreasing order, and two integers m and n, representing the number of elements in nums1 and nums2 respectively.\n",
        "\n",
        "Merge nums1 and nums2 into a single array sorted in non-decreasing order.\n",
        "\n",
        "The final sorted array should not be returned by the function, but instead be stored inside the array nums1. To accommodate this, nums1 has a length of m + n, where the first m elements denote the elements that should be merged, and the last n elements are set to 0 and should be ignored. nums2 has a length of n.\n",
        "\n",
        "**Example 1:**\n",
        "Input: nums1 = [1,2,3,0,0,0], m = 3, nums2 = [2,5,6], n = 3\n",
        "Output: [1,2,2,3,5,6]\n",
        "\n",
        "**Explanation:** The arrays we are merging are [1,2,3] and [2,5,6].\n",
        "The result of the merge is [1,2,2,3,5,6] with the underlined elements coming from nums1.\n",
        "\n",
        "</aside>"
      ],
      "metadata": {
        "id": "cfJh46BuxmXy"
      }
    },
    {
      "cell_type": "code",
      "source": [
        "class Solution:\n",
        "    def merge(self, nums1: List[int], m: int, nums2: List[int], n: int) -> None:\n",
        "        \"\"\"\n",
        "        Do not return anything, modify nums1 in-place instead\n",
        "\n",
        "        \"\"\"\n",
        "        del nums1[m:]\n",
        "        nums1.extend(nums2)\n",
        "        nums1.sort() # i dont know the concept of merge sort that's why i used the sort function .i assured that wheneve i learn merge sort i will implement here\n",
        ""
      ],
      "metadata": {
        "id": "bc02r5YTy5cC"
      },
      "execution_count": null,
      "outputs": []
    },
    {
      "cell_type": "markdown",
      "source": [
        "<aside>\n",
        "💡 **Q6.** Given an integer array nums, return true if any value appears at least twice in the array, and return false if every element is distinct.\n",
        "\n",
        "**Example 1:**\n",
        "Input: nums = [1,2,3,1]\n",
        "\n",
        "Output: true\n",
        "\n",
        "</aside>"
      ],
      "metadata": {
        "id": "zPMjSi2I4VEd"
      }
    },
    {
      "cell_type": "code",
      "source": [
        "class Solution:\n",
        "    def containsDuplicate(self, nums: List[int]) -> bool:\n",
        "\n",
        "        num_set = set()\n",
        "        for num in nums:\n",
        "            if num in num_set:\n",
        "                return True\n",
        "            num_set.add(num)\n",
        "        return False\n",
        ""
      ],
      "metadata": {
        "id": "1ocd1ILP7A75"
      },
      "execution_count": null,
      "outputs": []
    },
    {
      "cell_type": "markdown",
      "source": [
        "\n",
        "\n",
        "> Indented block<aside>\n",
        "💡 **Q7.** Given an integer array nums, move all 0's to the end of it while maintaining the relative order of the nonzero elements.\n",
        "\n",
        "Note that you must do this in-place without making a copy of the array.\n",
        "\n",
        "**Example 1:**\n",
        "Input: nums = [0,1,0,3,12]\n",
        "Output: [1,3,12,0,0]\n",
        "\n",
        "</aside>\n",
        "\n"
      ],
      "metadata": {
        "id": "_IniipTd7DfT"
      }
    },
    {
      "cell_type": "code",
      "source": [
        "class Solution:\n",
        "    def moveZeroes(self, nums: List[int]) -> None:\n",
        "        \"\"\"\n",
        "        Do not return anything, modify nums in-place instead.\n",
        "        \"\"\"\n",
        "        for i in nums:\n",
        "            if i==0:\n",
        "                nums.remove(i)\n",
        "                nums.append(i)"
      ],
      "metadata": {
        "id": "SQuneLXP9gTG"
      },
      "execution_count": null,
      "outputs": []
    },
    {
      "cell_type": "markdown",
      "source": [
        "<aside>\n",
        "💡 **Q8.** You have a set of integers s, which originally contains all the numbers from 1 to n. Unfortunately, due to some error, one of the numbers in s got duplicated to another number in the set, which results in repetition of one number and loss of another number.\n",
        "\n",
        "You are given an integer array nums representing the data status of this set after the error.\n",
        "\n",
        "Find the number that occurs twice and the number that is missing and return them in the form of an array.\n",
        "\n",
        "**Example 1:**\n",
        "Input: nums = [1,2,2,4]\n",
        "Output: [2,3]\n",
        "\n",
        "</aside>"
      ],
      "metadata": {
        "id": "SN-Yrzkt9hZI"
      }
    },
    {
      "cell_type": "code",
      "source": [
        "public class Solution {\n",
        "    public int[] findErrorNums(int[] nums) {\n",
        "        Arrays.sort(nums);\n",
        "        int dup = -1, missing = 1;\n",
        "        for (int i = 1; i < nums.length; i++) {\n",
        "            if (nums[i] == nums[i - 1])\n",
        "                dup = nums[i];\n",
        "            else if (nums[i] > nums[i - 1] + 1)\n",
        "                missing = nums[i - 1] + 1;\n",
        "        }\n",
        "        return new int[] {dup, nums[nums.length - 1] != nums.length ? nums.length : missing};\n",
        "    }\n",
        "}"
      ],
      "metadata": {
        "id": "qVOKuNQO9lQ9"
      },
      "execution_count": null,
      "outputs": []
    }
  ]
}