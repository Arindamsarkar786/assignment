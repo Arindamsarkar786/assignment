{
 "cells": [
  {
   "cell_type": "markdown",
   "id": "5038ce11-1348-4fe9-8c2f-4ae0468a73a2",
   "metadata": {},
   "source": [
    "Q1. What is an API? Give an example, where an API is used in real life."
   ]
  },
  {
   "cell_type": "markdown",
   "id": "3c2271bd-bd26-44ca-8d06-0989714dd45b",
   "metadata": {},
   "source": [
    "Ans : API is a application programming interface .APIs are used in web applications to connect user-facing front ends with critical back-end functionality and data. APIs are used to deliver material by streaming services such as Spotify and Netflix. "
   ]
  },
  {
   "cell_type": "markdown",
   "id": "a5dc8217-f613-4a88-b99f-6303890dbcd1",
   "metadata": {},
   "source": [
    "Q2. Give advantages and disadvantages of using API."
   ]
  },
  {
   "cell_type": "markdown",
   "id": "63733ff6-2256-4501-8274-1dcfb8ffcd7b",
   "metadata": {},
   "source": [
    "Advantages of api\n",
    "\n",
    "1.Increased Interoperability: API solutions enable different software systems to communicate with each other, regardless of their programming language or platform. \n",
    "This enhances the interoperability between systems, allowing for the exchange of data and functionality.\n",
    "\n",
    "\n",
    "2.Improved Efficiency: API driven infrastructures enable developers to reuse code and functionality from existing    software systems, saving time and reducing the amount of code that needs to be written from scratch.\n",
    "\n",
    "3.Better User Experience: APIs can enable third-party developers to create applications that integrate with existing software systems, providing a better user experience and increased functionality.\n",
    "\n",
    "4.Increased Flexibility: APIs provide developers with greater flexibility, enabling them to choose the best programming languages and frameworks for their needs.\n",
    "\n",
    "5.New Revenue Streams: APIs can enable companies to create new revenue streams by providing third-party developers with access to their software systems.\n",
    "\n",
    "disadvanges of api\n",
    "\n",
    "1.Security Concerns: API infrastructures can be vulnerable to security breaches, such as SQL injection attacks and cross-site scripting (XSS) attacks, making it crucial to implement security measures to protect against these threats.\n",
    "\n",
    "2.Complexity: APIs can be complex, requiring a significant amount of development effort to implement and maintain.\n",
    "\n",
    "3.Compatibility Issues: APIs can have compatibility issues between different versions of the same software system or between different systems, which can lead to errors and system failures.\n",
    "\n",
    "4.Dependency on Third-Party Developers: APIs rely on third-party developers to create applications that integrate with the software system. This can create dependencies that are outside of the control of the company that owns the software system.\n",
    "\n",
    "5.Governance and Management: APIs require proper governance and management to ensure they are being used correctly and consistently across different applications and systems."
   ]
  },
  {
   "cell_type": "markdown",
   "id": "426cbc44-8f8e-44f0-a5e1-17a0d09f78c5",
   "metadata": {},
   "source": [
    "Q3. What is a Web API? Differentiate between API and Web API."
   ]
  },
  {
   "cell_type": "markdown",
   "id": "52305b25-de58-4af1-8987-4dc8913f1c05",
   "metadata": {},
   "source": [
    "Web APIs: API stands for Application Programming Interface.\n",
    "It is a collection of communication conventions and subroutines used by various programs to communicate between them. A developer can utilize different API apparatuses to make its program simpler and less complex. Likewise, an API encourages the developers with a proficient method to build up their product programs. Thus, in simple terms, an API determines how programming segments ought to associate with one another. It is a set of protocols and schedules, and its reactions are returned as JSON or XML in data. APIs can utilize any kind of communication convention and are not restricted similarly as a web service is.\n"
   ]
  },
  {
   "cell_type": "markdown",
   "id": "7dace4a8-c241-4b9b-a9d1-7c87c2abd45d",
   "metadata": {},
   "source": [
    "Q4. Explain REST and SOAP Architecture. Mention shortcomings of SOAP."
   ]
  },
  {
   "cell_type": "markdown",
   "id": "409e072a-57f7-4c4e-9020-7aaaabbac8bc",
   "metadata": {},
   "source": [
    "SOAP stands for Simple Object Access Protocol and REST stands for Representational State Transfer.\n",
    "Since SOAP is a protocol, it follows a strict standard to allow communication between the client and the server whereas REST is an architectural style that doesn’t follow any strict standard but follows six constraints defined by Roy Fielding in 2000. Those constraints are – Uniform Interface, Client-Server, Stateless, Cacheable, Layered System, Code on Demand.\n",
    "SOAP uses only XML for exchanging information in its message format whereas REST is not restricted to XML and its the choice of implementer which Media-Type to use like XML, JSON, Plain-text. Moreover, REST can use SOAP protocol but SOAP cannot use REST.\n",
    "On behalf of services interfaces to business logic, SOAP uses @WebService whereas REST instead of using interfaces uses URI like @Path.\n",
    "SOAP is difficult to implement and it requires more bandwidth whereas REST is easy to implement and requires less bandwidth such as smartphones.\n",
    "Benefits of SOAP over REST as SOAP has ACID compliance transaction. Some of the applications require transaction ability which is accepted by SOAP whereas REST lacks in it."
   ]
  },
  {
   "cell_type": "markdown",
   "id": "c730fb2e-86c3-49a7-9287-9196a2ff0b17",
   "metadata": {},
   "source": [
    "Q5. Differentiate between REST and SOAP."
   ]
  },
  {
   "cell_type": "markdown",
   "id": "1a2d6e75-862a-4890-875e-b3518a799c7a",
   "metadata": {},
   "source": [
    "1.Relies on SOAP (Simple Object Access Protocol)\tRelies on REST (Representational State Transfer) architecture using HTTP.\n",
    "2.soap Transports data in standard XML format.\trest Generally transports data in JSON. It is based on URI. Because REST follows stateless model, REST does not enforces message format as XML or JSON etc.\n",
    "3.Because it is XML based and relies on SOAP, it works with WSDL\trest works with GET, POST, PUT, DELETE\n",
    "4.Works over HTTP, HTTPS, SMTP, XMPP\t,rest Works over HTTP and HTTPS\n",
    "5.soap Highly structured/typed\trest Less structured -> less bulky data\n",
    "6.soap Designed with large enterprise applications in mind\trest Designed with mobile devices in mind"
   ]
  },
  {
   "cell_type": "code",
   "execution_count": null,
   "id": "3f8f2467-e793-40e6-bd08-59bd5e171902",
   "metadata": {},
   "outputs": [],
   "source": []
  }
 ],
 "metadata": {
  "kernelspec": {
   "display_name": "Python 3 (ipykernel)",
   "language": "python",
   "name": "python3"
  },
  "language_info": {
   "codemirror_mode": {
    "name": "ipython",
    "version": 3
   },
   "file_extension": ".py",
   "mimetype": "text/x-python",
   "name": "python",
   "nbconvert_exporter": "python",
   "pygments_lexer": "ipython3",
   "version": "3.10.8"
  }
 },
 "nbformat": 4,
 "nbformat_minor": 5
}
