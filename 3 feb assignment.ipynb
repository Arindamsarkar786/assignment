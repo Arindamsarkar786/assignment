{
 "cells": [
  {
   "cell_type": "code",
   "execution_count": 1,
   "id": "d4591776-2df0-445c-83b3-e2ee353baea4",
   "metadata": {},
   "outputs": [
    {
     "name": "stdout",
     "output_type": "stream",
     "text": [
      "1\n",
      "3\n",
      "5\n",
      "7\n",
      "9\n",
      "11\n",
      "13\n",
      "15\n",
      "17\n",
      "19\n",
      "21\n",
      "23\n",
      "25\n"
     ]
    }
   ],
   "source": [
    "# which keyword is used to create a function? create a function to return a list of add numbers in the range of 1 to 25\n",
    "#Ans : def keyword is used to create a function\n",
    "def odd(n):\n",
    "    for i in range(n+1):\n",
    "        if i%2==1:\n",
    "            print(i)\n",
    "odd(25)"
   ]
  },
  {
   "cell_type": "code",
   "execution_count": 2,
   "id": "00ab0383-6a41-40a9-b09f-d1422f348753",
   "metadata": {},
   "outputs": [
    {
     "data": {
      "text/plain": [
       "(1, 2, 3, 4, 5)"
      ]
     },
     "execution_count": 2,
     "metadata": {},
     "output_type": "execute_result"
    }
   ],
   "source": [
    "# why * args and **kwargs is used in some function? create a function for *args and **kwargs to demonstrate their use.and return type tuples\n",
    "# *args used for take n no of argument in any function and **kwargs is used for return argument in key value pair manner (dictionary)\n",
    "\n",
    "def arindam(*args):\n",
    "    return args\n",
    "\n",
    "arindam(1,2,3,4,5)\n"
   ]
  },
  {
   "cell_type": "code",
   "execution_count": 3,
   "id": "65560749-78ac-436a-a1bb-a7b102f0fe3f",
   "metadata": {},
   "outputs": [
    {
     "data": {
      "text/plain": [
       "{'a': 3, 'b': 4, 'c': 8}"
      ]
     },
     "execution_count": 3,
     "metadata": {},
     "output_type": "execute_result"
    }
   ],
   "source": [
    "def arindam2(**kwargs):\n",
    "    return kwargs\n",
    "arindam2(a=3,b=4,c=8)"
   ]
  },
  {
   "cell_type": "code",
   "execution_count": 4,
   "id": "e5bc5690-dc3a-4869-9f36-efffad84667b",
   "metadata": {},
   "outputs": [
    {
     "name": "stdout",
     "output_type": "stream",
     "text": [
      "2\n",
      "4\n",
      "6\n",
      "8\n",
      "10\n",
      "12\n",
      "14\n",
      "16\n",
      "18\n",
      "20\n"
     ]
    }
   ],
   "source": [
    "''' What is an iterator in python? Name the method used to initialise the iterator object and the method\n",
    "used for iteration. Use these methods to print the first five elements of the given list [2, 4, 6, 8, 10, 12, 14,\n",
    "16, 18, 20].'''\n",
    "# iterator means which can iterate(iterable) in python list tuples are iterator\n",
    "# the iterator object is initialized using iter() and it use next() methide for iteration\n",
    "lis=[2,4,6,8,10,12,14,16,18,20]\n",
    "lis1=iter(lis)\n",
    "for i in range(len(lis)):\n",
    "    print(next(lis1))"
   ]
  },
  {
   "cell_type": "code",
   "execution_count": null,
   "id": "8799dbce-da97-43f0-aae9-fd438fc6b989",
   "metadata": {},
   "outputs": [],
   "source": [
    "\"\"\"What is a generator function in python? Why yield keyword is used? Give an example of a generator\n",
    "function.?\n",
    "Ans : generator fucntion nothing but it's generate something for us which is use to write in our function body.\n",
    "yield keyword is used to generate output for generator function it use for less memory comsumption comparision to normal function\n",
    "\"\"\"\n",
    "def inf_sequence():\n",
    "    num = 0\n",
    "    while True:\n",
    "        yield num\n",
    "        num += 1\n",
    "         \n",
    "for i in inf_sequence():\n",
    "    print(i, end=\" \")\n",
    "#it generate infinite time of sequence"
   ]
  },
  {
   "cell_type": "code",
   "execution_count": null,
   "id": "74baea95-8b9d-42c9-b859-df719a5c5b4c",
   "metadata": {},
   "outputs": [],
   "source": [
    "Create a generator function for prime numbers less than 1000. Use the next() method to print the\n",
    "first 20 prime numbers."
   ]
  },
  {
   "cell_type": "code",
   "execution_count": 49,
   "id": "45cb633a-29ec-41a1-8bcc-28edc33e4f7a",
   "metadata": {},
   "outputs": [
    {
     "name": "stdout",
     "output_type": "stream",
     "text": [
      "1\n",
      "2\n",
      "3\n",
      "5\n",
      "7\n",
      "11\n",
      "13\n",
      "17\n",
      "19\n",
      "23\n",
      "29\n",
      "31\n",
      "37\n",
      "41\n",
      "43\n",
      "47\n",
      "53\n",
      "59\n",
      "61\n",
      "67\n"
     ]
    }
   ],
   "source": [
    "def checkprime(n):\n",
    "    prime= True\n",
    "    for i in range(2,n):\n",
    "        if n%i==0:\n",
    "            prime= False\n",
    "        \n",
    "    return prime\n",
    "\n",
    "def getPrimes(n):\n",
    "    for i in range(1,n):\n",
    "        if checkprime(i):\n",
    "            yield i\n",
    "        \n",
    "        \n",
    "    \n",
    "arindam1= getPrimes(1000)\n",
    "        \n",
    "for i in range(20):\n",
    "    print(next(arindam1))"
   ]
  },
  {
   "cell_type": "code",
   "execution_count": 51,
   "id": "280d0383-4a88-4f73-b2ca-769510893167",
   "metadata": {},
   "outputs": [
    {
     "name": "stdin",
     "output_type": "stream",
     "text": [
      "enter your limit 10\n"
     ]
    },
    {
     "name": "stdout",
     "output_type": "stream",
     "text": [
      "0\n",
      "1\n",
      "1\n",
      "2\n",
      "3\n",
      "5\n",
      "8\n",
      "13\n",
      "21\n",
      "34\n"
     ]
    }
   ],
   "source": [
    "#Write a python program to print the first 10 Fibonacci numbers using a while loop.\n",
    "a = 0\n",
    "b = 1\n",
    "n = int(input('enter your limit'))\n",
    "while n:\n",
    "    print(a)\n",
    "    a,b=b,a+b\n",
    "    n-=1"
   ]
  },
  {
   "cell_type": "code",
   "execution_count": 54,
   "id": "e08854c8-7b39-434c-a36b-bab098a6db1c",
   "metadata": {},
   "outputs": [
    {
     "name": "stdin",
     "output_type": "stream",
     "text": [
      " pwskills\n"
     ]
    },
    {
     "data": {
      "text/plain": [
       "['P', 'W', 'S', 'K', 'I', 'L', 'L', 'S']"
      ]
     },
     "execution_count": 54,
     "metadata": {},
     "output_type": "execute_result"
    }
   ],
   "source": [
    "'''Write a List Comprehension to iterate through the given string: ‘pwskills’.\n",
    "Expected output: ['p', 'w', 's', 'k', 'i', 'l', 'l', 's']'''\n",
    "s = input()\n",
    "[i.upper() for i in s]"
   ]
  },
  {
   "cell_type": "code",
   "execution_count": 60,
   "id": "23f22594-d026-4bfe-8b28-f64a558fc719",
   "metadata": {},
   "outputs": [
    {
     "name": "stdin",
     "output_type": "stream",
     "text": [
      "enter your number 123456654321\n"
     ]
    },
    {
     "name": "stdout",
     "output_type": "stream",
     "text": [
      "yes this is a palindrom number\n"
     ]
    }
   ],
   "source": [
    "#Write a python program to check whether a given number is Palindrome or not using a while loop.\n",
    "number = int(input('enter your number'))\n",
    "n= number\n",
    "res = 0\n",
    "while number:\n",
    "    rem = number%10\n",
    "    res = res*10+ rem\n",
    "    number//=10\n",
    "if res==n:\n",
    "    print('yes this is a palindrom number')\n",
    "else:\n",
    "    print('ops!!!! this is not a palindrome number')\n",
    "    \n",
    "    "
   ]
  },
  {
   "cell_type": "code",
   "execution_count": null,
   "id": "23b866d4-20b6-4078-a188-f7db663b1536",
   "metadata": {},
   "outputs": [],
   "source": [
    "#Write a code to print odd numbers from 1 to 100 using list comprehension.\n",
    "fo"
   ]
  }
 ],
 "metadata": {
  "kernelspec": {
   "display_name": "Python 3 (ipykernel)",
   "language": "python",
   "name": "python3"
  },
  "language_info": {
   "codemirror_mode": {
    "name": "ipython",
    "version": 3
   },
   "file_extension": ".py",
   "mimetype": "text/x-python",
   "name": "python",
   "nbconvert_exporter": "python",
   "pygments_lexer": "ipython3",
   "version": "3.10.8"
  }
 },
 "nbformat": 4,
 "nbformat_minor": 5
}
