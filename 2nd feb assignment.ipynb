{
 "cells": [
  {
   "cell_type": "code",
   "execution_count": 4,
   "id": "59065c02-22fc-4e60-bfd2-5dfe7e7d6260",
   "metadata": {},
   "outputs": [
    {
     "name": "stdout",
     "output_type": "stream",
     "text": [
      "5\n",
      "4\n",
      "3\n",
      "2\n",
      "1\n",
      "0\n"
     ]
    }
   ],
   "source": [
    "# 1. explain with an example each when to use a for loop and a while loop\n",
    "\"\"\"Ans : when we know how much range is given or know that hoe many steps we have to run our loop thats time we use for loop and when we don't know how many time iterates \n",
    "the loop and till the condition is true our loop have to iterate then we use while loop\"\"\"\n",
    "# while loop example\n",
    "run = True\n",
    "i = 5\n",
    "while run:\n",
    "    if i==0:\n",
    "        run = False\n",
    "    print(i)\n",
    "    i-=1\n",
    "        \n",
    "    "
   ]
  },
  {
   "cell_type": "code",
   "execution_count": 5,
   "id": "6e1429bd-d21f-47ae-b6ed-d759f43eedb8",
   "metadata": {},
   "outputs": [
    {
     "name": "stdout",
     "output_type": "stream",
     "text": [
      "0\n",
      "1\n",
      "2\n",
      "3\n",
      "4\n",
      "5\n",
      "6\n",
      "7\n",
      "8\n",
      "9\n"
     ]
    }
   ],
   "source": [
    "# for loop example\n",
    "for i in range(10):\n",
    "    print(i)"
   ]
  },
  {
   "cell_type": "code",
   "execution_count": 6,
   "id": "0e81bb72-1700-480e-999b-c8375f728286",
   "metadata": {},
   "outputs": [
    {
     "name": "stdout",
     "output_type": "stream",
     "text": [
      "55 3628800\n"
     ]
    }
   ],
   "source": [
    "# 2.write a python program to print the sum and product of the first 10 natural numbers using for loop and while loop\n",
    "sum =0\n",
    "product = 1\n",
    "for i in range(1,11):\n",
    "    sum+=i\n",
    "    product*=i\n",
    "print(sum,product)\n",
    "    "
   ]
  },
  {
   "cell_type": "code",
   "execution_count": 15,
   "id": "f9a59da8-589f-4890-87f9-606d7878af1c",
   "metadata": {},
   "outputs": [
    {
     "name": "stdin",
     "output_type": "stream",
     "text": [
      "Enter your electricity bill 310\n"
     ]
    },
    {
     "name": "stdout",
     "output_type": "stream",
     "text": [
      "2250.0\n"
     ]
    }
   ],
   "source": [
    "# question 3\n",
    "\n",
    "unit = int(input('Enter your electricity bill'))\n",
    "sum = 0\n",
    "\n",
    "for i in range(1,unit+1):\n",
    "    if i<=100:\n",
    "        sum+=4.5\n",
    "    elif i>100 and i<=200:\n",
    "        sum+=6\n",
    "    elif i>200 and i<=300:\n",
    "        sum+=10\n",
    "    else:\n",
    "        sum+=20\n",
    "print(sum)\n",
    "        \n",
    "    \n"
   ]
  },
  {
   "cell_type": "code",
   "execution_count": 16,
   "id": "df43aac9-a87d-4afa-8615-a1d80699ab5f",
   "metadata": {},
   "outputs": [
    {
     "name": "stdout",
     "output_type": "stream",
     "text": [
      "[0, 8, 64, 125, 216, 512, 1000, 1728, 2744, 3375, 4096, 5832, 8000, 10648, 13824, 15625, 17576, 21952, 27000, 32768, 39304, 42875, 46656, 54872, 64000, 74088, 85184, 91125, 97336, 110592, 125000, 140608, 157464, 166375, 175616, 195112, 216000, 238328, 262144, 274625, 287496, 314432, 343000, 373248, 405224, 421875, 438976, 474552, 512000, 551368, 592704, 614125, 636056, 681472, 729000, 778688, 830584, 857375, 884736, 941192, 1000000]\n"
     ]
    }
   ],
   "source": [
    "# 4.create a list of numbers from 1 to 100.use for loop and while loop to calculate the cube of each number and if the cube of that number is divisible by 4 or 5 then append that number in a list and print that list\n",
    "li =[]\n",
    "for i in range(101):\n",
    "    if (i**3)% 4==0 or (i**3)%5 ==0:\n",
    "        li.append(i**3)\n",
    "print(li)\n",
    "    "
   ]
  },
  {
   "cell_type": "code",
   "execution_count": null,
   "id": "33fe0393-1139-4ff7-aaa7-94b8a62f8d04",
   "metadata": {},
   "outputs": [],
   "source": [
    "# 5 . write a program to filter count vowels in the below-given string =\"I want to become a data scientist\"\n",
    "vowels = ['a','e','i','o','u']\n",
    "string = input().lower()\n",
    "count = 0\n",
    "for i in string:\n",
    "    "
   ]
  }
 ],
 "metadata": {
  "kernelspec": {
   "display_name": "Python 3 (ipykernel)",
   "language": "python",
   "name": "python3"
  },
  "language_info": {
   "codemirror_mode": {
    "name": "ipython",
    "version": 3
   },
   "file_extension": ".py",
   "mimetype": "text/x-python",
   "name": "python",
   "nbconvert_exporter": "python",
   "pygments_lexer": "ipython3",
   "version": "3.10.8"
  }
 },
 "nbformat": 4,
 "nbformat_minor": 5
}
