{
 "cells": [
  {
   "cell_type": "code",
   "execution_count": 5,
   "id": "0a73cd3d-8b43-48d6-b200-ea00a2a77bbe",
   "metadata": {},
   "outputs": [
    {
     "data": {
      "text/plain": [
       "[('virat kohli', 24936),\n",
       " ('jack kallis', 25534),\n",
       " ('Ricky ponting', 27483),\n",
       " ('sachin Tendulkar', 34357)]"
      ]
     },
     "execution_count": 5,
     "metadata": {},
     "output_type": "execute_result"
    }
   ],
   "source": [
    "'''Create a python program to sort the given list of tuples based on integer value using a\n",
    "lambda function.'''\n",
    "lis = [('sachin Tendulkar',34357),('Ricky ponting',27483),('jack kallis',25534),('virat kohli',24936)]\n",
    "lis.sort(key = lambda x:x[1])\n",
    "lis"
   ]
  },
  {
   "cell_type": "code",
   "execution_count": 9,
   "id": "334137dc-8822-41ef-b1de-429f8098d382",
   "metadata": {},
   "outputs": [
    {
     "name": "stdout",
     "output_type": "stream",
     "text": [
      "[1, 4, 9, 16, 25, 36, 49, 64, 81, 100]\n"
     ]
    }
   ],
   "source": [
    "'''Write a Python Program to find the squares of all the numbers in the given list of integers using\n",
    "lambda and map functions.'''\n",
    "a = lambda x : x**2\n",
    "lis = [1,2,3,4,5,6,7,8,9,10]\n",
    "print(list(map(a,lis)))"
   ]
  },
  {
   "cell_type": "code",
   "execution_count": 10,
   "id": "f9c9975e-5fe5-4605-9ad2-e88482a66a03",
   "metadata": {},
   "outputs": [
    {
     "name": "stdout",
     "output_type": "stream",
     "text": [
      "('1', '2', '3', '4', '5', '6', '7', '8', '9', '10')\n"
     ]
    }
   ],
   "source": [
    "'''Write a python program to convert the given list of integers into a tuple of strings. Use map and\n",
    "lambda functions'''\n",
    "a = lambda x : str(x)\n",
    "lis = [1, 2, 3, 4, 5, 6, 7, 8, 9, 10]\n",
    "print(tuple(map(a,lis)))"
   ]
  },
  {
   "cell_type": "code",
   "execution_count": 18,
   "id": "987817ba-a0e0-407e-8962-81d97fbdea9a",
   "metadata": {},
   "outputs": [
    {
     "name": "stdout",
     "output_type": "stream",
     "text": [
      "15511210043330985984000000\n"
     ]
    }
   ],
   "source": [
    "'''Write a python program using reduce function to compute the product of a list containing numbers\n",
    "from 1 to 25.'''\n",
    "from functools import reduce\n",
    "lis =[i for i in range(1,26)]\n",
    "a = lambda x,y:x*y\n",
    "print(reduce(a,lis))\n",
    "sum = 1\n"
   ]
  },
  {
   "cell_type": "code",
   "execution_count": 24,
   "id": "a6b1f8f0-0c52-46e6-95ad-070ad4845a82",
   "metadata": {},
   "outputs": [
    {
     "name": "stdout",
     "output_type": "stream",
     "text": [
      "[6, 60, 90, 120]\n"
     ]
    }
   ],
   "source": [
    "'''Write a python program to filter the numbers in a given list that are divisible by 2 and 3 using the\n",
    "filter function.'''\n",
    "lis = [2, 3, 6, 9, 27, 60, 90, 120, 55, 46]\n",
    "a = lambda x : x%2==0 and x%3==0\n",
    "print(list(filter(a,lis)))"
   ]
  },
  {
   "cell_type": "code",
   "execution_count": 25,
   "id": "14341e64-c216-4f89-ad9e-efa3d5e6c64a",
   "metadata": {},
   "outputs": [
    {
     "name": "stdout",
     "output_type": "stream",
     "text": [
      "['php', 'aba', 'radar', 'level']\n"
     ]
    }
   ],
   "source": [
    "'''Write a python program to find palindromes in the given list of strings using lambda and filter\n",
    "function.'''\n",
    "lis = ['python', 'php', 'aba', 'radar', 'level']\n",
    "a = lambda x : x[::-1]== x\n",
    "print(list(filter(a,lis)))"
   ]
  },
  {
   "cell_type": "code",
   "execution_count": null,
   "id": "473b3b27-a782-4cd6-811b-49f8bfaca30d",
   "metadata": {},
   "outputs": [],
   "source": []
  }
 ],
 "metadata": {
  "kernelspec": {
   "display_name": "Python 3 (ipykernel)",
   "language": "python",
   "name": "python3"
  },
  "language_info": {
   "codemirror_mode": {
    "name": "ipython",
    "version": 3
   },
   "file_extension": ".py",
   "mimetype": "text/x-python",
   "name": "python",
   "nbconvert_exporter": "python",
   "pygments_lexer": "ipython3",
   "version": "3.10.8"
  }
 },
 "nbformat": 4,
 "nbformat_minor": 5
}
