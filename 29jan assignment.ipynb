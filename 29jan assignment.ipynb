{
 "cells": [
  {
   "cell_type": "raw",
   "id": "98562787-6890-4821-ae38-7e61a6b1aa13",
   "metadata": {},
   "source": [
    "1.who developed python programming language?\n",
    "Ans : Guido van Rossum"
   ]
  },
  {
   "cell_type": "raw",
   "id": "131e7afd-d18c-441a-8900-c3e783cf6cde",
   "metadata": {},
   "source": [
    "2.Which type of programming does python support?\n",
    "Ans : Object oriented programming "
   ]
  },
  {
   "cell_type": "raw",
   "id": "02cd1b8c-c1f4-4f19-a44f-ab284f962cfd",
   "metadata": {},
   "source": [
    "3.is python is case sensitive when dealing with identifiers?\n",
    "Ans : yes"
   ]
  },
  {
   "cell_type": "raw",
   "id": "8b17f4a9-b25d-4c57-a687-10c3b1775633",
   "metadata": {},
   "source": [
    "4.What is the correct extension of the python file?\n",
    "Ans : .py"
   ]
  },
  {
   "cell_type": "raw",
   "id": "3579f933-513b-4b30-8d25-492bcc8c0b30",
   "metadata": {},
   "source": [
    "5.Is python code compiled or interpreted?\n",
    "Ans : interpreted"
   ]
  },
  {
   "cell_type": "raw",
   "id": "4a7b1c95-20d1-42d4-afbe-9c43c8967a5d",
   "metadata": {},
   "source": [
    "6.Name a few blocks of code used to define in python language?\n",
    "Ans : a module, a function body, and a class definition"
   ]
  },
  {
   "cell_type": "raw",
   "id": "aad00fe0-0ea8-441f-97c1-964ae1b09909",
   "metadata": {},
   "source": [
    "7.State a charecter used to give single line comments in python?\n",
    "Ans : #"
   ]
  },
  {
   "cell_type": "raw",
   "id": "c036faa5-bf28-4d02-99bd-90f98a3177a6",
   "metadata": {},
   "source": [
    "8.Mention function which can help us to find the version of python that are currently working on?\n",
    "Ans : sys. version\n",
    "\n",
    "9.Python supports the creation of ananymous function at runtime,using a construct called lamda\n",
    "\n",
    "10.what does pip stads for python?\n",
    "Ans : pip install packages\n",
    "\n",
    "11. Mention a few built in function in python?\n",
    "Ans : len(),type(),find()\n",
    "\n",
    "12.what is the maximum possible lenth of an identifier in python?\n",
    "Ans : 79\n",
    "\n",
    "13.what are the benifit of using python?\n",
    "Ans : we can write code very fast.easy to learn.time saving.lot of build in function\n",
    "\n",
    "\n",
    "14.How memory manage in python?\n",
    "Ans : involves a private heap containing all Python objects and data structures.\n",
    "\n",
    "\n",
    "\n",
    "15. How to install python on windowa and set path variable?\n",
    "Ans : Install python from this link https://www.python.org/downloads/\n",
    "After this, install it on your PC. Look for the location where PYTHON has been installed on your PC using tge following command on your command prompt: cmd python.\n",
    "Then go to advanced system settings and add new variable and name it as PYTHON_NAME and paste the copied path.\n",
    "Then look for the path variable, select it's value and select edit\n",
    "Add a semicolon towards the end of the value if it's not present and then type %PYTHON_HOME%\n",
    "\n",
    "16. Is Identation required in python?\n",
    "Ans : ye"
   ]
  }
 ],
 "metadata": {
  "kernelspec": {
   "display_name": "Python 3 (ipykernel)",
   "language": "python",
   "name": "python3"
  },
  "language_info": {
   "codemirror_mode": {
    "name": "ipython",
    "version": 3
   },
   "file_extension": ".py",
   "mimetype": "text/x-python",
   "name": "python",
   "nbconvert_exporter": "python",
   "pygments_lexer": "ipython3",
   "version": "3.10.8"
  }
 },
 "nbformat": 4,
 "nbformat_minor": 5
}
