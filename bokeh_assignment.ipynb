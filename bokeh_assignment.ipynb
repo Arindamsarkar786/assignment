{
  "nbformat": 4,
  "nbformat_minor": 0,
  "metadata": {
    "colab": {
      "provenance": []
    },
    "kernelspec": {
      "name": "python3",
      "display_name": "Python 3"
    },
    "language_info": {
      "name": "python"
    }
  },
  "cells": [
    {
      "cell_type": "markdown",
      "source": [
        "Q1. How can you create a Bokeh plot using Python code?\n",
        "\n",
        "Ans : we can import bokeh.io bokeh.plotting and use it to plot graph\n"
      ],
      "metadata": {
        "id": "y0DW7OZ-qXTb"
      }
    },
    {
      "cell_type": "markdown",
      "source": [
        "Q2. What are glyphs in Bokeh, and how can you add them to a Bokeh plot? Explain with an example."
      ],
      "metadata": {
        "id": "zEXBVVbgqw2q"
      }
    },
    {
      "cell_type": "code",
      "source": [
        "from bokeh.plotting import figure, show\n",
        "from bokeh.io import output_file\n",
        " \n",
        "# prepare some data\n",
        "x = [1, 2, 4, 6, 7]\n",
        "y = [7, 6, 3, 9, 10]\n",
        " \n",
        "# create a new plot with figure function\n",
        "p = figure(title=\"Circle Glyph\", plot_width=450, plot_height=400)\n",
        " \n",
        "# create circle glyph\n",
        "p.circle(x=x, y=y, size=25, fill_color=\"red\")\n",
        "p.circle_cross(x=[2, 4, 6, 8], y=[5, 8, 9, 11], size=25,\n",
        "               fill_color=\"blue\", fill_alpha=0.3, line_width=2)\n",
        "p.circle_x(x=[4, 7, 2, 6], y=[7, 2, 4, 9], size=25,\n",
        "           fill_color=\"green\", fill_alpha=0.6, line_width=2)\n",
        " \n",
        "# show the results\n",
        "output_file('circle.html')\n",
        "show(p)"
      ],
      "metadata": {
        "id": "WHgEQIkFqaWe"
      },
      "execution_count": 7,
      "outputs": []
    },
    {
      "cell_type": "markdown",
      "source": [
        "Q3. How can you customize the appearance of a Bokeh plot, including the axes, title, and legend?"
      ],
      "metadata": {
        "id": "xUqUjKaPt-fz"
      }
    },
    {
      "cell_type": "code",
      "source": [
        "x = [1,2,3,4,5]\n",
        "y = [4,5,13,7,8]\n",
        "output_file('line.html')\n",
        "p = figure(title='line plot')\n",
        "p.xaxis.axis_label ='x axis'\n",
        "p.yaxis.axis_label = 'y axis'\n",
        "p.scatter(x,y,color='red',legend_label='red point',size=20)\n",
        "show(p)"
      ],
      "metadata": {
        "id": "fkY-Czc8uBg-"
      },
      "execution_count": 8,
      "outputs": []
    },
    {
      "cell_type": "markdown",
      "source": [
        "Q4. What is a Bokeh server, and how can you use it to create interactive plots that can be updated in\n",
        "real time?"
      ],
      "metadata": {
        "id": "TYqE4oWWuJrA"
      }
    },
    {
      "cell_type": "markdown",
      "source": [
        "Bokeh server makes it easy to create interactive web applications that connect front-end UI events to running Python code. Bokeh creates high-level Python models, such as plots, ranges, axes, and glyphs, and then converts these objects to JSON to pass them to its client library, BokehJS."
      ],
      "metadata": {
        "id": "__lYBiyvucKJ"
      }
    },
    {
      "cell_type": "markdown",
      "source": [
        "Q5. How can you embed a Bokeh plot into a web page or dashboard using Flask or Django?"
      ],
      "metadata": {
        "id": "hAuHI9SQunDZ"
      }
    },
    {
      "cell_type": "code",
      "source": [
        "!pip install django\n",
        "from django.shortcuts import render\n",
        "from django.http import HttpResponse\n",
        "from bokeh.plotting import figure\n",
        "from bokeh.embed import components\n",
        " \n",
        "# Create your views here.\n",
        " \n",
        "def home(request):\n",
        " \n",
        "   #create a plot\n",
        "    plot = figure(plot_width=400, plot_height=400)\n",
        " \n",
        "   # add a circle renderer with a size, color, and alpha\n",
        " \n",
        "    plot.circle([1, 2, 3, 4, 5], [6, 7, 2, 4, 5], size=20, color=\"navy\", alpha=0.5)\n",
        " \n",
        "    script, div = components(plot)\n",
        " \n",
        "    return render(request, 'base.html', {'script': script, 'div': div})"
      ],
      "metadata": {
        "colab": {
          "base_uri": "https://localhost:8080/"
        },
        "id": "lYdsI7HHuGUq",
        "outputId": "5c18a426-54c6-4d9a-d4de-a6afb364978f"
      },
      "execution_count": 13,
      "outputs": [
        {
          "output_type": "stream",
          "name": "stdout",
          "text": [
            "Looking in indexes: https://pypi.org/simple, https://us-python.pkg.dev/colab-wheels/public/simple/\n",
            "Collecting django\n",
            "  Downloading Django-4.2.1-py3-none-any.whl (8.0 MB)\n",
            "\u001b[2K     \u001b[90m━━━━━━━━━━━━━━━━━━━━━━━━━━━━━━━━━━━━━━━━\u001b[0m \u001b[32m8.0/8.0 MB\u001b[0m \u001b[31m45.6 MB/s\u001b[0m eta \u001b[36m0:00:00\u001b[0m\n",
            "\u001b[?25hCollecting asgiref<4,>=3.6.0 (from django)\n",
            "  Downloading asgiref-3.6.0-py3-none-any.whl (23 kB)\n",
            "Requirement already satisfied: sqlparse>=0.3.1 in /usr/local/lib/python3.10/dist-packages (from django) (0.4.4)\n",
            "Installing collected packages: asgiref, django\n",
            "Successfully installed asgiref-3.6.0 django-4.2.1\n"
          ]
        }
      ]
    },
    {
      "cell_type": "code",
      "source": [],
      "metadata": {
        "id": "pXx25pbLvDN0"
      },
      "execution_count": 10,
      "outputs": []
    }
  ]
}