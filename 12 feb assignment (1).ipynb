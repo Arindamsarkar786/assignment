{
 "cells": [
  {
   "cell_type": "markdown",
   "id": "a2480b60-6174-474a-80df-0a3c496c6d39",
   "metadata": {},
   "source": [
    "# what is a exception in python? write the difference between exception and syntax error?\n",
    "\"\"\"Ans :An exception is an event, which occurs during the execution of a \n",
    "program that disrupts the normal flow of the program's instructions..\n",
    "whenever we write wrong sytex of programming language it give us syntex error and when we write wrong logic or \n",
    "wrong code or any type of code which is not fitted at that time in this position it produce error and stopped execution\n",
    "but we can run the other code using execption and it will show you message this type of error you suppose to get but \n",
    "program will execute perfectly\"\"\""
   ]
  },
  {
   "cell_type": "code",
   "execution_count": 9,
   "id": "f726ef4c-423e-4cab-b401-42f98caf9e4b",
   "metadata": {},
   "outputs": [
    {
     "name": "stdout",
     "output_type": "stream",
     "text": [
      "division by zero\n"
     ]
    }
   ],
   "source": [
    "# what happend when an exeption is not handled?explain with a example?\n",
    "'''Ans : if we are not handled with exeption it will show you an error and stopped the execution remaining code'''\n",
    "try :\n",
    "    10/0\n",
    "    print('arindam sarkar')\n",
    "except Exception as e: # here we handled the exception with the Exeption\n",
    "    print(e)\n"
   ]
  },
  {
   "cell_type": "code",
   "execution_count": 10,
   "id": "9bb6d16b-27f5-489d-862c-f05483bd03e7",
   "metadata": {},
   "outputs": [
    {
     "ename": "ZeroDivisionError",
     "evalue": "division by zero",
     "output_type": "error",
     "traceback": [
      "\u001b[0;31m---------------------------------------------------------------------------\u001b[0m",
      "\u001b[0;31mZeroDivisionError\u001b[0m                         Traceback (most recent call last)",
      "Cell \u001b[0;32mIn[10], line 1\u001b[0m\n\u001b[0;32m----> 1\u001b[0m \u001b[38;5;241;43m10\u001b[39;49m\u001b[38;5;241;43m/\u001b[39;49m\u001b[38;5;241;43m0\u001b[39;49m \u001b[38;5;66;03m# this will give you error\u001b[39;00m\n\u001b[1;32m      2\u001b[0m \u001b[38;5;28mprint\u001b[39m(\u001b[38;5;124m'\u001b[39m\u001b[38;5;124marindam sarkar\u001b[39m\u001b[38;5;124m'\u001b[39m)\u001b[38;5;66;03m#this will not execute \u001b[39;00m\n",
      "\u001b[0;31mZeroDivisionError\u001b[0m: division by zero"
     ]
    }
   ],
   "source": [
    "10/0 # this will give you error\n",
    "print('arindam sarkar')#this will not execute "
   ]
  },
  {
   "cell_type": "code",
   "execution_count": 11,
   "id": "6b9a33e9-9756-4f2f-8e33-1092b8856997",
   "metadata": {},
   "outputs": [
    {
     "name": "stdout",
     "output_type": "stream",
     "text": [
      "invalid literal for int() with base 10: 'arindam'\n"
     ]
    }
   ],
   "source": [
    "#which python statement are used to catch and handle exception? explain with an example.\n",
    "'''try and except is used to catch and handle exception'''\n",
    "try :\n",
    "    a = int('arindam')\n",
    "except Exception as a:\n",
    "    print(a)"
   ]
  },
  {
   "cell_type": "code",
   "execution_count": 12,
   "id": "e62b1614-1785-4e85-9021-8fdfd30934cf",
   "metadata": {},
   "outputs": [
    {
     "name": "stdout",
     "output_type": "stream",
     "text": [
      "this will execute when no exception occure\n",
      "this will execute always\n"
     ]
    }
   ],
   "source": [
    "#Q4. Explain with an example:\n",
    "\n",
    "'''Try: This block will test the excepted error to occur\n",
    "Except:  Here you can handle the error\n",
    "Else: If there is no exception then this block will be executed\n",
    "Finally: Finally block always gets executed either exception is generated or not'''\n",
    "\n",
    "\n",
    "try:\n",
    "       # Some Code.... \n",
    "        pass\n",
    "\n",
    "except Exception as e:\n",
    "        print(e)\n",
    "       # optional block\n",
    "       # Handling of exception (if required)\n",
    "\n",
    "else:\n",
    "       # execute if no exception\n",
    "        print('this will execute when no exception occure')\n",
    "\n",
    "finally:\n",
    "      # Some code .....(always executed)\n",
    "        print('this will execute always')\n"
   ]
  },
  {
   "cell_type": "markdown",
   "id": "1798469f-5995-401c-a6b6-4c05956d6fc3",
   "metadata": {},
   "source": [
    "# what are custom Exception in python ? why do we need custom exception ?explain with an example.\n",
    "'''custom exception is a exception those are not available in python module but i have to rais \n",
    "according to me then we write our own exception class that's called custom exception\n",
    "'''\n",
    "example:let's take one example if we give input of age or no of member in a room \n",
    "here it practically not possible the age of any person in negative or greater then 150 and other side their is no negative no of member in a room\n",
    "we can't .but here python takes the input but their is no exception show because python can take input as a integer and integer could be negative\n",
    "at this situation we can create our own custom exception class which will show us negative value error"
   ]
  },
  {
   "cell_type": "code",
   "execution_count": 14,
   "id": "ac847068-1e2e-4a76-8f12-2c250122869b",
   "metadata": {},
   "outputs": [],
   "source": [
    "#Q6 . create a custom exception class . use this class to ha handle an exception\n",
    "class validatw_age(Exception):\n",
    "    def __init__(self,msg):\n",
    "        self.msg=msg"
   ]
  },
  {
   "cell_type": "code",
   "execution_count": 15,
   "id": "7510c328-1aa3-4f6d-b19a-d9b432d5c00e",
   "metadata": {},
   "outputs": [],
   "source": [
    "def validateage(age):\n",
    "    if age<0:\n",
    "        raise validatw_age('entered age is negative')\n",
    "    elif age>200:\n",
    "        raise validatw_age('entered age is very ver high')\n",
    "    else:\n",
    "        print('age is valid')"
   ]
  },
  {
   "cell_type": "code",
   "execution_count": 16,
   "id": "690b0d93-5221-42fe-8330-5159b49db20d",
   "metadata": {},
   "outputs": [
    {
     "name": "stdin",
     "output_type": "stream",
     "text": [
      "enter the age -93563\n"
     ]
    },
    {
     "name": "stdout",
     "output_type": "stream",
     "text": [
      "entered age is negative\n"
     ]
    }
   ],
   "source": [
    "try:\n",
    "    age = int(input('enter the age'))\n",
    "    validateage(age)\n",
    "except validatw_age as a:\n",
    "    print(a)\n",
    "    "
   ]
  },
  {
   "cell_type": "code",
   "execution_count": null,
   "id": "9ec2ed3c-de72-46c5-8f71-e98fc3840090",
   "metadata": {},
   "outputs": [],
   "source": []
  }
 ],
 "metadata": {
  "kernelspec": {
   "display_name": "Python 3 (ipykernel)",
   "language": "python",
   "name": "python3"
  },
  "language_info": {
   "codemirror_mode": {
    "name": "ipython",
    "version": 3
   },
   "file_extension": ".py",
   "mimetype": "text/x-python",
   "name": "python",
   "nbconvert_exporter": "python",
   "pygments_lexer": "ipython3",
   "version": "3.10.8"
  }
 },
 "nbformat": 4,
 "nbformat_minor": 5
}
