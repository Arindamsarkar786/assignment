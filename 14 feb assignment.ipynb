{
 "cells": [
  {
   "cell_type": "markdown",
   "id": "175c0fc8-7df8-44e7-bb36-9df1499c89f8",
   "metadata": {},
   "source": [
    "# Q1.what is multithreading in python? why is it used? Name the module used to handle threads in python\n",
    "Ans : multithreading is a use of multiple thread in one proccess.it is used for enhance the performance of the code.\n",
    "threading module is used for handle multiple threads"
   ]
  },
  {
   "cell_type": "markdown",
   "id": "d32cbde6-4054-4a47-8eac-c10f34d70bee",
   "metadata": {},
   "source": [
    "Q2. why threading module used? write the use of the following functions\\\n",
    "1.activeCount()\n",
    "\n",
    "2.currentThread()\n",
    "\n",
    "3.enumerate()\n",
    "\n",
    "Ans : threading module used for handle multiple thread in one proccess.\n",
    "\n",
    "1. activeCount() : Returns the number of thread objects that are active.\n",
    "\n",
    "2.currentThread() :The method currentThread() of the Thread class can be used to obtain the current thread\n",
    "\n",
    "3.enumerate() :enumerate() allows us to iterate through a sequence but it keeps track of both the index and the \n",
    "\n",
    "element.\n",
    "\n"
   ]
  },
  {
   "cell_type": "markdown",
   "id": "c0ee3be5-10e5-489b-9513-0d5e197cdc11",
   "metadata": {},
   "source": [
    "Q3.Explain the following functions\n",
    "\n",
    "1.run()\n",
    "\n",
    "2.start()\n",
    "\n",
    "3.join()\n",
    "\n",
    "4.isAlive()\n",
    "\n",
    "Ans : \n",
    "\n",
    "1.run() : executes any target function belonging to a given thread object that is now active\n",
    "\n",
    "2.start() : start the execution  thread\n",
    "\n",
    "3.join(): join the thread to another thread and wait for complete exectution of previous thread\n",
    "\n",
    "4.isAlive(): this is used for to check the current threads are alive or not "
   ]
  },
  {
   "cell_type": "markdown",
   "id": "3beee85b-cfc5-41b3-b30c-245e17cec4e5",
   "metadata": {},
   "source": [
    "4. write a python program to create two threads. Thread one must print the list of squares and thread\n",
    "two must print the list of cubes"
   ]
  },
  {
   "cell_type": "code",
   "execution_count": 6,
   "id": "e5980e68-a2c7-4e12-9142-87263332bec3",
   "metadata": {},
   "outputs": [],
   "source": [
    "import threading\n",
    "def square(list):\n",
    "    print( [i**2 for i in list])\n",
    "\n",
    "def qubes(list):\n",
    "    print ([i**3 for i in list])\n"
   ]
  },
  {
   "cell_type": "code",
   "execution_count": 7,
   "id": "9781960e-53ef-4765-9b06-2f9dae1005c1",
   "metadata": {},
   "outputs": [
    {
     "name": "stdout",
     "output_type": "stream",
     "text": [
      "[1, 4, 9, 16, 25, 36, 49]\n",
      "[1, 8, 27, 64, 125, 216, 343]\n",
      "all done\n"
     ]
    }
   ],
   "source": [
    "\n",
    "if __name__ == '__main__':\n",
    "    lis = [1,2,3,4,5,6,7]\n",
    "    \n",
    "    t1 = threading.Thread(target=square,args=(lis,))\n",
    "    t2 = threading.Thread(target=qubes,args =(lis,))\n",
    "    t1.start()\n",
    "    t2.start()\n",
    "    t1.join()\n",
    "    t2.join()\n",
    "    print('all done')\n",
    "    "
   ]
  },
  {
   "cell_type": "markdown",
   "id": "54a61d1a-5f76-46bb-98b4-659cd4db211d",
   "metadata": {},
   "source": [
    "Q5.State advantages and disadvantages of multithreading\n",
    "advantages of multithreading :\n",
    "    \n",
    "    1.Enhanced performance by decreased development time\n",
    "    \n",
    "    2.Simplified and streamlined program coding\n",
    "    \n",
    "    3.Improvised GUI responsiveness\n",
    "    \n",
    "    4.Simultaneous and parallelized occurrence of tasks\n",
    "    \n",
    "    5.Better use of cache storage by utilization of resources\n",
    "    \n",
    "    6.Decreased cost of maintenance\n",
    "    \n",
    "    7.Better use of CPU resource\n",
    "\n",
    "disadvantage of multithreading:\n",
    "    \n",
    "    1.Complex debugging and testing processes\n",
    "    \n",
    "    2.Overhead switching of context\n",
    "    \n",
    "    3.Increased potential for deadlock occurrence\n",
    "    \n",
    "    4.Increased difficulty level in writing a program\n",
    "    \n",
    "    5.Unpredictable results"
   ]
  },
  {
   "cell_type": "markdown",
   "id": "9b1e286e-e610-4b32-aefb-f9ab577a053d",
   "metadata": {},
   "source": [
    "Q6. Explain deadlocks and race conditions.\n",
    "race condition :\n",
    "In Python, a race condition occurs when two or more threads or processes try to access and modify \n",
    "a shared resource simultaneously, and the outcome of the operations depends on the order in which\n",
    "they are executed. This can result in unexpected behavior, such as data corruption or inconsistent results.\n",
    "\n",
    "For example, suppose you have two threads that both try to increment a variable by one.\n",
    "If they access and modify the variable at the same time, the value of the variable may not\n",
    "be incremented by two as expected, but only by one, because each thread will overwrite the other's modification.\n",
    "\n",
    "To avoid race conditions in Python, you can use synchronization mechanisms such as locks,\n",
    "semaphores, and barriers to ensure that only one thread or process can access the shared resource at a time.\n",
    "Another approach is to use atomic operations, which are guaranteed to execute as a single, indivisible operation,\n",
    "and thus prevent interference from other threads or processes.\n",
    "\n",
    "deadlock :\n",
    "\n",
    "Deadlock is a situation that can occur in a concurrent program when two or more threads or processes are \n",
    "blocked and waiting for each other to release a resource or finish an operation, resulting in a situation \n",
    "where none of them can proceed. In other words, a deadlock occurs when two or more threads are stuck in a \n",
    "loop, waiting for each other to release a resource that they are holding.\n",
    "\n",
    "For example, suppose you have two threads, A and B, each of which needs to acquire two resources, X and Y, \n",
    "to complete their respective tasks. If thread A acquires resource X and thread B acquires resource Y, and then\n",
    "both threads try to acquire the other resource that is being held by the other thread, a deadlock can occur.\n",
    "Neither thread can proceed until the other thread releases the resource, but neither thread will release the \n",
    "resource until it has acquired the other resource, resulting in a deadlock.\n",
    "\n",
    "Deadlocks can be difficult to detect and resolve because they can occur unpredictably and may not always be \n",
    "reproducible. To prevent deadlocks in concurrent programs, it is important to use synchronization mechanisms \n",
    "such as locks, semaphores, and condition variables correctly, and to avoid circular dependencies among resources.\n",
    "\n",
    "\n",
    "\n"
   ]
  },
  {
   "cell_type": "code",
   "execution_count": null,
   "id": "205a1783-fe71-435d-856d-3154a34d177c",
   "metadata": {},
   "outputs": [],
   "source": []
  }
 ],
 "metadata": {
  "kernelspec": {
   "display_name": "Python 3 (ipykernel)",
   "language": "python",
   "name": "python3"
  },
  "language_info": {
   "codemirror_mode": {
    "name": "ipython",
    "version": 3
   },
   "file_extension": ".py",
   "mimetype": "text/x-python",
   "name": "python",
   "nbconvert_exporter": "python",
   "pygments_lexer": "ipython3",
   "version": "3.10.8"
  }
 },
 "nbformat": 4,
 "nbformat_minor": 5
}
