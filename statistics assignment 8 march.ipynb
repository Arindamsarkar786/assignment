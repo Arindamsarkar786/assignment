{
 "cells": [
  {
   "cell_type": "markdown",
   "id": "93133c1d-ca3e-454c-b984-0c51f8cbbe2b",
   "metadata": {},
   "source": [
    "Q1. What is the Probability density function?\n",
    "\n",
    "Ans :\n",
    "\n",
    "The Probability Density Function (PDF) is a fundamental concept in probability theory and statistics that describes the probability distribution of a continuous random variable. It is a function that gives the relative likelihood of observing a particular value of the random variable.\n",
    "\n",
    "The PDF is defined as the derivative of the Cumulative Distribution Function (CDF) with respect to the random variable. In other words, it is the rate of change of the CDF at a given point.\n",
    "\n",
    "Mathematically, the PDF of a continuous random variable X is denoted by f(x) and is defined as:\n",
    "\n",
    "f(x) = dF(x)/dx\n",
    "\n",
    "where F(x) is the CDF of X.\n",
    "\n",
    "The PDF can take any value between 0 and infinity, and the area under the PDF curve between two points represents the probability that the random variable falls within that range. The total area under the PDF curve is always equal to 1, as the random variable must fall within the range of possible values.\n",
    "\n",
    "In summary, the PDF is a function that describes the likelihood of observing a particular value of a continuous random variable, and is an essential tool for analyzing and modeling probabilistic systems in a wide range of fields, including physics, engineering, finance, and biology."
   ]
  },
  {
   "cell_type": "markdown",
   "id": "4b77859e-4328-428a-8654-0cdf3b4abca7",
   "metadata": {},
   "source": [
    "Q2. What are the types of Probability distribution?\n",
    "\n",
    "Ans :\n",
    "\n",
    "There are several types of probability distributions, each of which describes the likelihood of different outcomes for a random variable. The choice of distribution depends on the nature of the data and the type of analysis being conducted. Some common types of probability distributions include:\n",
    "\n",
    "1. Normal distribution: The normal distribution, also known as the Gaussian distribution, is one of the most common probability distributions. It is characterized by a symmetric, bell-shaped curve and is used to model many naturally occurring phenomena, such as human height, IQ scores, and blood pressure.\n",
    "\n",
    "2. Binomial distribution: The binomial distribution is used to model the probability of a binary outcome, such as success or failure. It is characterized by a discrete set of possible outcomes and is often used in experiments where the outcome is either a success or a failure, such as flipping a coin or conducting a survey.\n",
    "\n",
    "3. Poisson distribution: The Poisson distribution is used to model the probability of rare events occurring in a given time or space. It is characterized by a discrete set of possible outcomes and is often used in applications such as queueing theory, telecommunications, and epidemiology.\n",
    "\n",
    "4. Exponential distribution: The exponential distribution is used to model the time between rare events occurring. It is characterized by a continuous set of possible outcomes and is often used in applications such as reliability analysis, queuing theory, and financial modeling.\n",
    "\n",
    "5. Gamma distribution: The gamma distribution is a family of continuous probability distributions that are used to model the sum of exponentially distributed random variables. It is often used in applications such as insurance, finance, and physics.\n",
    "\n",
    "6. Chi-square distribution: The chi-square distribution is used to model the sum of squared normal random variables. It is often used in applications such as hypothesis testing and goodness-of-fit tests.\n",
    "\n",
    "7. Beta distribution: The beta distribution is a family of continuous probability distributions that are used to model the probability of success in a binary experiment. It is often used in applications such as Bayesian analysis, quality control, and marketing.\n",
    "\n",
    "These are just a few of the many types of probability distributions that are used in probability theory and statistics to model various phenomena and analyze data."
   ]
  },
  {
   "cell_type": "markdown",
   "id": "eeaa4c29-210b-41bc-88aa-421ae4e0befd",
   "metadata": {},
   "source": [
    "Q3. Write a Python function to calculate the probability density function of a normal distribution with\n",
    "given mean and standard deviation at a given point.\n",
    "\n",
    "Ans :Sure, here's an example Python function to calculate the probability density function (PDF) of a normal distribution with a given mean and standard deviation at a given point using the scipy library:\n",
    "\n",
    "```python\n",
    "from scipy.stats import norm\n",
    "\n",
    "def normal_pdf(x, mean, std_dev):\n",
    "    \"\"\"\n",
    "    Calculates the PDF of a normal distribution with the given mean and standard deviation at a given point.\n",
    "    \"\"\"\n",
    "    return norm.pdf(x, loc=mean, scale=std_dev)\n",
    "```\n",
    "\n",
    "Here, the `norm.pdf()` function from the `scipy.stats` library is used to calculate the PDF of the normal distribution at the given point `x` with the given `mean` and `std_dev` parameters. The `loc` parameter corresponds to the mean of the distribution, and the `scale` parameter corresponds to the standard deviation.\n",
    "\n",
    "To use this function, simply call it with the desired values for `x`, `mean`, and `std_dev`, like this:\n",
    "\n",
    "```python\n",
    "pdf_value = normal_pdf(x=2, mean=0, std_dev=1)\n",
    "print(pdf_value)\n",
    "```\n",
    "\n",
    "This would calculate the PDF of a normal distribution with mean 0 and standard deviation 1 at the point x=2 and print the resulting PDF value."
   ]
  },
  {
   "cell_type": "markdown",
   "id": "94ac077e-fe44-44b6-a6e8-d510943cbc8c",
   "metadata": {},
   "source": [
    "Q4. What are the properties of Binomial distribution? Give two examples of events where binomial\n",
    "distribution can be applied.\n",
    "\n",
    "Ans :The binomial distribution is a discrete probability distribution that models the probability of obtaining a certain number of successes in a fixed number of independent trials, where each trial has only two possible outcomes (success or failure). The properties of the binomial distribution include:\n",
    "\n",
    "1. The number of trials n is fixed.\n",
    "2. The trials are independent.\n",
    "3. Each trial has only two possible outcomes.\n",
    "4. The probability of success p is constant for each trial.\n",
    "5. The random variable X represents the number of successes in n trials.\n",
    "\n",
    "Two examples of events where the binomial distribution can be applied are:\n",
    "\n",
    "1. Flipping a coin: The binomial distribution can be used to model the probability of obtaining a certain number of heads in a fixed number of coin flips. If we define success as getting heads, then each flip has two possible outcomes (success or failure), and the probability of success is constant (0.5) for each flip.\n",
    "\n",
    "2. Testing a drug: The binomial distribution can be used to model the probability of a certain number of patients responding positively to a new drug in a fixed number of clinical trials. If we define success as a patient responding positively to the drug, then each trial has two possible outcomes (success or failure), and the probability of success is constant (depending on the effectiveness of the drug) for each trial.\n",
    "\n",
    "In general, the binomial distribution is useful in any situation where there are a fixed number of independent trials with only two possible outcomes, and we are interested in the probability of obtaining a certain number of successes."
   ]
  },
  {
   "cell_type": "markdown",
   "id": "419d6e66-6229-402a-90c7-95cdb08531ce",
   "metadata": {},
   "source": [
    "Q5. Generate a random sample of size 1000 from a binomial distribution with probability of success 0.4\n",
    "and plot a histogram of the results using matplotlib.\n"
   ]
  },
  {
   "cell_type": "code",
   "execution_count": 1,
   "id": "41101489-9fad-4539-af0d-1594e220356a",
   "metadata": {},
   "outputs": [
    {
     "data": {
      "image/png": "[encoded data removed]",
      "text/plain": [
       "<Figure size 640x480 with 1 Axes>"
      ]
     },
     "metadata": {},
     "output_type": "display_data"
    }
   ],
   "source": [
    "import numpy as np\n",
    "import matplotlib.pyplot as plt\n",
    "\n",
    "# Generate a random sample of size 1000 from a binomial distribution with p=0.4\n",
    "sample_size = 1000\n",
    "p = 0.4\n",
    "sample = np.random.binomial(n=1, p=p, size=sample_size)\n",
    "\n",
    "# Plot a histogram of the sample\n",
    "plt.hist(sample, bins=2, color='blue', alpha=0.5)\n",
    "plt.xlabel('Success (1) / Failure (0)')\n",
    "plt.ylabel('Frequency')\n",
    "plt.title(f'Binomial Distribution (n={sample_size}, p={p})')\n",
    "plt.show()"
   ]
  },
  {
   "cell_type": "markdown",
   "id": "c4803b14-7225-4290-8568-a9bc765cf6d3",
   "metadata": {},
   "source": [
    "Q6. Write a Python function to calculate the cumulative distribution function of a Poisson distribution\n",
    "with given mean at a given point."
   ]
  },
  {
   "cell_type": "code",
   "execution_count": 2,
   "id": "5d9a979a-2c25-449f-9bac-83f1f6417240",
   "metadata": {},
   "outputs": [
    {
     "name": "stdout",
     "output_type": "stream",
     "text": [
      "0.42319008112684364\n"
     ]
    }
   ],
   "source": [
    "from scipy.stats import poisson\n",
    "\n",
    "def poisson_cdf(x, mean):\n",
    "    \"\"\"\n",
    "    Calculates the CDF of a Poisson distribution with the given mean at a given point.\n",
    "    \"\"\"\n",
    "    return poisson.cdf(x, mu=mean)\n",
    "cdf_value = poisson_cdf(x=2, mean=3)\n",
    "print(cdf_value)\n"
   ]
  },
  {
   "cell_type": "markdown",
   "id": "a0a6f58a-21c2-4445-9ba4-9cb0a49fd832",
   "metadata": {},
   "source": [
    "Q7. How Binomial distribution different from Poisson distribution?\n",
    "\n",
    "Ans :The binomial distribution and Poisson distribution are both probability distributions commonly used in statistics to model random events. However, there are some key differences between them:\n",
    "\n",
    "1. Number of trials: The binomial distribution models the number of successes in a fixed number of independent trials, where each trial has only two possible outcomes (success or failure). In contrast, the Poisson distribution models the number of occurrences of a rare event in a fixed unit of time or space, where the events are assumed to occur independently of each other.\n",
    "\n",
    "2. Probability of success: In the binomial distribution, the probability of success is constant for each trial. In the Poisson distribution, the probability of an event occurring is constant over time or space, but it is not necessarily the same for each event.\n",
    "\n",
    "3. Assumptions: The binomial distribution assumes that the trials are independent and the probability of success is constant for each trial. The Poisson distribution assumes that the events occur randomly and independently of each other, and that the rate of occurrence is constant over time or space.\n",
    "\n",
    "4. Shape of distribution: The binomial distribution is a discrete distribution with a finite number of possible outcomes, while the Poisson distribution is also discrete but can take on an infinite number of possible outcomes.\n",
    "\n",
    "5. Range of parameters: The parameters of the binomial distribution are the number of trials (n) and the probability of success (p), while the parameter of the Poisson distribution is the rate parameter (λ), which represents the average number of occurrences per unit of time or space.\n",
    "\n",
    "In summary, the binomial distribution is used to model the number of successes in a fixed number of independent trials with a constant probability of success, while the Poisson distribution is used to model the number of rare events occurring randomly and independently of each other over a fixed unit of time or space."
   ]
  },
  {
   "cell_type": "markdown",
   "id": "f6a4d25d-d56f-4386-be14-83a53bde65ad",
   "metadata": {},
   "source": [
    "Q8. Generate a random sample of size 1000 from a Poisson distribution with mean 5 and calculate the\n",
    "sample mean and variance."
   ]
  },
  {
   "cell_type": "code",
   "execution_count": 3,
   "id": "36824440-dc10-4836-b86c-3061ba98b787",
   "metadata": {},
   "outputs": [
    {
     "name": "stdout",
     "output_type": "stream",
     "text": [
      "Sample mean: 5.087\n",
      "Sample variance: 5.141431\n"
     ]
    }
   ],
   "source": [
    "import numpy as np\n",
    "\n",
    "# Generate a random sample of size 1000 from a Poisson distribution with mean 5\n",
    "sample_size = 1000\n",
    "mean = 5\n",
    "sample = np.random.poisson(lam=mean, size=sample_size)\n",
    "\n",
    "# Calculate the sample mean and variance\n",
    "sample_mean = np.mean(sample)\n",
    "sample_variance = np.var(sample)\n",
    "\n",
    "print(f\"Sample mean: {sample_mean}\")\n",
    "print(f\"Sample variance: {sample_variance}\")\n"
   ]
  },
  {
   "cell_type": "markdown",
   "id": "5f908ee1-2408-409e-b8cf-45d6a1828772",
   "metadata": {},
   "source": [
    "Q9. How mean and variance are related in Binomial distribution and Poisson distribution?\n",
    "\n",
    "Ans :In both the binomial distribution and the Poisson distribution, the mean and variance are related to the distribution's parameter(s) as follows:\n",
    "\n",
    "1. Binomial distribution:\n",
    "\n",
    "The mean (μ) of a binomial distribution with n trials and probability of success p is given by:\n",
    "\n",
    "    μ = n * p\n",
    "\n",
    "The variance (σ^2) of the same binomial distribution is given by:\n",
    "\n",
    "    σ^2 = n * p * (1 - p)\n",
    "\n",
    "2. Poisson distribution:\n",
    "\n",
    "The mean (μ) and variance (σ^2) of a Poisson distribution with rate parameter λ are both equal to λ:\n",
    "\n",
    "    μ = σ^2 = λ\n",
    "\n",
    "Therefore, in both distributions, the variance is dependent on the mean. In the case of the binomial distribution, the variance increases as the probability of success deviates from 0.5 and as the number of trials increases, while in the Poisson distribution, the variance is equal to the mean regardless of the value of the rate parameter.\n",
    "\n",
    "In general, as the mean of a distribution increases, the spread of the distribution also tends to increase, which is reflected in a larger variance. Conversely, if the mean decreases, the spread of the distribution tends to decrease, resulting in a smaller variance."
   ]
  },
  {
   "cell_type": "markdown",
   "id": "b19a8882-99aa-400b-bf17-30f7963ed5b1",
   "metadata": {},
   "source": [
    "Q10. In normal distribution with respect to mean position, where does the least frequent data appear?\n",
    "\n",
    "Ans :In a normal distribution, the least frequent data appear in the tails of the distribution, which are the regions that are farthest from the mean. This is because the normal distribution is a symmetric distribution, and the probability density function is highest at the mean and decreases as you move away from the mean towards the tails.\n",
    "\n",
    "Specifically, about 68% of the data in a normal distribution falls within one standard deviation of the mean, 95% falls within two standard deviations, and 99.7% falls within three standard deviations. Therefore, the least frequent data would be the values that are more than three standard deviations away from the mean, in either the positive or negative direction.\n",
    "\n",
    "For example, if the mean of a normal distribution is 0 and the standard deviation is 1, then the least frequent data would be the values less than -3 or greater than +3. These values represent the extreme tails of the distribution, where the probability density is very low."
   ]
  },
  {
   "cell_type": "code",
   "execution_count": null,
   "id": "2d5eb631-5819-43b0-94a9-cb139f323fc1",
   "metadata": {},
   "outputs": [],
   "source": []
  }
 ],
 "metadata": {
  "kernelspec": {
   "display_name": "Python 3 (ipykernel)",
   "language": "python",
   "name": "python3"
  },
  "language_info": {
   "codemirror_mode": {
    "name": "ipython",
    "version": 3
   },
   "file_extension": ".py",
   "mimetype": "text/x-python",
   "name": "python",
   "nbconvert_exporter": "python",
   "pygments_lexer": "ipython3",
   "version": "3.10.8"
  }
 },
 "nbformat": 4,
 "nbformat_minor": 5
}
