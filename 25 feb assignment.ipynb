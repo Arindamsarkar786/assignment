{
 "cells": [
  {
   "cell_type": "code",
   "execution_count": 4,
   "id": "b73039b5-8646-4de0-815f-ca601723b342",
   "metadata": {},
   "outputs": [],
   "source": [
    "import pandas as pd\n",
    "course_name = ['Data Science', 'Machine Learning', 'big Data', 'data Engineer']\n",
    "duration = [2,3,6,4]\n",
    "df = pd.DataFrame(data = {'course_name' : course_name, 'duration' : duration})"
   ]
  },
  {
   "cell_type": "markdown",
   "id": "8310f510-a534-49d0-bcb3-a40ce492c443",
   "metadata": {},
   "source": [
    "Q1. Write a code to print the data present in the second row of the dataframe, df."
   ]
  },
  {
   "cell_type": "code",
   "execution_count": 12,
   "id": "8d3c47d1-a6dc-4616-813e-9fb4cad5ebdb",
   "metadata": {},
   "outputs": [
    {
     "data": {
      "text/html": [
       "<div>\n",
       "<style scoped>\n",
       "    .dataframe tbody tr th:only-of-type {\n",
       "        vertical-align: middle;\n",
       "    }\n",
       "\n",
       "    .dataframe tbody tr th {\n",
       "        vertical-align: top;\n",
       "    }\n",
       "\n",
       "    .dataframe thead th {\n",
       "        text-align: right;\n",
       "    }\n",
       "</style>\n",
       "<table border=\"1\" class=\"dataframe\">\n",
       "  <thead>\n",
       "    <tr style=\"text-align: right;\">\n",
       "      <th></th>\n",
       "      <th>course_name</th>\n",
       "      <th>duration</th>\n",
       "    </tr>\n",
       "  </thead>\n",
       "  <tbody>\n",
       "    <tr>\n",
       "      <th>1</th>\n",
       "      <td>Machine Learning</td>\n",
       "      <td>3</td>\n",
       "    </tr>\n",
       "  </tbody>\n",
       "</table>\n",
       "</div>"
      ],
      "text/plain": [
       "        course_name  duration\n",
       "1  Machine Learning         3"
      ]
     },
     "execution_count": 12,
     "metadata": {},
     "output_type": "execute_result"
    }
   ],
   "source": [
    "df[1:2]"
   ]
  },
  {
   "cell_type": "markdown",
   "id": "b80b8c2f-d03e-472c-961f-c55bfde752fa",
   "metadata": {},
   "source": [
    "Q2. What is the difference between the functions loc and iloc in pandas.DataFrame?\n",
    "\n",
    "Ans : there is a loc dunction used to take input as a column name but iloc used to take input in integer indexing way"
   ]
  },
  {
   "cell_type": "markdown",
   "id": "2c0ad571-8f25-42e6-ba65-cbf71335e0a5",
   "metadata": {},
   "source": [
    "Q3. Reindex the given dataframe using a variable, reindex = [3,0,1,2] and store it in the variable, new_df\n",
    "then find the output for both new_df.loc[2] and new_df.iloc[2]."
   ]
  },
  {
   "cell_type": "code",
   "execution_count": 13,
   "id": "7d8040b6-0c18-4482-b758-27fb42ded693",
   "metadata": {},
   "outputs": [
    {
     "name": "stdout",
     "output_type": "stream",
     "text": [
      "A    30\n",
      "B    70\n",
      "Name: 2, dtype: int64\n",
      "A    20\n",
      "B    60\n",
      "Name: 1, dtype: int64\n"
     ]
    }
   ],
   "source": [
    "import pandas as pd\n",
    "\n",
    "# Given DataFrame\n",
    "df = pd.DataFrame({'A': [10, 20, 30, 40], 'B': [50, 60, 70, 80]})\n",
    "\n",
    "# Reindex variable\n",
    "reindex = [3, 0, 1, 2]\n",
    "\n",
    "# Reindexing the DataFrame\n",
    "new_df = df.reindex(reindex)\n",
    "\n",
    "# Output for new_df.loc[2]\n",
    "print(new_df.loc[2])\n",
    "\n",
    "# Output for new_df.iloc[2]\n",
    "print(new_df.iloc[2])"
   ]
  },
  {
   "cell_type": "code",
   "execution_count": 16,
   "id": "6dd536d5-346f-4dde-91fb-259ed2e80983",
   "metadata": {},
   "outputs": [
    {
     "data": {
      "text/html": [
       "<div>\n",
       "<style scoped>\n",
       "    .dataframe tbody tr th:only-of-type {\n",
       "        vertical-align: middle;\n",
       "    }\n",
       "\n",
       "    .dataframe tbody tr th {\n",
       "        vertical-align: top;\n",
       "    }\n",
       "\n",
       "    .dataframe thead th {\n",
       "        text-align: right;\n",
       "    }\n",
       "</style>\n",
       "<table border=\"1\" class=\"dataframe\">\n",
       "  <thead>\n",
       "    <tr style=\"text-align: right;\">\n",
       "      <th></th>\n",
       "      <th>column_1</th>\n",
       "      <th>column_2</th>\n",
       "      <th>column_3</th>\n",
       "      <th>column_4</th>\n",
       "      <th>column_5</th>\n",
       "      <th>column_6</th>\n",
       "    </tr>\n",
       "  </thead>\n",
       "  <tbody>\n",
       "    <tr>\n",
       "      <th>1</th>\n",
       "      <td>0.198434</td>\n",
       "      <td>0.581949</td>\n",
       "      <td>0.602883</td>\n",
       "      <td>0.509851</td>\n",
       "      <td>0.722679</td>\n",
       "      <td>0.377893</td>\n",
       "    </tr>\n",
       "    <tr>\n",
       "      <th>2</th>\n",
       "      <td>0.980024</td>\n",
       "      <td>0.377056</td>\n",
       "      <td>0.860561</td>\n",
       "      <td>0.876206</td>\n",
       "      <td>0.711004</td>\n",
       "      <td>0.033793</td>\n",
       "    </tr>\n",
       "    <tr>\n",
       "      <th>3</th>\n",
       "      <td>0.451989</td>\n",
       "      <td>0.866963</td>\n",
       "      <td>0.466796</td>\n",
       "      <td>0.259954</td>\n",
       "      <td>0.595502</td>\n",
       "      <td>0.026532</td>\n",
       "    </tr>\n",
       "    <tr>\n",
       "      <th>4</th>\n",
       "      <td>0.306427</td>\n",
       "      <td>0.122988</td>\n",
       "      <td>0.750120</td>\n",
       "      <td>0.882952</td>\n",
       "      <td>0.832838</td>\n",
       "      <td>0.168515</td>\n",
       "    </tr>\n",
       "    <tr>\n",
       "      <th>5</th>\n",
       "      <td>0.952429</td>\n",
       "      <td>0.096538</td>\n",
       "      <td>0.115772</td>\n",
       "      <td>0.417484</td>\n",
       "      <td>0.019186</td>\n",
       "      <td>0.253352</td>\n",
       "    </tr>\n",
       "    <tr>\n",
       "      <th>6</th>\n",
       "      <td>0.467337</td>\n",
       "      <td>0.839541</td>\n",
       "      <td>0.927386</td>\n",
       "      <td>0.439658</td>\n",
       "      <td>0.061205</td>\n",
       "      <td>0.645016</td>\n",
       "    </tr>\n",
       "  </tbody>\n",
       "</table>\n",
       "</div>"
      ],
      "text/plain": [
       "   column_1  column_2  column_3  column_4  column_5  column_6\n",
       "1  0.198434  0.581949  0.602883  0.509851  0.722679  0.377893\n",
       "2  0.980024  0.377056  0.860561  0.876206  0.711004  0.033793\n",
       "3  0.451989  0.866963  0.466796  0.259954  0.595502  0.026532\n",
       "4  0.306427  0.122988  0.750120  0.882952  0.832838  0.168515\n",
       "5  0.952429  0.096538  0.115772  0.417484  0.019186  0.253352\n",
       "6  0.467337  0.839541  0.927386  0.439658  0.061205  0.645016"
      ]
     },
     "execution_count": 16,
     "metadata": {},
     "output_type": "execute_result"
    }
   ],
   "source": [
    "import pandas as pd\n",
    "import numpy as np\n",
    "columns = ['column_1', 'column_2', 'column_3', 'column_4', 'column_5', 'column_6']\n",
    "indices = [1,2,3,4,5,6]\n",
    "#Creating a dataframe:\n",
    "df1 = pd.DataFrame(np.random.rand(6,6), columns = columns, index = indices)\n",
    "df1"
   ]
  },
  {
   "cell_type": "markdown",
   "id": "8e35d52b-7293-48a2-94a1-6ea04fea7015",
   "metadata": {},
   "source": [
    "Q4. Write a code to find the following statistical measurements for the above dataframe df1:\n",
    "(i) mean of each and every column present in the dataframe.\n",
    "(ii) standard deviation of column, ‘column_2’"
   ]
  },
  {
   "cell_type": "code",
   "execution_count": 24,
   "id": "8506cf76-7066-4027-9e9a-28d4a6522ba3",
   "metadata": {},
   "outputs": [
    {
     "name": "stdout",
     "output_type": "stream",
     "text": [
      "0.5594401664816774\n",
      "0.4808392038486688\n",
      "0.6205864656960098\n",
      "0.5643508263930339\n",
      "0.4904024167815085\n",
      "0.2508501378141207\n"
     ]
    }
   ],
   "source": [
    "for column in df1.columns:\n",
    "    print(df1[column].mean())\n"
   ]
  },
  {
   "cell_type": "code",
   "execution_count": 25,
   "id": "a5a11f3c-50ab-4838-9826-69cc8ec994b0",
   "metadata": {},
   "outputs": [
    {
     "data": {
      "text/plain": [
       "0.33896845590277336"
      ]
     },
     "execution_count": 25,
     "metadata": {},
     "output_type": "execute_result"
    }
   ],
   "source": [
    "df1['column_2'].std()"
   ]
  },
  {
   "cell_type": "markdown",
   "id": "8abfe862-37ad-45f0-918d-bb30060acc79",
   "metadata": {},
   "source": [
    "Q5. Replace the data present in the second row of column, ‘column_2’ by a string variable then find the\n",
    "mean of column, column_2.\n",
    "If you are getting errors in executing it then explain why.\n",
    "[Hint: To replace the data use df1.loc[] and equate this to string data of your choice.]"
   ]
  },
  {
   "cell_type": "markdown",
   "id": "7f157025-e79b-447e-a725-17dfbd7ec16f",
   "metadata": {},
   "source": [
    "To replace the data in the second row of the 'column_2' column in `df1` with a string variable, you can use the `loc` indexer along with assignment. Here's an example:\n",
    "\n",
    "```python\n",
    "df1.loc[2, 'column_2'] = 'string data of your choice'\n",
    "```\n",
    "\n",
    "Replace `'string data of your choice'` with the desired string value you want to assign to the second row of 'column_2'.\n",
    "\n",
    "To find the mean of the 'column_2' column, you can use the `.mean()` function on that specific column:\n",
    "\n",
    "```python\n",
    "column_2_mean = df1['column_2'].mean()\n",
    "print(column_2_mean)\n",
    "```\n",
    "\n",
    "Make sure that the column name 'column_2' is correct and matches the column name in your actual DataFrame. If you encounter errors while executing these steps, it could be due to the following reasons:\n",
    "\n",
    "1. Incorrect column name: Double-check that the column name is spelled correctly and matches the column name in your DataFrame.\n",
    "2. Non-numeric data: If there are non-numeric values present in 'column_2', the `mean()` function will raise an error. Ensure that the values in 'column_2' are numeric before calculating the mean.\n",
    "\n"
   ]
  },
  {
   "cell_type": "markdown",
   "id": "e9fef662-f18c-4cb1-b622-f6e55578ce6e",
   "metadata": {},
   "source": [
    "Q6. What do you understand about the windows function in pandas and list the types of windows\n",
    "functions?"
   ]
  },
  {
   "cell_type": "markdown",
   "id": "dbd41339-f8e2-45f3-84b9-9bdc595fee2e",
   "metadata": {},
   "source": [
    "\n",
    "\n",
    "Pandas provides several types of window functions, which can be used with the `.rolling()` method. Some common window functions include:\n",
    "\n",
    "1. Moving Average (`.rolling().mean()`): Calculates the mean value of a window of data points.\n",
    "\n",
    "2. Moving Sum (`.rolling().sum()`): Calculates the sum of a window of data points.\n",
    "\n",
    "3. Moving Minimum (`.rolling().min()`): Finds the minimum value within a window of data points.\n",
    "\n",
    "4. Moving Maximum (`.rolling().max()`): Finds the maximum value within a window of data points.\n",
    "\n",
    "5. Moving Standard Deviation (`.rolling().std()`): Calculates the standard deviation of a window of data points.\n",
    "\n",
    "6. Moving Quantiles (`.rolling().quantile()`): Calculates the specified quantile within a window of data points.\n",
    "\n",
    "7. Exponential Moving Average (`.ewm().mean()`): Calculates the exponential moving average of a window of data points, giving more weight to recent values.\n",
    "\n"
   ]
  },
  {
   "cell_type": "markdown",
   "id": "ef63ceeb-982f-4255-b603-6fb6d48b7a41",
   "metadata": {},
   "source": [
    "Q7. Write a code to print only the current month and year at the time of answering this question.\n",
    "[Hint: Use pandas.datetime function]"
   ]
  },
  {
   "cell_type": "code",
   "execution_count": 26,
   "id": "4207cf9a-9a6e-4532-a4de-f5c44a4c9e32",
   "metadata": {},
   "outputs": [],
   "source": [
    "import pandas as pd"
   ]
  },
  {
   "cell_type": "code",
   "execution_count": 31,
   "id": "485a115f-16b0-46cd-8d1f-f951f33bb943",
   "metadata": {},
   "outputs": [
    {
     "name": "stderr",
     "output_type": "stream",
     "text": [
      "/tmp/ipykernel_77/638019253.py:1: FutureWarning: The pandas.datetime class is deprecated and will be removed from pandas in a future version. Import from datetime module instead.\n",
      "  current_date = pd.datetime.now().date()\n"
     ]
    }
   ],
   "source": [
    "current_date = pd.datetime.now().date()"
   ]
  },
  {
   "cell_type": "code",
   "execution_count": 32,
   "id": "1fdac40b-5d31-40fb-ba7f-8ac5c89e6a65",
   "metadata": {},
   "outputs": [
    {
     "data": {
      "text/plain": [
       "datetime.date(2023, 6, 21)"
      ]
     },
     "execution_count": 32,
     "metadata": {},
     "output_type": "execute_result"
    }
   ],
   "source": [
    "current_date"
   ]
  },
  {
   "cell_type": "markdown",
   "id": "02f9d38c-85b6-41b4-a68f-d2f115137522",
   "metadata": {},
   "source": [
    "Q8. Write a Python program that takes in two dates as input (in the format YYYY-MM-DD) and\n",
    "calculates the difference between them in days, hours, and minutes using Pandas time delta. The\n",
    "program should prompt the user to enter the dates and display the result."
   ]
  },
  {
   "cell_type": "code",
   "execution_count": 33,
   "id": "dbeeed98-8d99-4172-827a-b298494f21ed",
   "metadata": {},
   "outputs": [
    {
     "name": "stdin",
     "output_type": "stream",
     "text": [
      "Enter the first date (YYYY-MM-DD):  2020-06-15\n",
      "Enter the second date (YYYY-MM-DD):  2021-07-21\n"
     ]
    },
    {
     "name": "stdout",
     "output_type": "stream",
     "text": [
      "The difference between 2020-06-15 and 2021-07-21 is:\n",
      "401 days, 0 hours, and 0 minutes.\n"
     ]
    }
   ],
   "source": [
    "import pandas as pd\n",
    "\n",
    "# Prompt the user to enter the dates\n",
    "date1 = input(\"Enter the first date (YYYY-MM-DD): \")\n",
    "date2 = input(\"Enter the second date (YYYY-MM-DD): \")\n",
    "\n",
    "# Convert the input dates to pandas Timestamp objects\n",
    "timestamp1 = pd.Timestamp(date1)\n",
    "timestamp2 = pd.Timestamp(date2)\n",
    "\n",
    "# Calculate the time difference using pandas' timedelta\n",
    "time_difference = timestamp2 - timestamp1\n",
    "\n",
    "# Extract the days, hours, and minutes from the timedelta\n",
    "days = time_difference.days\n",
    "hours = time_difference.seconds // 3600\n",
    "minutes = (time_difference.seconds % 3600) // 60\n",
    "\n",
    "# Display the result\n",
    "print(f\"The difference between {date1} and {date2} is:\")\n",
    "print(f\"{days} days, {hours} hours, and {minutes} minutes.\")\n"
   ]
  },
  {
   "cell_type": "markdown",
   "id": "6581d798-c056-40cf-9127-e04ebd349c07",
   "metadata": {},
   "source": [
    "Q9. Write a Python program that reads a CSV file containing categorical data and converts a specified\n",
    "column to a categorical data type. The program should prompt the user to enter the file path, column\n",
    "name, and category order, and then display the sorted data."
   ]
  },
  {
   "cell_type": "code",
   "execution_count": null,
   "id": "4a0af1ec-81b2-40c3-a4a3-48e194695f27",
   "metadata": {},
   "outputs": [],
   "source": [
    "import pandas as pd\n",
    "\n",
    "# Prompt the user to enter the file path\n",
    "file_path = input(\"Enter the file path of the CSV file: \")\n",
    "\n",
    "# Read the CSV file into a DataFrame\n",
    "data = pd.read_csv(file_path)\n",
    "\n",
    "# Prompt the user to enter the column name and category order\n",
    "column_name = input(\"Enter the name of the column to convert to categorical: \")\n",
    "category_order = input(\"Enter the category order (comma-separated values): \").split(\",\")\n",
    "\n",
    "# Convert the specified column to a categorical data type\n",
    "data[column_name] = pd.Categorical(data[column_name], categories=category_order, ordered=True)\n",
    "\n",
    "# Sort the data based on the categorical column\n",
    "sorted_data = data.sort_values(column_name)\n",
    "\n",
    "# Display the sorted data\n",
    "print(sorted_data)\n"
   ]
  },
  {
   "cell_type": "markdown",
   "id": "6b120571-2d62-4dc0-9447-a27f05c239c8",
   "metadata": {},
   "source": [
    "Q10. Write a Python program that reads a CSV file containing sales data for different products and\n",
    "visualizes the data using a stacked bar chart to show the sales of each product category over time. The\n",
    "program should prompt the user to enter the file path and display the chart."
   ]
  },
  {
   "cell_type": "code",
   "execution_count": null,
   "id": "f3c934f4-848f-4fd0-8557-fa17c755dae7",
   "metadata": {},
   "outputs": [],
   "source": [
    "import pandas as pd\n",
    "import matplotlib.pyplot as plt\n",
    "\n",
    "# Prompt the user to enter the file path\n",
    "file_path = input(\"Enter the file path of the CSV file: \")\n",
    "\n",
    "# Read the CSV file into a DataFrame\n",
    "data = pd.read_csv(file_path)\n",
    "\n",
    "# Convert the date column to datetime data type\n",
    "data['Date'] = pd.to_datetime(data['Date'])\n",
    "\n",
    "# Group the data by product category and date, and calculate the total sales\n",
    "grouped_data = data.groupby(['Category', 'Date']).sum()['Sales'].unstack()\n",
    "\n",
    "# Plot the stacked bar chart\n",
    "plt.figure(figsize=(10, 6))\n",
    "grouped_data.plot(kind='bar', stacked=True)\n",
    "\n",
    "# Set labels and title\n",
    "plt.xlabel('Date')\n",
    "plt.ylabel('Sales')\n",
    "plt.title('Sales of Each Product Category Over Time')\n",
    "\n",
    "# Show the chart\n",
    "plt.show()\n"
   ]
  },
  {
   "cell_type": "markdown",
   "id": "0321e611-139f-4887-9404-1befdd8b73dd",
   "metadata": {},
   "source": [
    "Q11. You are given a CSV file containing student data that includes the student ID and their test score. Write\n",
    "a Python program that reads the CSV file, calculates the mean, median, and mode of the test scores, and\n",
    "displays the results in a table."
   ]
  },
  {
   "cell_type": "code",
   "execution_count": null,
   "id": "96a933b4-3a30-4434-b8af-0d0dcb02f881",
   "metadata": {},
   "outputs": [],
   "source": [
    "import pandas as pd\n",
    "\n",
    "# Prompt the user to enter the file path\n",
    "file_path = input(\"Enter the file path of the CSV file: \")\n",
    "\n",
    "# Read the CSV file into a DataFrame\n",
    "data = pd.read_csv(file_path)\n",
    "\n",
    "# Calculate the mean, median, and mode of the test scores\n",
    "mean_score = data['Test Score'].mean()\n",
    "median_score = data['Test Score'].median()\n",
    "mode_scores = data['Test Score'].mode()\n",
    "\n",
    "# Create a table to display the results\n",
    "result_table = pd.DataFrame({'Statistic': ['Mean', 'Median', 'Mode'],\n",
    "                             'Test Score': [mean_score, median_score, mode_scores]})\n",
    "\n",
    "# Display the result table\n",
    "print(result_table)\n"
   ]
  },
  {
   "cell_type": "code",
   "execution_count": null,
   "id": "76051a3f-5844-4748-8167-781e2ee34515",
   "metadata": {},
   "outputs": [],
   "source": []
  }
 ],
 "metadata": {
  "kernelspec": {
   "display_name": "Python 3 (ipykernel)",
   "language": "python",
   "name": "python3"
  },
  "language_info": {
   "codemirror_mode": {
    "name": "ipython",
    "version": 3
   },
   "file_extension": ".py",
   "mimetype": "text/x-python",
   "name": "python",
   "nbconvert_exporter": "python",
   "pygments_lexer": "ipython3",
   "version": "3.10.8"
  }
 },
 "nbformat": 4,
 "nbformat_minor": 5
}
