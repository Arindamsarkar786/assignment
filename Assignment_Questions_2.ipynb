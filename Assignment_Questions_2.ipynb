{
  "nbformat": 4,
  "nbformat_minor": 0,
  "metadata": {
    "colab": {
      "provenance": []
    },
    "kernelspec": {
      "name": "python3",
      "display_name": "Python 3"
    },
    "language_info": {
      "name": "python"
    }
  },
  "cells": [
    {
      "cell_type": "markdown",
      "source": [
        "<aside>\n",
        "💡 **Question 1**\n",
        "Given an integer array nums of 2n integers, group these integers into n pairs (a1, b1), (a2, b2),..., (an, bn) such that the sum of min(ai, bi) for all i is maximized. Return the maximized sum.\n",
        "\n",
        "**Example 1:**\n",
        "Input: nums = [1,4,3,2]\n",
        "Output: 4\n",
        "\n",
        "**Explanation:** All possible pairings (ignoring the ordering of elements) are:\n",
        "\n",
        "1. (1, 4), (2, 3) -> min(1, 4) + min(2, 3) = 1 + 2 = 3\n",
        "2. (1, 3), (2, 4) -> min(1, 3) + min(2, 4) = 1 + 2 = 3\n",
        "3. (1, 2), (3, 4) -> min(1, 2) + min(3, 4) = 1 + 3 = 4\n",
        "So the maximum possible sum is 4\n",
        "</aside>"
      ],
      "metadata": {
        "id": "_tRG3_wgZMbs"
      }
    },
    {
      "cell_type": "code",
      "source": [
        "class Solution:\n",
        "    def arrayPairSum(self, nums: List[int]) -> int:\n",
        "        n = len(nums)\n",
        "        nums.sort()\n",
        "        ans = 0\n",
        "        for i in range(0,n,2):\n",
        "            ans = ans+min(nums[i],nums[i+1])\n",
        "        return ans\n"
      ],
      "metadata": {
        "id": "BlhzueowZO9g"
      },
      "execution_count": null,
      "outputs": []
    },
    {
      "cell_type": "markdown",
      "source": [
        "Question 2\n",
        "Alice has n candies, where the ith candy is of type candyType[i]. Alice noticed that she started to gain weight, so she visited a doctor.\n",
        "\n",
        "The doctor advised Alice to only eat n / 2 of the candies she has (n is always even). Alice likes her candies very much, and she wants to eat the maximum number of different types of candies while still following the doctor's advice.\n",
        "\n",
        "Given the integer array candyType of length n, return the maximum number of different types of candies she can eat if she only eats n / 2 of them.\n",
        "\n",
        "Example 1:\n",
        "Input: candyType = [1,1,2,2,3,3]\n",
        "Output: 3\n",
        "\n",
        "Explanation: Alice can only eat 6 / 2 = 3 candies. Since there are only 3 types, she can eat one of each type."
      ],
      "metadata": {
        "id": "4UM8Y_6Yb7Kb"
      }
    },
    {
      "cell_type": "code",
      "source": [
        "class Solution:\n",
        "    def distributeCandies(self, candyType: List[int]) -> int:\n",
        "        n = len(candyType)\n",
        "        tuk = {}\n",
        "        for i in (candyType):\n",
        "            if i in tuk:\n",
        "                tuk[i]+=1\n",
        "            else:\n",
        "                tuk[i]=1\n",
        "        return min(n//2,len(tuk.keys()))"
      ],
      "metadata": {
        "id": "-D7FfIGHcD1t"
      },
      "execution_count": null,
      "outputs": []
    },
    {
      "cell_type": "markdown",
      "source": [
        "Question 3\n",
        "We define a harmonious array as an array where the difference between its maximum value\n",
        "and its minimum value is exactly 1.\n",
        "\n",
        "Given an integer array nums, return the length of its longest harmonious subsequence\n",
        "among all its possible subsequences.\n",
        "\n",
        "A subsequence of an array is a sequence that can be derived from the array by deleting some or no elements without changing the order of the remaining elements.\n",
        "\n",
        "Example 1:\n",
        "Input: nums = [1,3,2,2,5,2,3,7]\n",
        "Output: 5\n",
        "\n",
        "Explanation: The longest harmonious subsequence is [3,2,2,2,3]."
      ],
      "metadata": {
        "id": "2-rmbt0Pgfc1"
      }
    },
    {
      "cell_type": "code",
      "source": [
        "class Solution:\n",
        "    def findLHS(self, nums: List[int]) -> int:\n",
        "        freq = Counter(nums)\n",
        "        max_length = 0\n",
        "\n",
        "        for key in freq:\n",
        "            if key + 1 in freq:\n",
        "                max_length = max(max_length, freq[key] + freq[key+1])\n",
        "\n",
        "        return max_length"
      ],
      "metadata": {
        "id": "-150r98225LC"
      },
      "execution_count": null,
      "outputs": []
    },
    {
      "cell_type": "markdown",
      "source": [
        "Question 4::\n",
        "You have a long flowerbed in which some of the plots are planted, and some are not.\n",
        "However, flowers cannot be planted in adjacent plots.\n",
        "Given an integer array flowerbed containing 0's and 1's, where 0 means empty and 1 means not empty, and an integer n, return true if n new flowers can be planted in the flowerbed without violating the no-adjacent-flowers rule and false otherwise.\n",
        "\n",
        "Example 1:\n",
        "Input: flowerbed = [1,0,0,0,1], n = 1\n",
        "Output: true"
      ],
      "metadata": {
        "id": "67Eyriny26ms"
      }
    },
    {
      "cell_type": "code",
      "source": [
        "class Solution:\n",
        "    def canPlaceFlowers(self, flowerbed: List[int], n: int) -> bool:\n",
        "        p= len(flowerbed)\n",
        "        ans = 0\n",
        "        if p==1:\n",
        "            if flowerbed[0]==1 and n>0:\n",
        "\n",
        "                return False\n",
        "            elif (flowerbed[0]==1 and n==0) or (flowerbed[0]==0 and n==0):\n",
        "                return True\n",
        "            else:\n",
        "                if n==1:\n",
        "                    return True\n",
        "                else:\n",
        "                    return False\n",
        "        if flowerbed[1]==0 and flowerbed[0]==0:\n",
        "            flowerbed[0]=1\n",
        "            n-=1\n",
        "        for i in range(1,p-1):\n",
        "            if flowerbed[i]==0:\n",
        "                if flowerbed[i-1]==0 and flowerbed[i+1]==0:\n",
        "                    flowerbed[i]=1\n",
        "                    n-=1\n",
        "        if flowerbed[p-1]==0 and flowerbed[p-2]==0:\n",
        "            flowerbed[p-1]=1\n",
        "            n-=1\n",
        "        if n>0:\n",
        "            return False\n",
        "        else:\n",
        "            return True\n"
      ],
      "metadata": {
        "id": "vq9gDSvW3EKZ"
      },
      "execution_count": null,
      "outputs": []
    },
    {
      "cell_type": "markdown",
      "source": [
        "Question 5---\n",
        "Given an integer array nums, find three numbers whose product is maximum and return the maximum product.\n",
        "\n",
        "Example 1:\n",
        "Input: nums = [1,2,3]\n",
        "Output: 6"
      ],
      "metadata": {
        "id": "-JLSHSPz87Ua"
      }
    },
    {
      "cell_type": "code",
      "source": [
        "class Solution:\n",
        "    def maximumProduct(self, nums: List[int]) -> int:\n",
        "        nums.sort()\n",
        "        n=len(nums)\n",
        "        return max(nums[n-1]*nums[n-2]*nums[n-3],nums[0]*nums[1]*nums[n-1])"
      ],
      "metadata": {
        "id": "iwwWv8ao9K5U"
      },
      "execution_count": null,
      "outputs": []
    },
    {
      "cell_type": "markdown",
      "source": [
        "Question 6---\n",
        "\n",
        "Given an array of integers nums which is sorted in ascending order, and an integer target,\n",
        "write a function to search target in nums. If target exists, then return its index. Otherwise,\n",
        "return -1.\n",
        "\n",
        "You must write an algorithm with O(log n) runtime complexity.\n",
        "\n",
        "Input: nums = [-1,0,3,5,9,12], target = 9\n",
        "Output: 4\n",
        "\n",
        "Explanation: 9 exists in nums and its index is 4"
      ],
      "metadata": {
        "id": "hiOPYbDa98NG"
      }
    },
    {
      "cell_type": "code",
      "source": [
        "class Solution:\n",
        "    def search(self, nums: List[int], target: int) -> int:\n",
        "        n =len(nums)\n",
        "        start = 0\n",
        "        end = n-1\n",
        "        while(start<=end):\n",
        "            mid = (start+end)//2\n",
        "            if nums[mid]==target:\n",
        "                return mid\n",
        "\n",
        "            elif nums[mid]>target:\n",
        "                end = end-1\n",
        "            else:\n",
        "                start+=1\n",
        "        return -1\n"
      ],
      "metadata": {
        "id": "FaIp8_Yj-BnR"
      },
      "execution_count": null,
      "outputs": []
    },
    {
      "cell_type": "markdown",
      "source": [
        "Question 7----\n",
        "\n",
        "An array is monotonic if it is either monotone increasing or monotone decreasing.\n",
        "\n",
        "An array nums is monotone increasing if for all i <= j, nums[i] <= nums[j]. An array nums is\n",
        "monotone decreasing if for all i <= j, nums[i] >= nums[j].\n",
        "\n",
        "Given an integer array nums, return true if the given array is monotonic, or false otherwise.\n",
        "\n",
        "Example 1:\n",
        "Input: nums = [1,2,2,3]\n",
        "Output: true"
      ],
      "metadata": {
        "id": "AwAqBfFa_b95"
      }
    },
    {
      "cell_type": "code",
      "source": [
        "class Solution:\n",
        "    def isMonotonic(self, nums: List[int]) -> bool:\n",
        "        n = len(nums)\n",
        "        inc = dec = True\n",
        "        for i in range(n-1):\n",
        "            if nums[i]>nums[i+1]:\n",
        "                inc=False\n",
        "            if nums[i]<nums[i+1]:\n",
        "                dec=False\n",
        "        return inc or dec\n"
      ],
      "metadata": {
        "id": "zD1EPNn8PxlJ"
      },
      "execution_count": null,
      "outputs": []
    },
    {
      "cell_type": "markdown",
      "source": [
        "Question 8---\n",
        "\n",
        "You are given an integer array nums and an integer k.\n",
        "\n",
        "In one operation, you can choose any index i where 0 <= i < nums.length and change nums[i] to nums[i] + x where x is an integer from the range [-k, k]. You can apply this operation at most once for each index i.\n",
        "\n",
        "The score of nums is the difference between the maximum and minimum elements in nums.\n",
        "\n",
        "Return the minimum score of nums after applying the mentioned operation at most once for each index in it.\n",
        "\n",
        "Example 1:\n",
        "Input: nums = [1], k = 0\n",
        "Output: 0\n",
        "\n",
        "Explanation: The score is max(nums) - min(nums) = 1 - 1 = 0."
      ],
      "metadata": {
        "id": "BR6RYhd-Pz0A"
      }
    },
    {
      "cell_type": "code",
      "source": [
        "class Solution:\n",
        "    def smallestRangeI(self, nums: List[int], k: int) -> int:\n",
        "\n",
        "        mx=max(nums)\n",
        "        mn=min(nums)\n",
        "        ans=max(0,(mx-k)-(mn+k))\n",
        "        return ans\n",
        "\n"
      ],
      "metadata": {
        "id": "jQEW9MWyP5g9"
      },
      "execution_count": null,
      "outputs": []
    }
  ]
}