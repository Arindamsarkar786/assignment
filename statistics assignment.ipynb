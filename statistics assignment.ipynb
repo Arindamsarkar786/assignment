{
 "cells": [
  {
   "cell_type": "markdown",
   "id": "2c300335-c44b-4916-a860-4621e4f3fa09",
   "metadata": {},
   "source": [
    "Q1. What is Statistics?\n",
    "\n",
    "Ans :Statistics is the study of the collection, analysis, interpretation, presentation, and organization of data."
   ]
  },
  {
   "cell_type": "markdown",
   "id": "af68910d-0ee0-416b-8755-4e8348195188",
   "metadata": {},
   "source": [
    "Q2. Define the different types of statistics and give an example of when each type might be used.\n",
    "\n",
    "Ans :\n",
    "    \n",
    "    1. Descriptive Statistics :\n",
    "Descriptive statistics uses data that provides a description of the population either through numerical calculation or graph or table. It provides a graphical summary of data. It is simply used for summarizing objects, etc. There are two categories in this as following below. example of this is mean median mode\n",
    "    \n",
    "    \n",
    "    2. Inferential Statistics :\n",
    "Inferential Statistics makes inference and prediction about population based on a sample of data taken from population. It generalizes a large dataset and applies probabilities to draw a conclusion. It is simply used for explaining meaning of descriptive stats. It is simply used to analyze, interpret result, and draw conclusion. Inferential Statistics is mainly related to and associated with hypothesis testing whose main target is to reject null hypothesis.example of this is t-test , z-test etc."
   ]
  },
  {
   "cell_type": "markdown",
   "id": "0915f390-2267-4c88-b69e-ab91b3673e7f",
   "metadata": {},
   "source": [
    "Q3. What are the different types of data and how do they differ from each other? Provide an example of\n",
    "each type of data.\n",
    "\n",
    "Ans : dicrete data,continuous data ,ordinal data,nominal data\n",
    "    discrete data like whole number like how many student present today or how many bank account you have\n",
    "    continuous data may have any value float integer anything like last 7 days temperature\n",
    "    nominal data is a categircal data which don't have any order or rank like blood group ,grade of passing marks,\n",
    "    ordinal data have order and you can ordered it by ascending order or descending order"
   ]
  },
  {
   "cell_type": "markdown",
   "id": "c3a51980-aabc-4cb0-8748-61c92e0d7aa6",
   "metadata": {},
   "source": [
    "Q4. Categorise the following datasets with respect to quantitative and qualitative data types:\n",
    "\n",
    "(i) Grading in exam: A+, A, B+, B, C+, C, D, E -> qualitative\n",
    "\n",
    "(ii) Colour of mangoes: yellow, green, orange, red ->qualitative\n",
    "\n",
    "(iii) Height data of a class: [178.9, 179, 179.5, 176, 177.2, 178.3, 175.8,...] ->quantitive\n",
    "\n",
    "(iv) Number of mangoes exported by a farm: [500, 600, 478, 672, ...] -> quantitive"
   ]
  },
  {
   "cell_type": "markdown",
   "id": "56f109da-c512-4ed4-91c8-054d547202e9",
   "metadata": {},
   "source": [
    "Q5. Explain the concept of levels of measurement and give an example of a variable for each level.\n",
    "\n",
    "Ans : \n",
    "\n",
    "    Nominal: the data can only be categorized\n",
    "    \n",
    "    Ordinal: the data can be categorized and ranked\n",
    "    \n",
    "    Interval: the data can be categorized, ranked, and evenly spaced\n",
    "    \n",
    "    Ratio: the data can be categorized, ranked, evenly spaced, and has a natural zero."
   ]
  },
  {
   "cell_type": "markdown",
   "id": "aa18bc09-465a-4cf3-9754-4784b7f4ab1f",
   "metadata": {},
   "source": [
    "Q6. Why is it important to understand the level of measurement when analyzing data? Provide an\n",
    "example to illustrate your answer.\n",
    "\n",
    "Ans : The level at which you measure a variable determines how you can analyze your data.\n",
    "\n",
    "The different levels limit which descriptive statistics you can use to get an overall summary of your data, and which type of inferential statistics you can perform on your data to support or refute your hypothesis.\n",
    "\n",
    "In many cases, your variables can be measured at different levels, so you have to choose the level of measurement you will use before data collection begins.\n",
    "\n"
   ]
  },
  {
   "cell_type": "markdown",
   "id": "320a84ed-f601-4e5b-a032-44ea88bc8caf",
   "metadata": {},
   "source": [
    "Q7. How nominal data type is different from ordinal data type.\n",
    "\n",
    "Ans : Nominal data is a group of non-parametric variables, whereas Ordinal data is a group of non-parametric ordered variables."
   ]
  },
  {
   "cell_type": "markdown",
   "id": "510ab6dc-b80d-42d7-a872-4bc6ca52c592",
   "metadata": {},
   "source": [
    "Q8. Which type of plot can be used to display data in terms of range?\n",
    "Ans : \n",
    "A box plot (also known as a box-and-whisker plot) can be used to display data in terms of range.\n",
    "\n",
    "A box plot is a graphical representation of a dataset that shows the median, quartiles, and range of the data. The box represents the interquartile range (IQR), which is the range between the 25th and 75th percentiles of the data. The median is represented by a horizontal line inside the box. The whiskers extend from the box to the minimum and maximum values that fall within 1.5 times the IQR from the edges of the box. Any values outside this range are considered outliers and are plotted individually as dots.\n",
    "\n"
   ]
  },
  {
   "cell_type": "markdown",
   "id": "28704641-cdc2-42dc-8f6d-bf830dc1c6c3",
   "metadata": {},
   "source": [
    "Q9. Describe the difference between descriptive and inferential statistics. Give an example of each\n",
    "type of statistics and explain how they are used.\n",
    "\n",
    "Ans :Descriptive and inferential statistics are two types of statistical analysis used to analyze and interpret data.\n",
    "\n",
    "Descriptive statistics are used to summarize and describe the characteristics of a dataset, such as its central tendency, variability, and shape. These statistics are used to describe what has happened or is happening within a given dataset, without making any inferences beyond the data itself. Examples of descriptive statistics include measures such as the mean, median, mode, standard deviation, and range.\n",
    "\n",
    "For example, a company may use descriptive statistics to analyze the sales data for a particular product over a period of time. They may calculate the mean sales, median sales, and standard deviation of sales to get an overall understanding of how the product is performing in the market. These descriptive statistics provide a summary of the sales data and help the company identify any trends or patterns.\n",
    "\n",
    "Inferential statistics, on the other hand, are used to make inferences or draw conclusions about a larger population based on a sample of data. Inferential statistics involve using probability theory to determine how likely it is that a certain result is due to chance or some other factor. Examples of inferential statistics include hypothesis testing, confidence intervals, and regression analysis.\n",
    "\n",
    "For example, a medical researcher may conduct a clinical trial to test the effectiveness of a new medication. They would use inferential statistics to determine whether the results of the trial are significant enough to make conclusions about the effectiveness of the medication for the larger population.\n",
    "\n",
    "In summary, descriptive statistics are used to describe and summarize data, while inferential statistics are used to draw conclusions or make inferences about a larger population based on a sample of data."
   ]
  },
  {
   "cell_type": "markdown",
   "id": "af5d2a35-c840-4d74-9451-a64260f28d8f",
   "metadata": {},
   "source": [
    "Q10. What are some common measures of central tendency and variability used in statistics? Explain\n",
    "how each measure can be used to describe a dataset.\n",
    "\n",
    "Ans :Measures of central tendency and variability are used in statistics to describe the typical or central value of a dataset and how much the values in the dataset vary from the central value.\n",
    "\n",
    "Common measures of central tendency include:\n",
    "\n",
    "Mean: The mean is the arithmetic average of a dataset, obtained by summing all the values and dividing by the total number of values. The mean is a useful measure of central tendency when the data is normally distributed and has no extreme values.\n",
    "\n",
    "Median: The median is the middle value of a dataset when the values are arranged in numerical order. The median is a useful measure of central tendency when the data contains extreme values or is not normally distributed.\n",
    "\n",
    "Mode: The mode is the value that occurs most frequently in a dataset. The mode is a useful measure of central tendency when the data has a clear peak or is skewed.\n",
    "\n",
    "Common measures of variability include:\n",
    "\n",
    "Range: The range is the difference between the highest and lowest values in a dataset. The range provides an idea of the spread of the dataset but is influenced by extreme values.\n",
    "\n",
    "Standard deviation: The standard deviation measures the average distance of the values from the mean. A larger standard deviation indicates more variability in the dataset, while a smaller standard deviation indicates less variability.\n",
    "\n",
    "Interquartile range (IQR): The IQR is the range between the first and third quartiles of a dataset, representing the middle 50% of the data. The IQR provides a measure of variability that is less sensitive to extreme values than the range.\n",
    "\n",
    "Each of these measures provides different information about the dataset and is used to describe different aspects of the distribution. For example, the mean provides a measure of the central value of the dataset, while the standard deviation provides a measure of the variability of the dataset. The range provides an idea of the spread of the dataset, while the IQR provides a measure of variability that is less influenced by extreme values. By using a combination of these measures, researchers can gain a more complete understanding of the distribution and characteristics of the dataset"
   ]
  },
  {
   "cell_type": "code",
   "execution_count": null,
   "id": "7290e168-6589-4e12-a0cd-997f6475f670",
   "metadata": {},
   "outputs": [],
   "source": []
  }
 ],
 "metadata": {
  "kernelspec": {
   "display_name": "Python 3 (ipykernel)",
   "language": "python",
   "name": "python3"
  },
  "language_info": {
   "codemirror_mode": {
    "name": "ipython",
    "version": 3
   },
   "file_extension": ".py",
   "mimetype": "text/x-python",
   "name": "python",
   "nbconvert_exporter": "python",
   "pygments_lexer": "ipython3",
   "version": "3.10.8"
  }
 },
 "nbformat": 4,
 "nbformat_minor": 5
}
