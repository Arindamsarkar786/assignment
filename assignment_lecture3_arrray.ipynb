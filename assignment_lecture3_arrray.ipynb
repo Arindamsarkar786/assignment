{
  "nbformat": 4,
  "nbformat_minor": 0,
  "metadata": {
    "colab": {
      "provenance": []
    },
    "kernelspec": {
      "name": "python3",
      "display_name": "Python 3"
    },
    "language_info": {
      "name": "python"
    }
  },
  "cells": [
    {
      "cell_type": "markdown",
      "source": [
        "Question 1---\n",
        "\n",
        "Given an integer array nums of length n and an integer target, find three integers\n",
        "in nums such that the sum is closest to the target.\n",
        "Return the sum of the three integers.\n",
        "\n",
        "You may assume that each input would have exactly one solution.\n",
        "\n",
        "Example 1:\n",
        "Input: nums = [-1,2,1,-4], target = 1\n",
        "Output: 2\n",
        "\n",
        "Explanation: The sum that is closest to the target is 2. (-1 + 2 + 1 = 2)."
      ],
      "metadata": {
        "id": "_mzv_QRhReYE"
      }
    },
    {
      "cell_type": "code",
      "source": [
        "class Solution:\n",
        "    def threeSumClosest(self, nums: List[int], target: int) -> int:\n",
        "        closet = float('inf')\n",
        "        nums.sort()\n",
        "        for i in range(len(nums)-2):\n",
        "            l,r=i+1,len(nums)-1\n",
        "            while(l<r):\n",
        "                sum3=nums[i]+nums[l]+nums[r]\n",
        "\n",
        "                if sum3<target:\n",
        "                    l+=1\n",
        "                else:\n",
        "                    r-=1\n",
        "                if abs(sum3-target)<abs(closet-target):\n",
        "                    closet=sum3\n",
        "        return closet"
      ],
      "metadata": {
        "id": "FazmwUFbRhp9"
      },
      "execution_count": null,
      "outputs": []
    },
    {
      "cell_type": "markdown",
      "source": [
        "Question 2---\n",
        "\n",
        "Given an array nums of n integers, return an array of all the unique quadruplets\n",
        "[nums[a], nums[b], nums[c], nums[d]] such that:\n",
        "           ● 0 <= a, b, c, d < n\n",
        "           ● a, b, c, and d are distinct.\n",
        "           ● nums[a] + nums[b] + nums[c] + nums[d] == target\n",
        "\n",
        "You may return the answer in any order.\n",
        "\n",
        "Example 1:\n",
        "Input: nums = [1,0,-1,0,-2,2], target = 0\n",
        "Output: [[-2,-1,1,2],[-2,0,0,2],[-1,0,0,1]]"
      ],
      "metadata": {
        "id": "dezE7fGqeQfM"
      }
    },
    {
      "cell_type": "code",
      "source": [
        "class Solution:\n",
        "    def fourSum(self, nums: List[int], target: int) -> List[List[int]]:\n",
        "\n",
        "        def kSum(nums: List[int], target: int, k: int) -> List[List[int]]:\n",
        "            res = []\n",
        "\n",
        "\n",
        "            if not nums:\n",
        "                return res\n",
        "\n",
        "\n",
        "            average_value = target // k\n",
        "\n",
        "\n",
        "            if average_value < nums[0] or nums[-1] < average_value:\n",
        "                return res\n",
        "\n",
        "            if k == 2:\n",
        "                return twoSum(nums, target)\n",
        "\n",
        "            for i in range(len(nums)):\n",
        "                if i == 0 or nums[i - 1] != nums[i]:\n",
        "                    for subset in kSum(nums[i + 1:], target - nums[i], k - 1):\n",
        "                        res.append([nums[i]] + subset)\n",
        "\n",
        "            return res\n",
        "\n",
        "        def twoSum(nums: List[int], target: int) -> List[List[int]]:\n",
        "            res = []\n",
        "            s = set()\n",
        "\n",
        "            for i in range(len(nums)):\n",
        "                if len(res) == 0 or res[-1][1] != nums[i]:\n",
        "                    if target - nums[i] in s:\n",
        "                        res.append([target - nums[i], nums[i]])\n",
        "                s.add(nums[i])\n",
        "\n",
        "            return res\n",
        "\n",
        "        nums.sort()\n",
        "        return kSum(nums, target, 4)"
      ],
      "metadata": {
        "id": "YjuwkiqCeTB7"
      },
      "execution_count": null,
      "outputs": []
    },
    {
      "cell_type": "markdown",
      "source": [
        "<aside>\n",
        "💡 **Question 3**\n",
        "\n",
        "A permutation of an array of integers is an arrangement of its members into a\n",
        "sequence or linear order.\n",
        "\n",
        "For example, for arr = [1,2,3], the following are all the permutations of arr:\n",
        "[1,2,3], [1,3,2], [2, 1, 3], [2, 3, 1], [3,1,2], [3,2,1].\n",
        "\n",
        "The next permutation of an array of integers is the next lexicographically greater\n",
        "permutation of its integer. More formally, if all the permutations of the array are\n",
        "sorted in one container according to their lexicographical order, then the next\n",
        "permutation of that array is the permutation that follows it in the sorted container.\n",
        "\n",
        "If such an arrangement is not possible, the array must be rearranged as the\n",
        "lowest possible order (i.e., sorted in ascending order).\n",
        "\n",
        "● For example, the next permutation of arr = [1,2,3] is [1,3,2].\n",
        "● Similarly, the next permutation of arr = [2,3,1] is [3,1,2].\n",
        "● While the next permutation of arr = [3,2,1] is [1,2,3] because [3,2,1] does not\n",
        "have a lexicographical larger rearrangement.\n",
        "\n",
        "Given an array of integers nums, find the next permutation of nums.\n",
        "The replacement must be in place and use only constant extra memory.\n",
        "\n",
        "</aside>"
      ],
      "metadata": {
        "id": "sRZe0NDChwO3"
      }
    },
    {
      "cell_type": "code",
      "source": [
        "class Solution:\n",
        "    def nextPermutation(self, nums):\n",
        "        i = len(nums) - 2\n",
        "        while i >= 0 and nums[i + 1] <= nums[i]:\n",
        "            i -= 1\n",
        "        if i >= 0:\n",
        "            j = len(nums) - 1\n",
        "            while nums[j] <= nums[i]:\n",
        "                j -= 1\n",
        "            self.swap(nums, i, j)\n",
        "        self.reverse(nums, i + 1)\n",
        "\n",
        "    def reverse(self, nums, start):\n",
        "        i, j = start, len(nums) - 1\n",
        "        while i < j:\n",
        "            self.swap(nums, i, j)\n",
        "            i += 1\n",
        "            j -= 1\n",
        "\n",
        "    def swap(self, nums, i, j):\n",
        "        temp = nums[i]\n",
        "        nums[i] = nums[j]\n",
        "        nums[j] = temp\n",
        "\n",
        "\n"
      ],
      "metadata": {
        "id": "OdgPVnAJh5Se"
      },
      "execution_count": null,
      "outputs": []
    },
    {
      "cell_type": "markdown",
      "source": [
        "Question 4--\n",
        "\n",
        "Given a sorted array of distinct integers and a target value, return the index if the\n",
        "target is found. If not, return the index where it would be if it were inserted in\n",
        "order.\n",
        "\n",
        "You must write an algorithm with O(log n) runtime complexity.\n",
        "\n",
        "Example 1:\n",
        "Input: nums = [1,3,5,6], target = 5\n",
        "Output: 2"
      ],
      "metadata": {
        "id": "Hz830WBDE5fL"
      }
    },
    {
      "cell_type": "code",
      "source": [
        "class Solution:\n",
        "    def searchInsert(self, nums: List[int], target: int) -> int:\n",
        "        n = len(nums)\n",
        "        start = 0\n",
        "        end = n-1\n",
        "\n",
        "        while (start<=end):\n",
        "            mid = start+(end-start)//2\n",
        "            if nums[mid]==target:\n",
        "                return mid\n",
        "            elif(target>nums[mid]):\n",
        "                start=mid+1\n",
        "            else:\n",
        "                end = mid-1\n",
        "\n",
        "        return end+1\n",
        "\n",
        "\n"
      ],
      "metadata": {
        "id": "gXf-QN1QFFTY"
      },
      "execution_count": null,
      "outputs": []
    },
    {
      "cell_type": "markdown",
      "source": [
        "<aside>\n",
        "💡 **Question 4**---\n",
        "\n",
        "Given a sorted array of distinct integers and a target value, return the index if the\n",
        "target is found. If not, return the index where it would be if it were inserted in\n",
        "order.\n",
        "\n",
        "You must write an algorithm with O(log n) runtime complexity.\n",
        "\n",
        "**Example 1:**\n",
        "Input: nums = [1,3,5,6], target = 5\n",
        "Output: 2\n",
        "\n",
        "</aside>\n",
        "\n",
        "<aside>\n",
        "💡 **Question 5**\n",
        "You are given a large integer represented as an integer array digits, where each\n",
        "digits[i] is the ith digit of the integer. The digits are ordered from most significant\n",
        "to least significant in left-to-right order. The large integer does not contain any\n",
        "leading 0's.\n",
        "\n",
        "Increment the large integer by one and return the resulting array of digits.\n",
        "\n",
        "**Example 1:**\n",
        "Input: digits = [1,2,3]\n",
        "Output: [1,2,4]\n",
        "\n",
        "**Explanation:** The array represents the integer 123.\n",
        "Incrementing by one gives 123 + 1 = 124.\n",
        "Thus, the result should be [1,2,4].\n",
        "\n",
        "</aside>"
      ],
      "metadata": {
        "id": "7iV0qMz4FIJ7"
      }
    },
    {
      "cell_type": "code",
      "source": [
        "class Solution:\n",
        "    def plusOne(self, digits: List[int]) -> List[int]:\n",
        "        s = [str(i) for i in digits]\n",
        "\n",
        "\n",
        "        # Join list items using join()\n",
        "        res = int(\"\".join(s))+1\n",
        "\n",
        "        ans = []\n",
        "        while(res!=0):\n",
        "            lu = res%10\n",
        "\n",
        "            ans.append(lu)\n",
        "            res=res//10\n",
        "        ans.reverse()\n",
        "        return(ans)\n",
        "\n"
      ],
      "metadata": {
        "id": "boL-MoKzFNvn"
      },
      "execution_count": null,
      "outputs": []
    },
    {
      "cell_type": "markdown",
      "source": [
        "Question 6---\n",
        "\n",
        "Given a non-empty array of integers nums, every element appears twice except\n",
        "for one. Find that single one.\n",
        "\n",
        "You must implement a solution with a linear runtime complexity and use only\n",
        "constant extra space.\n",
        "\n",
        "Example 1:\n",
        "Input: nums = [2,2,1]\n",
        "Output: 1"
      ],
      "metadata": {
        "id": "8f1whFkVFfen"
      }
    },
    {
      "cell_type": "code",
      "source": [
        "class Solution:\n",
        "    def singleNumber(self, nums: List[int]) -> int:\n",
        "        freq= Counter(nums)\n",
        "        for i,j in freq.items():\n",
        "            if j == 1:\n",
        "                return i"
      ],
      "metadata": {
        "id": "IuGrkbu9FhtA"
      },
      "execution_count": null,
      "outputs": []
    },
    {
      "cell_type": "markdown",
      "source": [
        "Question 7--\n",
        "\n",
        "You are given an inclusive range [lower, upper] and a sorted unique integer array\n",
        "nums, where all elements are within the inclusive range.\n",
        "\n",
        "A number x is considered missing if x is in the range [lower, upper] and x is not in\n",
        "nums.\n",
        "\n",
        "Return the shortest sorted list of ranges that exactly covers all the missing\n",
        "numbers. That is, no element of nums is included in any of the ranges, and each\n",
        "missing number is covered by one of the ranges.\n",
        "\n",
        "Example 1:\n",
        "Input: nums = [0,1,3,50,75], lower = 0, upper = 99\n",
        "Output: [[2,2],[4,49],[51,74],[76,99]]\n",
        "\n",
        "Explanation: The ranges are:\n",
        "[2,2]\n",
        "[4,49]\n",
        "[51,74]\n",
        "[76,99]"
      ],
      "metadata": {
        "id": "utNMh1VEI1st"
      }
    },
    {
      "cell_type": "code",
      "source": [
        "nums = [0,1,3,50,75]\n",
        "lower = 0\n",
        "upper=99\n",
        "n = len(nums)\n",
        "ans = []\n",
        "for i in range(n-1):\n",
        "  if nums[i] ==nums[i+1]-1:\n",
        "    continue\n",
        "  lu = []\n",
        "  lu.append(nums[i]+1)\n",
        "  lu.append(nums[i+1]-1)\n",
        "  ans.append(lu)\n",
        "last = []\n",
        "last.append(nums[i+1]+1)\n",
        "last.append(upper)\n",
        "ans.append(last)\n",
        "\n",
        "print(ans)"
      ],
      "metadata": {
        "id": "a7z9RTn7I5ET",
        "colab": {
          "base_uri": "https://localhost:8080/"
        },
        "outputId": "8151b25f-b35f-47c7-be8a-e5a86969fb95"
      },
      "execution_count": 6,
      "outputs": [
        {
          "output_type": "stream",
          "name": "stdout",
          "text": [
            "[[2, 2], [4, 49], [51, 74], [76, 99]]\n"
          ]
        }
      ]
    },
    {
      "cell_type": "markdown",
      "source": [
        ":Question 8---\n",
        "\n",
        "Given an array of meeting time intervals where intervals[i] = [starti, endi],\n",
        "determine if a person could attend all meetings.\n",
        "\n",
        "Example 1:\n",
        "Input: intervals = [[0,30],[5,10],[15,20]]\n",
        "Output: false"
      ],
      "metadata": {
        "id": "3p9P6tYfoFvm"
      }
    },
    {
      "cell_type": "code",
      "source": [
        "intervals =  [[0,30],[5,10],[15,20]]\n",
        "\n",
        "intervals.sort(key = lambda x: x[1])\n",
        "print(intervals)\n",
        "n = len(intervals)\n",
        "\n",
        "for i in range(n-1):\n",
        "    if intervals[i][0]<intervals[i+1][0]  and intervals[i][1]<intervals[i+1][1]:\n",
        "        ans = True\n",
        "    else:\n",
        "        ans = False\n",
        "        break\n",
        "print(ans)\n",
        ""
      ],
      "metadata": {
        "id": "taiQOzC9onUB"
      },
      "execution_count": null,
      "outputs": []
    }
  ]
}